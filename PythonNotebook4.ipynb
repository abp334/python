{
 "cells": [
  {
   "cell_type": "code",
   "execution_count": 5,
   "metadata": {},
   "outputs": [
    {
     "name": "stdout",
     "output_type": "stream",
     "text": [
      "X 9 Y 35\n",
      "X 3 Y 27\n",
      "X 18 Y 124\n",
      "X 2.0 Y 7.75\n",
      "X 2 Y 7\n",
      "X 0 Y 3\n",
      "X 216 Y 923521\n",
      "X True Y True\n",
      "X False Y False\n",
      "X True Y True\n",
      "X False Y False\n",
      "X True Y True\n"
     ]
    }
   ],
   "source": [
    "#Operator overriding\n",
    "# class Demo:\n",
    "#     def add(self,n1,n2):\n",
    "#         print(n1+n2)\n",
    "#     def add(self,n1,n2,n3):\n",
    "#         print(n1+n2+n3)\n",
    "# d=Demo()\n",
    "# d.add(15,20,30)\n",
    "\n",
    "#Operator overloading\n",
    "class Demo:\n",
    "    def __init__(self,x,y):\n",
    "        self.x=x\n",
    "        self.y=y\n",
    "    def __str__(self):\n",
    "        return \"X \"+str(self.x)+\" Y \"+str(self.y)  \n",
    "    def __add__(self,other):\n",
    "        x=self.x+other.x\n",
    "        y=self.y+other.y\n",
    "        return Demo(x,y)\n",
    "    def __sub__(self,other):\n",
    "        x=self.x-other.x\n",
    "        y=self.y-other.y\n",
    "        return Demo(x,y)\n",
    "    def __mul__(self,other):\n",
    "        x=self.x*other.x\n",
    "        y=self.y*other.y\n",
    "        return Demo(x,y)\n",
    "    def __truediv__(self,other):\n",
    "        x=self.x/other.x\n",
    "        y=self.y/other.y\n",
    "        return Demo(x,y)\n",
    "    def __floordiv__(self,other):\n",
    "        x=self.x//other.x\n",
    "        y=self.y//other.y\n",
    "        return Demo(x,y)\n",
    "    def __mod__(self,other):\n",
    "        x=self.x%other.x\n",
    "        y=self.y%other.y\n",
    "        return Demo(x,y)\n",
    "    def __pow__(self,other):\n",
    "        x=self.x**other.x\n",
    "        y=self.y**other.y\n",
    "        return Demo(x,y)\n",
    "    def __lt__(self,other):\n",
    "        x=self.x<other.x\n",
    "        y=self.y<other.y\n",
    "        return Demo(x,y)\n",
    "    def __gt__(self,other):\n",
    "        x=self.x>other.x\n",
    "        y=self.y>other.y\n",
    "        return Demo(x,y)\n",
    "    def __ge__(self,other):\n",
    "        x=self.x>=other.x\n",
    "        y=self.y>=other.y\n",
    "        return Demo(x,y)\n",
    "    def __le__(self,other):\n",
    "        x=self.x<=other.x\n",
    "        y=self.y<=other.y\n",
    "        return Demo(x,y)\n",
    "    def __ne__(self,other):\n",
    "        x=self.x!=other.x\n",
    "        y=self.y!=other.y\n",
    "        return Demo(x,y)\n",
    "    def __eq__(self,other):\n",
    "        x=self.x==other.x\n",
    "        y=self.y==other.y\n",
    "        return Demo(x,y)\n",
    "d=Demo(6,31)\n",
    "d1=Demo(3,4)\n",
    "print(d+d1)\n",
    "print(d-d1)\n",
    "print(d*d1)\n",
    "print(d/d1)\n",
    "print(d//d1)\n",
    "print(d%d1)\n",
    "print(d**d1)\n",
    "print(d>d1)\n",
    "print(d<d1)\n",
    "print(d>=d1)\n",
    "print(d<=d1)\n",
    "print(d!=d1)\n",
    "# sub subtract\n",
    "# mul multiply\n",
    "# truediv  true division\n",
    "# floordiv  floor division\n",
    "# mod\n",
    "# pow\n",
    "# lt for less than\n",
    "# gt for greater than\n",
    "# ge for greater than and equals to\n",
    "# le for less than and equals to\n",
    "# ne not equals to\n",
    "# eq for double equals to"
   ]
  },
  {
   "cell_type": "code",
   "execution_count": 7,
   "metadata": {},
   "outputs": [
    {
     "name": "stdout",
     "output_type": "stream",
     "text": [
      "Both are equals\n"
     ]
    }
   ],
   "source": [
    "#create class student with following attributes rollNo name age and total marks\n",
    "#create suitable methods for reading and printing members variables \n",
    "#wap to overload == equal operator to print the details of students having same marks\n",
    "class Student:\n",
    "    def __init__(self,roll,name,age,marks):\n",
    "        self.roll=roll\n",
    "        self.name=name\n",
    "        self.age=age\n",
    "        self.marks=marks\n",
    "    def display(self):\n",
    "        print(self.roll)\n",
    "        print(self.name)\n",
    "        print(self.age)\n",
    "        print(self.marks)\n",
    "    def __eq__(self,other):\n",
    "        return self.marks==other.marks\n",
    "s=Student(14,\"Sahil\",20,95)\n",
    "s1=Student(30,\"Sujal\",20,95)\n",
    "if(s==s1):\n",
    "    print(\"Both are equals\")\n",
    "else:\n",
    "    print(\"Bot are not equal\")"
   ]
  },
  {
   "cell_type": "code",
   "execution_count": 8,
   "metadata": {},
   "outputs": [
    {
     "name": "stdout",
     "output_type": "stream",
     "text": [
      "A\n"
     ]
    }
   ],
   "source": [
    "#types of inheritance\n",
    "#1 Simple inheritance\n",
    "# class Parent:\n",
    "#     def f1(self):\n",
    "#         print(\"hello parent\")\n",
    "# class child(Parent):\n",
    "#     def f2(self):\n",
    "#         print(\"hello Child\")\n",
    "# c=child()\n",
    "# c.f2()\n",
    "\n",
    "#2 Multiple Inheritance\n",
    "# class Parent:\n",
    "#     def f1(self):\n",
    "#         print(\"Parent 1\")\n",
    "# class Parent1:\n",
    "#     def f2(self):\n",
    "#         print(\"Parent 2\")\n",
    "# class Parent2:\n",
    "#     def f2(self):\n",
    "#         print(\"Parent 3\")\n",
    "# class Child(Parent,Parent1,Parent2):  #Jo parent phele order me milega ussika method print karayega \n",
    "#     def f3(self):\n",
    "#         print(\"Child\")\n",
    "# c=Child()\n",
    "# c.f1()\n",
    "# c.f2()\n",
    "# print(Child.__mro__)\n",
    "\n",
    "#Multilevel Inheritance -\n",
    "# class GrandParent:\n",
    "#     def f1(self):\n",
    "#         print(\"Grand Parent\")\n",
    "# class Parent(GrandParent):\n",
    "#     def f2(self):\n",
    "#         print(\"Parent\")\n",
    "# class Child(Parent):\n",
    "#     def f3(self):\n",
    "#         print(\"Child\")\n",
    "# c=Child()\n",
    "# c.f1()\n",
    "\n",
    "#Hierarchical Inheritance\n",
    "# class Parent:\n",
    "#     def f1(self):\n",
    "#         print(\"Parent\")\n",
    "# class Child1(Parent):\n",
    "#     def f2(self):\n",
    "#         print(\"Child 1\")\n",
    "# class Child2(Parent):\n",
    "#     def f3(self):\n",
    "#         print(\"Child 2\")\n",
    "# c=Child2()\n",
    "# c.f3()\n",
    "\n",
    "#Hybrid Inheritance\n",
    "# class Parent:\n",
    "#     def f1(self):\n",
    "#         print(\"Parent 1\")\n",
    "# class Child(Parent):\n",
    "#     def f2(self):\n",
    "#         print(\"Child \")\n",
    "# class Parent1:\n",
    "#     def f3(self):\n",
    "#         print(\"Parent 2\")\n",
    "# class Child1(child,Parent1):\n",
    "#     def f4(self):\n",
    "#         print(\"Child 2\")\n",
    "# c=Child1()\n",
    "# c.f1()\n",
    "\n",
    "#Diamond Inheritance\n",
    "class A:\n",
    "    def f1(self):\n",
    "        print(\"A\")\n",
    "class B(A):\n",
    "    def f2(self):\n",
    "        print(\"B\")\n",
    "class C(A):\n",
    "    def f3(self):\n",
    "        print(\"C\")\n",
    "class D(B,C):\n",
    "    def f4(self):\n",
    "        print(\"D\")\n",
    "d=D()\n",
    "d.f1()"
   ]
  },
  {
   "cell_type": "code",
   "execution_count": 9,
   "metadata": {},
   "outputs": [
    {
     "name": "stdout",
     "output_type": "stream",
     "text": [
      "(2, 2)\n"
     ]
    }
   ],
   "source": [
    "#WAPP That has class Point and location as Child class of point find reflection of point about x axis\n",
    "#reflection method define in location class\n",
    "class Point:\n",
    "    def __init__(self,x,y):\n",
    "        self.x=x\n",
    "        self.y=y\n",
    "class Location(Point):\n",
    "    def reflection(self):\n",
    "        return self.x ,0-self.y\n",
    "l=Location(2,-2)\n",
    "print(l.reflection())"
   ]
  },
  {
   "cell_type": "code",
   "execution_count": 10,
   "metadata": {},
   "outputs": [
    {
     "name": "stdout",
     "output_type": "stream",
     "text": [
      "Parent 1\n",
      "Parent 2\n",
      "(<class '__main__.Child'>, <class '__main__.Parent'>, <class '__main__.Parent1'>, <class '__main__.Parent2'>, <class 'object'>)\n"
     ]
    }
   ],
   "source": [
    "class Parent:\n",
    "    def f1(self):\n",
    "        print(\"Parent 1\")\n",
    "class Parent1():\n",
    "    def f2(self):\n",
    "        print(\"Parent 2\")\n",
    "class Parent2():\n",
    "    def f3(self):\n",
    "        print(\"Parent 3\")\n",
    "class Child(Parent,Parent1,Parent2):  #Jo parent phele order me milega ussika method print karayega \n",
    "    def f4(self):\n",
    "        print(\"Child\")\n",
    "c=Child()\n",
    "c.f1()\n",
    "c.f2()\n",
    "print(Child.__mro__)\n"
   ]
  },
  {
   "cell_type": "code",
   "execution_count": 11,
   "metadata": {},
   "outputs": [
    {
     "name": "stdout",
     "output_type": "stream",
     "text": [
      "Hello Parent\n",
      "Hello Child\n"
     ]
    }
   ],
   "source": [
    "class Parent:\n",
    "    def display(self):\n",
    "        print(\"Hello Parent\")\n",
    "class Child(Parent):\n",
    "    def display(self):\n",
    "        super().display()\n",
    "        print(\"Hello Child\")\n",
    "c = Child()\n",
    "c.display()"
   ]
  },
  {
   "cell_type": "code",
   "execution_count": 14,
   "metadata": {},
   "outputs": [
    {
     "name": "stdout",
     "output_type": "stream",
     "text": [
      "Name: ABP\n",
      "Salary: 100000\n",
      "Subject: Physics\n",
      "Name: Hitesh\n",
      "Salary: 10\n",
      "Department: Cleaning\n"
     ]
    }
   ],
   "source": [
    "# Implement the following heirarchy create class called staff having name and salary as its attribute\n",
    "# Derived class teaching has subject name as its attribute and non teaching class department name as its attribute\n",
    "# the derive class methods override the methods of the base class\n",
    "class Staff:\n",
    "    def __init__(self,name,salary):\n",
    "        self.name = name\n",
    "        self.salary = salary\n",
    "    def display(self):\n",
    "        print(\"Name:\",self.name)\n",
    "        print(\"Salary:\",self.salary)\n",
    "class Teaching(Staff):\n",
    "    def __init__(self,name,salary,subject):\n",
    "        super().__init__(name,salary)\n",
    "        self.subject = subject\n",
    "    def display(self):\n",
    "        super().display()\n",
    "        print(\"Subject:\",self.subject)\n",
    "class NonTeaching(Staff):\n",
    "    def __init__(self,name,salary,department):\n",
    "        super().__init__(name,salary)\n",
    "        self.department = department\n",
    "    def display(self):\n",
    "        super().display()\n",
    "        print(\"Department:\",self.department)\n",
    "t = Teaching(\"ABP\",100000,\"Physics\")\n",
    "n = NonTeaching(\"Hitesh\",10,\"Cleaning\")\n",
    "t.display()\n",
    "n.display()"
   ]
  },
  {
   "cell_type": "code",
   "execution_count": 20,
   "metadata": {},
   "outputs": [
    {
     "name": "stdout",
     "output_type": "stream",
     "text": [
      "Raj with rollno 101 has enrolled for FCSP-1 in CE department\n"
     ]
    }
   ],
   "source": [
    "# wap that has classes such as student,course,department,enroll and this should be displayed:\n",
    "#     Raj with roll no 101 has enrolled for fcsp-1 in ce department\n",
    "class Department(Course):\n",
    "    def __init__(self,dept):\n",
    "        self.dept = dept\n",
    "class Course(Department):\n",
    "    def __init__(self,course,dept):\n",
    "        super().__init__(dept)\n",
    "        self.course = course\n",
    "class Student:\n",
    "    def __init__(self,name,rollno):\n",
    "        self.name = name\n",
    "        self.rollno = rollno\n",
    "class Enroll(Student,Course):\n",
    "    def __init__(self,name,rollno,course,dept):\n",
    "        Student.__init__(self,name,rollno)\n",
    "        Course.__init__(self,course,dept)\n",
    "    def display(self):\n",
    "        print(f\"{self.name} with rollno {self.rollno} has enrolled for {self.course} in {self.dept} department\")\n",
    "e = Enroll(\"Raj\",\"101\",\"FCSP-1\",\"CE\")\n",
    "e.display()"
   ]
  },
  {
   "cell_type": "code",
   "execution_count": 6,
   "metadata": {},
   "outputs": [
    {
     "name": "stdout",
     "output_type": "stream",
     "text": [
      "Raj\n",
      "Sunny\n",
      "Mohan\n",
      "Sunny\n",
      "Mohan\n"
     ]
    }
   ],
   "source": [
    "# Create class called Stduent having name and email as its attribute\n",
    "# create another class called PHDguide should have 4 methods\n",
    "# constructor,display,add,remove\n",
    "# In phd class having name email and student as its attributes\n",
    "class Student:\n",
    "    def __init__(self,name,email):\n",
    "        self.name = name\n",
    "        self.email = email\n",
    "class PhdGuide:\n",
    "    def __init__(self):\n",
    "        self.l = []\n",
    "    def add(self,st):\n",
    "        self.l.append(st.name)\n",
    "    def remove(self,name):\n",
    "        self.l.remove(name)\n",
    "    def display(self):\n",
    "        for i in self.l:\n",
    "            print(i)\n",
    "a = Student(\"Raj\",\"raj@123\")\n",
    "b = Student(\"Sunny\",\"sunny@456\")\n",
    "c = Student(\"Mohan\",\"mohan@345\")\n",
    "p = PhdGuide()\n",
    "p.add(a)\n",
    "p.add(b)\n",
    "p.add(c)\n",
    "p.display()\n",
    "p.remove(\"Raj\")\n",
    "p.display()"
   ]
  },
  {
   "cell_type": "code",
   "execution_count": 12,
   "metadata": {},
   "outputs": [
    {
     "name": "stdout",
     "output_type": "stream",
     "text": [
      "[1 2 3 4]\n",
      "[[1 2]\n",
      " [3 4]\n",
      " [5 6]]\n",
      "[[[1 2]\n",
      "  [3 4]]\n",
      "\n",
      " [[5 6]\n",
      "  [7 8]]]\n",
      "[[[[[1 2 3 4]]]]]\n",
      "5\n"
     ]
    }
   ],
   "source": [
    "# Numpy arrays\n",
    "# create numpy\n",
    "import numpy as np\n",
    "a = np.array([1,2,3,4])\n",
    "print(a)\n",
    "#Dimension in array\n",
    "#0D Array Individual values are counted as 0d array\n",
    "#1D Array (above example is 1d array)\n",
    "#2D Array\n",
    "b = np.array([[1,2],[3,4],[5,6]])\n",
    "print(b)\n",
    "#3D Array\n",
    "c = np.array([[[1,2],[3,4]],[[5,6],[7,8]]])\n",
    "print(c)\n",
    "#Higher dimensional array\n",
    "d = np.array([1,2,3,4],ndmin= 5)\n",
    "print(d)\n",
    "print(d.ndim) #ndmin creates array of n dimensions and ndim returns number of dimensions of specific array"
   ]
  },
  {
   "cell_type": "code",
   "execution_count": 20,
   "metadata": {},
   "outputs": [
    {
     "name": "stdout",
     "output_type": "stream",
     "text": [
      "*********** 1D Array ***************\n",
      "[3 4 5]\n",
      "[5 6]\n",
      "[6 4 2]\n",
      "[6 4 2]\n",
      "*********** 2D Array ***************\n",
      "[7 8 9]\n",
      "[3 8]\n",
      "[[4 3 2]\n",
      " [9 8 7]]\n",
      "[[4 3 2]\n",
      " [9 8 7]]\n",
      "************ 3D Array ****************\n",
      "19 19\n",
      "[19 18]\n",
      "[[3 1]\n",
      " [7 5]]\n",
      "[[[10 12]\n",
      "  [14 16]]\n",
      "\n",
      " [[18 20]\n",
      "  [22 24]]]\n"
     ]
    }
   ],
   "source": [
    "#Numpy array slicing (the solutions obtained were the questions)\n",
    "import numpy as np\n",
    "a = np.array([1,2,3,4,5,6,7])\n",
    "print(\"*********** 1D Array ***************\")\n",
    "print(a[2:5])\n",
    "print(a[-3:-1])\n",
    "print(a[-2::-2])\n",
    "print(a[5::-2])\n",
    "print(\"*********** 2D Array ***************\")\n",
    "b = np.array([[1,2,3,4,5],[6,7,8,9,10]])\n",
    "print(b[1,1:4])\n",
    "print(b[:,2])\n",
    "print(b[:,-2:0:-1])\n",
    "print(b[:,3:0:-1])\n",
    "print(\"************ 3D Array ****************\")\n",
    "c = np.array([[[1,2,3,4,],[5,6,7,8]],[[9,10,11,12],[13,14,15,16]],[[17,18,19,20],[21,22,23,24]]])\n",
    "print(c[2,0,2],c[-1,-2,-2]) #can use various combination from both of these indexes eg. -1,0,2\n",
    "print(c[2,0,-2:-4:-1]) #also has various combinations you can use // check all the options thoroughly in exam\n",
    "print(c[0,:,-2::-2])\n",
    "print(c[1:,:,1::2])"
   ]
  },
  {
   "cell_type": "code",
   "execution_count": 59,
   "metadata": {},
   "outputs": [
    {
     "name": "stdout",
     "output_type": "stream",
     "text": [
      "(2, 3)\n",
      "[[ 1  2  3  4  5  6]\n",
      " [ 7  8  9 10 11 12]]\n",
      "[[[ 1  2]\n",
      "  [ 3  4]]\n",
      "\n",
      " [[ 5  6]\n",
      "  [ 7  8]]\n",
      "\n",
      " [[ 9 10]\n",
      "  [11 12]]]\n",
      "[ 1  2  3  4  5  6  7  8  9 10 11 12]\n",
      "[1 2 3 4 5 6 7 8]\n",
      "[[1 2]\n",
      " [3 4]\n",
      " [5 6]\n",
      " [7 8]]\n",
      "[[1 2 5 6]\n",
      " [3 4 7 8]]\n",
      "[[[ 1  2  3  4]\n",
      "  [ 5  6  7  8]]\n",
      "\n",
      " [[ 9 10 11 12]\n",
      "  [13 14 15 16]]\n",
      "\n",
      " [[17 18 19 20]\n",
      "  [21 22 23 24]]\n",
      "\n",
      " [[25 26 27 28]\n",
      "  [29 30 31 32]]]\n",
      "[[[ 1  2  3  4]\n",
      "  [ 5  6  7  8]\n",
      "  [17 18 19 20]\n",
      "  [21 22 23 24]]\n",
      "\n",
      " [[ 9 10 11 12]\n",
      "  [13 14 15 16]\n",
      "  [25 26 27 28]\n",
      "  [29 30 31 32]]]\n",
      "[[[ 1  2  3  4 17 18 19 20]\n",
      "  [ 5  6  7  8 21 22 23 24]]\n",
      "\n",
      " [[ 9 10 11 12 25 26 27 28]\n",
      "  [13 14 15 16 29 30 31 32]]]\n",
      "[array([1, 2]), array([3, 4]), array([5, 6])]\n",
      "[array([[ 1],\n",
      "       [ 3],\n",
      "       [ 5],\n",
      "       [ 7],\n",
      "       [ 9],\n",
      "       [11]]), array([[ 2],\n",
      "       [ 4],\n",
      "       [ 6],\n",
      "       [ 8],\n",
      "       [10],\n",
      "       [12]]), array([], shape=(6, 0), dtype=int32)]\n"
     ]
    }
   ],
   "source": [
    "#numpy array shape\n",
    "import numpy as np\n",
    "a = np.array([[1,2,3],[4,5,6]])\n",
    "print(a.shape)\n",
    "#numpy array reshaping\n",
    "#reshape from 1d to 2d\n",
    "b = np.array([1,2,3,4,5,6,7,8,9,10,11,12])\n",
    "c = b.reshape(2,6) # multiplication of both the values should be equal to length of original array. Format is (rows,cols)\n",
    "print(c)\n",
    "#unknown dimension\n",
    "d = b.reshape(3,2,-1) # when one dimension is not known, -1 is used so the method finds the remaining dimension on its own\n",
    "print(d)\n",
    "#flattening the array\n",
    "e = np.array([[[1,2,3],[4,5,6]],[[7,8,9],[10,11,12]]])\n",
    "print(e.reshape(-1))\n",
    "#concatenating 1d array\n",
    "a1 = np.array([1,2,3,4])\n",
    "a2 = np.array([5,6,7,8])\n",
    "print(np.concatenate((a1,a2)))\n",
    "#concatenating 2d array\n",
    "a3 = np.array([[1,2],[3,4]])\n",
    "a4 = np.array([[5,6],[7,8]])\n",
    "print(np.concatenate((a3,a4),axis=0))\n",
    "print(np.concatenate((a3,a4),axis=1))\n",
    "#concatenating 3d array\n",
    "a5 = np.array([[[1,2,3,4],[5,6,7,8]],[[9,10,11,12],[13,14,15,16]]])\n",
    "a6 = np.array([[[17,18,19,20],[21,22,23,24]],[[25,26,27,28],[29,30,31,32]]])\n",
    "print(np.concatenate((a5,a6),axis=0))\n",
    "print(np.concatenate((a5,a6),axis=1))\n",
    "print(np.concatenate((a5,a6),axis=2))\n",
    "#numpy splitting array\n",
    "a7 = np.array([1,2,3,4,5,6])\n",
    "print(np.array_split(a7,3))\n",
    "#splitting 2d array\n",
    "a8 = np.array([[1,2],[3,4],[5,6],[7,8],[9,10],[11,12]])\n",
    "print(np.array_split(a8,3,axis = 1))"
   ]
  },
  {
   "cell_type": "code",
   "execution_count": 72,
   "metadata": {},
   "outputs": [
    {
     "name": "stdout",
     "output_type": "stream",
     "text": [
      "(array([0], dtype=int64),)\n",
      "(array([0, 1, 5], dtype=int64),)\n",
      "(array([2, 4, 6, 7], dtype=int64),)\n",
      "[0 1 2 3]\n",
      "[3 2 1 0]\n",
      "['b' 'c' 'q']\n",
      "[False  True  True]\n",
      "[[2 3 4]\n",
      " [0 1 5]]\n",
      "[[4 3 2]\n",
      " [5 1 0]]\n",
      "[[[2 3 4]\n",
      "  [0 1 5]]\n",
      "\n",
      " [[1 2 3]\n",
      "  [0 3 5]]]\n"
     ]
    }
   ],
   "source": [
    "# Where function (Returns index number of element in array)\n",
    "a = np.array([1,2,3,4,5,6,7,8,9])\n",
    "print(np.where(a==1))\n",
    "a = np.array([1,1,2,3,4,1,4,6])\n",
    "print(np.where(a==1))\n",
    "print(np.where(a%2 == 0))\n",
    "#numpy sorting array\n",
    "#sorting 1d array\n",
    "a = np.array([3,2,0,1])\n",
    "print(np.sort(a))\n",
    "print(np.sort(a)[::-1])\n",
    "a = np.array([\"q\",\"c\",\"b\"])\n",
    "print(np.sort(a))\n",
    "a = np.array([True,False,True])\n",
    "print(np.sort(a))\n",
    "a = np.array([[3,2,4],[5,0,1]])\n",
    "print(np.sort(a))\n",
    "print(np.sort(a)[:,::-1])\n",
    "a = np.array([[[3,2,4],[5,0,1]],[[3,1,2],[5,0,3]]])\n",
    "print(np.sort(a))"
   ]
  },
  {
   "cell_type": "code",
   "execution_count": 81,
   "metadata": {},
   "outputs": [
    {
     "name": "stdout",
     "output_type": "stream",
     "text": [
      "[-17.77777778 -11.11111111   0.           1.11111111   7.33888889\n",
      "  37.72777778]\n",
      "(array([2], dtype=int64),)\n"
     ]
    }
   ],
   "source": [
    "# wap to convert the value of farenheit degrees into celcius degrees the array to be considered is for farenheit value:\n",
    "#     [0,12,45.21,34,99.91,32]\n",
    "# after converting numpy array into celcius, sort the array and find the position of 0.0.\n",
    "import numpy as np\n",
    "f = np.array([0,12,45.21,34,99.91,32])\n",
    "c = (5/9)*(f-32)\n",
    "x = np.sort(c)\n",
    "print(x)\n",
    "print(np.where(x==0.0))"
   ]
  },
  {
   "cell_type": "code",
   "execution_count": 83,
   "metadata": {},
   "outputs": [
    {
     "name": "stdout",
     "output_type": "stream",
     "text": [
      "[[15 21]\n",
      " [39 45]]\n"
     ]
    }
   ],
   "source": [
    "# wap to return odd rows and even columns from below numpy array\n",
    "import numpy as np\n",
    "a = np.array([[3,6,9,12],[15,18,21,24],[27,30,33,36],[39,42,45,48],[51,54,57,60]])\n",
    "print(a[1::2,::2])"
   ]
  },
  {
   "cell_type": "code",
   "execution_count": 85,
   "metadata": {},
   "outputs": [
    {
     "name": "stdout",
     "output_type": "stream",
     "text": [
      "[[101 111]\n",
      " [121 131]\n",
      " [141 151]\n",
      " [161 171]\n",
      " [181 191]]\n"
     ]
    }
   ],
   "source": [
    "# create 5*2 array from range between  100 and 200 and difference between each element is 10\n",
    "import numpy as np\n",
    "a = np.arange(101,201,10)\n",
    "print(a.reshape(5,2))"
   ]
  },
  {
   "cell_type": "code",
   "execution_count": 1,
   "metadata": {},
   "outputs": [],
   "source": [
    "#Abstract Class\n",
    "#Syntax\n",
    "from abc import ABC,abstractmethod\n",
    "class Demo(ABC):\n",
    "    @abstractmethod\n",
    "    def abstract_method(self):\n",
    "        pass"
   ]
  },
  {
   "cell_type": "code",
   "execution_count": 3,
   "metadata": {},
   "outputs": [
    {
     "name": "stdout",
     "output_type": "stream",
     "text": [
      "This is Rectangle\n",
      "This is Circle\n"
     ]
    }
   ],
   "source": [
    "from abc import ABC,abstractmethod\n",
    "class Shape(ABC):\n",
    "    def __init__(self,shape_name):\n",
    "        self.shape_name = shape_name\n",
    "    @abstractmethod\n",
    "    def draw(self):\n",
    "        pass\n",
    "class Rectangle(Shape):\n",
    "    def __init__(self):\n",
    "        super().__init__(\"Rectangle\")\n",
    "    def draw(self):\n",
    "        print(\"This is\",self.shape_name)\n",
    "class Circle(Shape):\n",
    "    def __init__(self):\n",
    "        super().__init__(\"Circle\")\n",
    "    def draw(self):\n",
    "        print(\"This is\",self.shape_name)\n",
    "r = Rectangle()\n",
    "c = Circle()\n",
    "r.draw()\n",
    "c.draw()"
   ]
  },
  {
   "cell_type": "code",
   "execution_count": 4,
   "metadata": {},
   "outputs": [
    {
     "name": "stdout",
     "output_type": "stream",
     "text": [
      "12\n",
      "20\n",
      "25.132741228718345\n",
      "False\n",
      "(<class '__main__.Circle'>, <class '__main__.Shape'>, <class 'abc.ABC'>, <class 'object'>)\n"
     ]
    }
   ],
   "source": [
    "# Create an abstract class named shape. Create an abstract method named calculate_area. Create two classes named rectangle\n",
    "# and circle which inherits shape class. Create calculate_area method in rectangle class, it should return area of the\n",
    "# rectangle object. Create calculate_area method in circle class, it should return area of the circle object. The program\n",
    "# should also check whether the area of rectangle object is greater than another rectangle object by operator overloading\n",
    "#Execute method resolution order of the circle class\n",
    "from abc import ABC,abstractmethod\n",
    "import math\n",
    "class Shape(ABC):\n",
    "    @abstractmethod\n",
    "    def calculate_area(self):\n",
    "        pass\n",
    "class Rectangle(Shape):\n",
    "    def __init__(self,l,b):\n",
    "        self.l = l\n",
    "        self.b = b\n",
    "    def calculate_area(self):\n",
    "        return self.l*self.b\n",
    "    def __gt__(self,other):\n",
    "        return self.calculate_area() > other.calculate_area()\n",
    "class Circle(Shape):\n",
    "    def __init__(self,r):\n",
    "        self.r = r\n",
    "    def calculate_area(self):\n",
    "        return 2*math.pi*self.r\n",
    "r1 = Rectangle(3,4)\n",
    "c = Circle(4)\n",
    "r2 = Rectangle(4,5)\n",
    "print(r1.calculate_area())\n",
    "print(r2.calculate_area())\n",
    "print(c.calculate_area())\n",
    "print(r1>r2)\n",
    "print(Circle.__mro__)"
   ]
  },
  {
   "cell_type": "code",
   "execution_count": 8,
   "metadata": {},
   "outputs": [
    {
     "name": "stdout",
     "output_type": "stream",
     "text": [
      "Enter Employee ID: 1\n",
      "Enter Name: ABC\n",
      "Enter Salary: 35000\n",
      "Employee ID: 1\n",
      "Name: ABC\n",
      "Salary: 35000\n",
      "DA: 12250.0\n",
      "HRA: 5950.0\n",
      "PF: 4200.0\n",
      "Total Perks: 14000.0\n",
      "Net Salary: 49000.0\n"
     ]
    }
   ],
   "source": [
    "# wap to find the net salary of employee using inheritance. Create 3 classes employee, perks, net salary. Make employee\n",
    "# class as an abstract class, it should have method for following tasks:\n",
    "#     1)To get employee details like emp id, name, salary from user\n",
    "#     2)To print employee details\n",
    "#     3)Return salary\n",
    "#     4)Define an abstract method employee_id\n",
    "# Perks class should have method for following tasks:\n",
    "#     1)To calculate DA,HRA and PF (all calculated using base salary)\n",
    "#     2)To print individual and total perks\n",
    "# Net Salary should have following tasks:\n",
    "#     1)Calculate total salary after perks\n",
    "#     2)Print employee detail with da,hra,pf and net salary\n",
    "#     note: da is 35%, hra is 17% and pf is 12%\n",
    "from abc import ABC,abstractmethod\n",
    "class Employee(ABC):\n",
    "    def __init__(self):\n",
    "        self.emp_id = int(input(\"Enter Employee ID: \"))\n",
    "        self.name = input(\"Enter Name: \")\n",
    "        self.salary = int(input(\"Enter Salary: \"))\n",
    "    def employee_details(self):\n",
    "        print(\"Employee ID:\",self.emp_id)\n",
    "        print(\"Name:\",self.name)\n",
    "        print(\"Salary:\",self.salary)\n",
    "    def salary_detail(self):\n",
    "        return self.salary\n",
    "    @abstractmethod\n",
    "    def employee_id(self):\n",
    "        pass\n",
    "class Perks(Employee):\n",
    "    def __init__(self):\n",
    "        super().__init__()\n",
    "        self.da = self.hra = self.pf = 0\n",
    "    def calculate_perks(self):\n",
    "        self.da = self.salary*0.35\n",
    "        self.hra = self.salary*0.17\n",
    "        self.pf = self.salary*0.12\n",
    "    def display_perks(self):\n",
    "        self.calculate_perks()\n",
    "        super().employee_details()\n",
    "        print(\"DA:\",self.da)\n",
    "        print(\"HRA:\",self.hra)\n",
    "        print(\"PF:\",self.pf)\n",
    "        print(\"Total Perks:\",(self.da+self.hra-self.pf))\n",
    "    def employee_id(self):\n",
    "        return self.emp_id\n",
    "class Net_Salary(Perks):\n",
    "    def __init__(self):\n",
    "        super().__init__()\n",
    "    def totalsal(self):\n",
    "        return self.salary+self.da+self.hra-self.pf\n",
    "    def employee_details(self):\n",
    "        super().display_perks()\n",
    "        print(\"Net Salary:\",self.totalsal())\n",
    "n = Net_Salary()\n",
    "n.employee_details()"
   ]
  },
  {
   "cell_type": "code",
   "execution_count": 14,
   "metadata": {},
   "outputs": [
    {
     "name": "stdout",
     "output_type": "stream",
     "text": [
      "Vehicle: Bus\n",
      "Mileage: 20\n",
      "Seating Capacity: 100\n",
      "Fare: 11000.0\n",
      "Vehicle: Car\n",
      "Mileage: 15\n",
      "Seating Capacity: 5\n",
      "Fare: 500\n"
     ]
    }
   ],
   "source": [
    "# wap to create bus child class that inherits from the vehicle class. In vehicle class vehicle name, mileage, seating\n",
    "# capacity as its data member. The default fare charge of any vehicle is seating capacity*100. If vehicle is bus instance\n",
    "# we need to extra 10% on full fare as a maintainance charge.\n",
    "class Vehicle:\n",
    "    def __init__(self,name,mileage,cap):\n",
    "        self.name = name\n",
    "        self.mileage = mileage\n",
    "        self.cap = cap\n",
    "        self.fare = self.cap*100\n",
    "    def fare_rate(self):\n",
    "        if self.name == \"Bus\":\n",
    "            return self.fare+self.fare*0.1\n",
    "        return self.fare\n",
    "    def display(self):\n",
    "        print(\"Vehicle:\",self.name)\n",
    "        print(\"Mileage:\",self.mileage)\n",
    "        print(\"Seating Capacity:\",self.cap)\n",
    "        print(\"Fare:\",self.fare_rate())\n",
    "class Bus(Vehicle):\n",
    "    def __init__(self,mileage,cap):\n",
    "        super().__init__(\"Bus\",mileage,cap)\n",
    "v = Vehicle(\"Car\",15,5)\n",
    "b = Bus(20,100)\n",
    "b.display()\n",
    "v.display()"
   ]
  },
  {
   "cell_type": "code",
   "execution_count": null,
   "metadata": {},
   "outputs": [],
   "source": []
  }
 ],
 "metadata": {
  "kernelspec": {
   "display_name": "Python 3",
   "language": "python",
   "name": "python3"
  },
  "language_info": {
   "codemirror_mode": {
    "name": "ipython",
    "version": 3
   },
   "file_extension": ".py",
   "mimetype": "text/x-python",
   "name": "python",
   "nbconvert_exporter": "python",
   "pygments_lexer": "ipython3",
   "version": "3.8.5"
  }
 },
 "nbformat": 4,
 "nbformat_minor": 4
}
