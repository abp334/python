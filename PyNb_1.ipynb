{
 "cells": [
  {
   "cell_type": "code",
   "execution_count": 8,
   "metadata": {
    "scrolled": true
   },
   "outputs": [
    {
     "name": "stdout",
     "output_type": "stream",
     "text": [
      "\n",
      "Here is a list of the Python keywords.  Enter any keyword to get more help.\n",
      "\n",
      "False               class               from                or\n",
      "None                continue            global              pass\n",
      "True                def                 if                  raise\n",
      "and                 del                 import              return\n",
      "as                  elif                in                  try\n",
      "assert              else                is                  while\n",
      "async               except              lambda              with\n",
      "await               finally             nonlocal            yield\n",
      "break               for                 not                 \n",
      "\n"
     ]
    }
   ],
   "source": [
    "help('keywords')"
   ]
  },
  {
   "cell_type": "code",
   "execution_count": 9,
   "metadata": {},
   "outputs": [
    {
     "name": "stdout",
     "output_type": "stream",
     "text": [
      "<class 'str'>\n"
     ]
    }
   ],
   "source": [
    "a = \"hello\"\n",
    "print(type(a))"
   ]
  },
  {
   "cell_type": "code",
   "execution_count": 13,
   "metadata": {},
   "outputs": [
    {
     "name": "stdout",
     "output_type": "stream",
     "text": [
      "Hello \n",
      "World\n",
      "lets go!!!\n"
     ]
    }
   ],
   "source": [
    "a = '''Hello \n",
    "World\n",
    "lets go!!!'''\n",
    "print(a)"
   ]
  },
  {
   "cell_type": "code",
   "execution_count": 15,
   "metadata": {},
   "outputs": [
    {
     "name": "stdout",
     "output_type": "stream",
     "text": [
      "<class 'int'>\n"
     ]
    }
   ],
   "source": [
    "print(type(1))"
   ]
  },
  {
   "cell_type": "code",
   "execution_count": 16,
   "metadata": {},
   "outputs": [
    {
     "name": "stdout",
     "output_type": "stream",
     "text": [
      "<class 'float'>\n"
     ]
    }
   ],
   "source": [
    "print(type(1.5))"
   ]
  },
  {
   "cell_type": "code",
   "execution_count": 17,
   "metadata": {},
   "outputs": [
    {
     "name": "stdout",
     "output_type": "stream",
     "text": [
      "False\n"
     ]
    }
   ],
   "source": [
    "print(1>2)"
   ]
  },
  {
   "cell_type": "code",
   "execution_count": 18,
   "metadata": {},
   "outputs": [
    {
     "name": "stdout",
     "output_type": "stream",
     "text": [
      "True\n"
     ]
    }
   ],
   "source": [
    "print(1<=5)"
   ]
  },
  {
   "cell_type": "code",
   "execution_count": 19,
   "metadata": {},
   "outputs": [
    {
     "name": "stdout",
     "output_type": "stream",
     "text": [
      "True\n"
     ]
    }
   ],
   "source": [
    "print(bool('A'))"
   ]
  },
  {
   "cell_type": "code",
   "execution_count": 21,
   "metadata": {},
   "outputs": [
    {
     "name": "stdout",
     "output_type": "stream",
     "text": [
      "False\n"
     ]
    }
   ],
   "source": [
    "print(bool(\"\"))"
   ]
  },
  {
   "cell_type": "code",
   "execution_count": 22,
   "metadata": {},
   "outputs": [
    {
     "name": "stdout",
     "output_type": "stream",
     "text": [
      "True\n"
     ]
    }
   ],
   "source": [
    "print(bool(5))"
   ]
  },
  {
   "cell_type": "code",
   "execution_count": 23,
   "metadata": {},
   "outputs": [
    {
     "name": "stdout",
     "output_type": "stream",
     "text": [
      "True\n"
     ]
    }
   ],
   "source": [
    "print(bool(\" \"))"
   ]
  },
  {
   "cell_type": "code",
   "execution_count": 24,
   "metadata": {},
   "outputs": [
    {
     "name": "stdout",
     "output_type": "stream",
     "text": [
      "False\n"
     ]
    }
   ],
   "source": [
    "print(bool(0))"
   ]
  },
  {
   "cell_type": "code",
   "execution_count": 25,
   "metadata": {},
   "outputs": [
    {
     "name": "stdout",
     "output_type": "stream",
     "text": [
      "False\n"
     ]
    }
   ],
   "source": [
    "print(bool())"
   ]
  },
  {
   "cell_type": "code",
   "execution_count": 26,
   "metadata": {},
   "outputs": [
    {
     "name": "stdout",
     "output_type": "stream",
     "text": [
      "False\n"
     ]
    }
   ],
   "source": [
    "print(bool(0.0))"
   ]
  },
  {
   "cell_type": "code",
   "execution_count": 27,
   "metadata": {},
   "outputs": [
    {
     "name": "stdout",
     "output_type": "stream",
     "text": [
      "10 20 30\n"
     ]
    }
   ],
   "source": [
    "a,b,c = 10,20,30\n",
    "print(a,b,c)"
   ]
  },
  {
   "cell_type": "code",
   "execution_count": 28,
   "metadata": {},
   "outputs": [
    {
     "name": "stdout",
     "output_type": "stream",
     "text": [
      "20 20 20\n"
     ]
    }
   ],
   "source": [
    "a = b = c = 20\n",
    "print(a,b,c)"
   ]
  },
  {
   "cell_type": "code",
   "execution_count": 29,
   "metadata": {},
   "outputs": [
    {
     "name": "stdout",
     "output_type": "stream",
     "text": [
      "My name is PQR\n"
     ]
    }
   ],
   "source": [
    "name = 'PQR'\n",
    "print('My name is',name)"
   ]
  },
  {
   "cell_type": "code",
   "execution_count": 30,
   "metadata": {},
   "outputs": [
    {
     "name": "stdout",
     "output_type": "stream",
     "text": [
      "abcabcabcabcabcabcabcabcabcabcabcabcabcabcabcabcabcabcabcabcabcabcabcabcabcabcabcabcabcabc\n"
     ]
    }
   ],
   "source": [
    "print(30*'abc')"
   ]
  },
  {
   "cell_type": "code",
   "execution_count": 33,
   "metadata": {},
   "outputs": [
    {
     "name": "stdout",
     "output_type": "stream",
     "text": [
      "abcabcabcabcabcabcabcabcabcabcabcabcabcabcabcabcabcabcabcabcabcabcabcabcabcabcabcabcabcabc\n"
     ]
    }
   ],
   "source": [
    "print('abc'*30)"
   ]
  },
  {
   "cell_type": "code",
   "execution_count": 34,
   "metadata": {
    "scrolled": true
   },
   "outputs": [
    {
     "ename": "TypeError",
     "evalue": "unsupported operand type(s) for +: 'int' and 'str'",
     "output_type": "error",
     "traceback": [
      "\u001b[1;31m---------------------------------------------------------------------------\u001b[0m",
      "\u001b[1;31mTypeError\u001b[0m                                 Traceback (most recent call last)",
      "\u001b[1;32m<ipython-input-34-8b1dd8c91540>\u001b[0m in \u001b[0;36m<module>\u001b[1;34m\u001b[0m\n\u001b[1;32m----> 1\u001b[1;33m \u001b[0mprint\u001b[0m\u001b[1;33m(\u001b[0m\u001b[1;36m20\u001b[0m\u001b[1;33m+\u001b[0m\u001b[1;34m'xyz'\u001b[0m\u001b[1;33m)\u001b[0m\u001b[1;33m\u001b[0m\u001b[1;33m\u001b[0m\u001b[0m\n\u001b[0m",
      "\u001b[1;31mTypeError\u001b[0m: unsupported operand type(s) for +: 'int' and 'str'"
     ]
    }
   ],
   "source": [
    "print(20+'xyz')"
   ]
  },
  {
   "cell_type": "code",
   "execution_count": 35,
   "metadata": {},
   "outputs": [],
   "source": [
    "#To comment use this symbol"
   ]
  },
  {
   "cell_type": "code",
   "execution_count": 1,
   "metadata": {},
   "outputs": [
    {
     "name": "stdout",
     "output_type": "stream",
     "text": [
      "10 20\n"
     ]
    }
   ],
   "source": [
    "a = 10\n",
    "b = 20\n",
    "print(a,b)"
   ]
  },
  {
   "cell_type": "code",
   "execution_count": 3,
   "metadata": {},
   "outputs": [
    {
     "name": "stdout",
     "output_type": "stream",
     "text": [
      "Enter your name rohan\n",
      "rohan\n"
     ]
    }
   ],
   "source": [
    "a = input(\"Enter your name \")\n",
    "print(a)"
   ]
  },
  {
   "cell_type": "code",
   "execution_count": 7,
   "metadata": {},
   "outputs": [
    {
     "name": "stdout",
     "output_type": "stream",
     "text": [
      "Enter num12\n",
      "32.0\n"
     ]
    }
   ],
   "source": [
    "a = float(input(\"Enter num\"))\n",
    "print(a+20)"
   ]
  },
  {
   "cell_type": "code",
   "execution_count": 2,
   "metadata": {},
   "outputs": [
    {
     "data": {
      "text/plain": [
       "15"
      ]
     },
     "execution_count": 2,
     "metadata": {},
     "output_type": "execute_result"
    }
   ],
   "source": [
    "int(15.5)"
   ]
  },
  {
   "cell_type": "code",
   "execution_count": 1,
   "metadata": {},
   "outputs": [
    {
     "name": "stdout",
     "output_type": "stream",
     "text": [
      "17\n",
      "13\n",
      "30\n",
      "7.5\n",
      "1\n",
      "7\n",
      "225\n"
     ]
    }
   ],
   "source": [
    "# python operators\n",
    "# +\n",
    "# -\n",
    "# *\n",
    "# / (always returns in float)\n",
    "# %\n",
    "# // (returns in int eg. 15//2 = 7 (As 15/2 = 7.5))(returns float if any one argument is float but still the working is same eg. 15//2.0 = 7.0)\n",
    "# ** (power)\n",
    "a = 15\n",
    "b = 2\n",
    "print(a+b)\n",
    "print(a-b)\n",
    "print(a*b)\n",
    "print(a/b)\n",
    "print(a%b)\n",
    "print(a//b)\n",
    "print(a**b)"
   ]
  },
  {
   "cell_type": "code",
   "execution_count": 9,
   "metadata": {
    "scrolled": true
   },
   "outputs": [
    {
     "name": "stdout",
     "output_type": "stream",
     "text": [
      "False\n",
      "True\n",
      "True\n",
      "True\n",
      "False\n"
     ]
    }
   ],
   "source": [
    "# relational operators\n",
    "# <\n",
    "# <=\n",
    "# >\n",
    "# >=\n",
    "# ==\n",
    "# !=\n",
    "c = 'ABCD'\n",
    "d = 'BCD'\n",
    "print(c>d) #checks ascii value of first character (you can check by chr(int a) or ord(str a))\n",
    "d = 'ABC'\n",
    "print(c>d)\n",
    "print(True>=True)\n",
    "print(10>True) #Takes int value to compare\n",
    "print(10<20<30<40>50)\n"
   ]
  },
  {
   "cell_type": "code",
   "execution_count": 16,
   "metadata": {},
   "outputs": [
    {
     "name": "stdout",
     "output_type": "stream",
     "text": [
      "False\n",
      "True\n",
      "True\n",
      "0\n",
      "5\n"
     ]
    }
   ],
   "source": [
    "# logical operator\n",
    "# and\n",
    "# or\n",
    "# not\n",
    "print(True and False)\n",
    "print(True or False)\n",
    "print(not False)\n",
    "print(10 and 5) #if both arguments are true then it returns the last argument\n",
    "print(0 or 5)#same with this"
   ]
  },
  {
   "cell_type": "code",
   "execution_count": 1,
   "metadata": {},
   "outputs": [
    {
     "name": "stdout",
     "output_type": "stream",
     "text": [
      "15\n"
     ]
    }
   ],
   "source": [
    "# ternary operators\n",
    "# x = 1st value if condition else 2nd value\n",
    "a = 20\n",
    "b = 25\n",
    "x  = 30 if a>b else 15\n",
    "print(x)"
   ]
  },
  {
   "cell_type": "code",
   "execution_count": 8,
   "metadata": {},
   "outputs": [
    {
     "name": "stdout",
     "output_type": "stream",
     "text": [
      "True\n",
      "True\n",
      "True\n"
     ]
    }
   ],
   "source": [
    "# Assignment operators\n",
    "# =\n",
    "# +=\n",
    "# -=\n",
    "# *=\n",
    "# /=\n",
    "# %=\n",
    "# //=\n",
    "# **=\n",
    "# membership operators\n",
    "# in\n",
    "# not in\n",
    "x = 'Hello World'\n",
    "print('H' in x)\n",
    "print('World' in x)\n",
    "print('haha' not in x)"
   ]
  },
  {
   "cell_type": "code",
   "execution_count": 25,
   "metadata": {},
   "outputs": [
    {
     "name": "stdout",
     "output_type": "stream",
     "text": [
      "No of days 300\n",
      "0 year 10 month 0 days\n"
     ]
    }
   ],
   "source": [
    "days = int(input(\"No of days \"))\n",
    "year = days//365\n",
    "month = (days%365)//30\n",
    "days_r = (days%365)%30\n",
    "print(year,'year',month,'month',days_r,'days')"
   ]
  },
  {
   "cell_type": "code",
   "execution_count": 28,
   "metadata": {},
   "outputs": [
    {
     "name": "stdout",
     "output_type": "stream",
     "text": [
      "No of seconds 3600\n",
      "1 hours 0 minutes 0 seconds\n"
     ]
    }
   ],
   "source": [
    "seconds = int(input(\"No of seconds \"))\n",
    "hours = seconds//3600\n",
    "mins = (seconds%3600)//60\n",
    "sec = (seconds%3600)%60\n",
    "print(hours,'hours',mins,'minutes',sec,'seconds')"
   ]
  },
  {
   "cell_type": "code",
   "execution_count": 2,
   "metadata": {},
   "outputs": [
    {
     "name": "stdout",
     "output_type": "stream",
     "text": [
      "hello\n"
     ]
    }
   ],
   "source": [
    "# Operator precedence\n",
    "# Level    Operators   Associativity\n",
    "# 1           ()            \n",
    "\n",
    "# 2           **           R to L\n",
    "\n",
    "# 3         *,/,//,%       L to R\n",
    "\n",
    "# 4           +,-          L to R\n",
    "\n",
    "# 5        in,not in,      L to R\n",
    "#          <,>,<=,>=,\n",
    "#          ==,!=            \n",
    "\n",
    "# 6        not x           L to R\n",
    "# 7        and             L to R\n",
    "# 8        or              L to R\n",
    "# 9        if else         L to R\n"
   ]
  },
  {
   "cell_type": "code",
   "execution_count": 4,
   "metadata": {},
   "outputs": [
    {
     "name": "stdout",
     "output_type": "stream",
     "text": [
      "good morning\n"
     ]
    }
   ],
   "source": [
    "# 1)simple if\n",
    "# if(condition):\n",
    "#     statement\n",
    "x = 3\n",
    "if(x == 3):\n",
    "    print(\"good morning\")"
   ]
  },
  {
   "cell_type": "code",
   "execution_count": 6,
   "metadata": {},
   "outputs": [
    {
     "name": "stdout",
     "output_type": "stream",
     "text": [
      "Hi\n",
      "good morning\n"
     ]
    }
   ],
   "source": [
    "# 2)if else\n",
    "# if condition:\n",
    "#     statement\n",
    "# else condition:\n",
    "#     statement\n",
    "x = 2\n",
    "if x == 3:\n",
    "    print(\"Hello\")\n",
    "else:\n",
    "    print(\"Hi\")\n",
    "print(\"good morning\")"
   ]
  },
  {
   "cell_type": "code",
   "execution_count": 12,
   "metadata": {},
   "outputs": [
    {
     "name": "stdout",
     "output_type": "stream",
     "text": [
      "above ten\n",
      "above 20\n"
     ]
    }
   ],
   "source": [
    "# 3)if elif else\n",
    "# if condition:\n",
    "#     statement\n",
    "# elif condition:\n",
    "#     statement\n",
    "# else:\n",
    "#     statement\n",
    "\n",
    "# 4) nested if\n",
    "x = 40\n",
    "if x>10:\n",
    "    print(\"above ten\")\n",
    "    if x>20:\n",
    "        print(\"above 20\")\n",
    "    else:\n",
    "        print(\"below 20\")\n"
   ]
  },
  {
   "cell_type": "code",
   "execution_count": 16,
   "metadata": {},
   "outputs": [
    {
     "name": "stdout",
     "output_type": "stream",
     "text": [
      "Enter marks: -40\n",
      "enter proper data\n"
     ]
    }
   ],
   "source": [
    "# write python program to read marks from user and give grade according to following marks grade\n",
    "# 80-100 Distinction\n",
    "# 60-79 first class\n",
    "# 35-59 second class\n",
    "# 0-34 fail\n",
    "# -ve marks : enter proper data\n",
    "a = int(input(\"Enter marks: \"))\n",
    "if(a>=80 and a<=100):\n",
    "    print(\"Distinction\")\n",
    "elif(a>=60 and a<=79):\n",
    "    print(\"First class\")\n",
    "elif(a>=35 and a<=59):\n",
    "    print(\"Second class\")\n",
    "elif(a>=0 and a<=34):\n",
    "    print(\"Fail\")\n",
    "else:\n",
    "    print(\"Enter Proper Data\")"
   ]
  },
  {
   "cell_type": "code",
   "execution_count": 18,
   "metadata": {},
   "outputs": [
    {
     "name": "stdout",
     "output_type": "stream",
     "text": [
      "Enter Number: 61\n",
      "622383\n"
     ]
    }
   ],
   "source": [
    "# write a python program to read number n from user and compute n+nn+nnn\n",
    "n = input(\"Enter Number: \")\n",
    "print((int(n))+(int(n+n))+(int(n+n+n)))"
   ]
  },
  {
   "cell_type": "code",
   "execution_count": null,
   "metadata": {},
   "outputs": [
    {
     "ename": "",
     "evalue": "",
     "output_type": "error",
     "traceback": [
      "\u001b[1;31mRunning cells with 'Python 3.10.8' requires the ipykernel package.\n",
      "\u001b[1;31mRun the following command to install 'ipykernel' into the Python environment. \n",
      "\u001b[1;31mCommand: '\"c:/Program Files/Python310/python.exe\" -m pip install ipykernel -U --user --force-reinstall'"
     ]
    }
   ],
   "source": [
    "#write a program to read date from user and print the date of next day also check if the entered date is correct or not\n",
    "day = int(input(\"Enter Day: \"))\n",
    "month = int(input(\"Enter Month: \"))\n",
    "year = int(input(\"Enter Year: \"))\n",
    "if(month >= 1 and month<=12 and day>=1 and day<=31 and year > 0):\n",
    "    if (month in [3,5,9,11]):\n",
    "        if(day>=1 and day<=30):\n",
    "            if(day == 30):\n",
    "                day = 1\n",
    "                month += 1\n",
    "            else:\n",
    "                day += 1\n",
    "        else:\n",
    "            print(\"Invalid\")\n",
    "    elif(month in [1,4,6,7,8,10,12]):\n",
    "        if(day >=1 and day <=31):\n",
    "            if(day == 31):\n",
    "                day = 1\n",
    "                if(month == 12):\n",
    "                    month = 1\n",
    "                    year += 1\n",
    "                else:\n",
    "                    month += 1\n",
    "            else:\n",
    "                day+= 1\n",
    "        else:\n",
    "            print(\"Invalid\")\n",
    "if(((year%4 == 0 or year%100 != 0) and year%400 == 0 and day<=29) or (((year%4 !=0 or year%100==0)and year%400 !=0) and day<29)):\n",
    "    if((year%4 == 0 or year%100 != 0) and year%400 == 0 and day<=29):\n",
    "        print(\"leap year\")\n",
    "        if(month == 2):\n",
    "            if(day == 29):\n",
    "                day = 1\n",
    "                month += 1\n",
    "            else:\n",
    "                day += 1\n",
    "    elif(((year%4 !=0 or year%100==0)and year%400 !=0) and day<29):\n",
    "        if(month == 2):\n",
    "            if(day == 28):\n",
    "                day = 1\n",
    "                month += 1\n",
    "            else:\n",
    "                day += 1\n",
    "    print(str(day)+\"/\"+str(month)+\"/\"+str(year))\n",
    "    \n",
    "else:\n",
    "    print(\"Invalid Input\")\n"
   ]
  },
  {
   "cell_type": "code",
   "execution_count": 3,
   "metadata": {},
   "outputs": [
    {
     "name": "stdout",
     "output_type": "stream",
     "text": [
      "Enter 1st value: 20\n",
      "Enter 2nd value: 15\n",
      "Enter 3rd value: 10\n",
      "10 15 20\n",
      "20 15 10\n"
     ]
    }
   ],
   "source": [
    "# Take 3 variable and get their value from the user without using any python built in data structure sort these number in ascending and descending\n",
    "a = int(input(\"Enter 1st value: \"))\n",
    "b = int(input(\"Enter 2nd value: \"))\n",
    "c = int(input(\"Enter 3rd value: \"))\n",
    "if a<b and a<c:\n",
    "    if b<c :\n",
    "        x,y,z = a,b,c\n",
    "    else:\n",
    "        x,y,z = a,c,b\n",
    "elif b<a and b<c:\n",
    "    if a<c:\n",
    "        x,y,z = b,a,c\n",
    "    else:\n",
    "        x,y,z = b,c,a\n",
    "elif c<a and c<b:\n",
    "    if b<a:\n",
    "        x,y,z = c,b,a\n",
    "    else:\n",
    "        x,y,z = c,a,b\n",
    "else:\n",
    "    print(\"correct num\")\n",
    "print(x,y,z)\n",
    "print(z,y,x)"
   ]
  },
  {
   "cell_type": "code",
   "execution_count": 18,
   "metadata": {},
   "outputs": [
    {
     "name": "stdout",
     "output_type": "stream",
     "text": [
      "Enter Hours: 14\n",
      "Is it AM or PM ? 🧡\n",
      "How many hours ahead ?2\n",
      "Invalid Input\n"
     ]
    }
   ],
   "source": [
    "a = int(input(\"Enter Hours: \"))\n",
    "b = input(\"Is it AM or PM ? \")\n",
    "hours = int(input(\"How many hours ahead ?\"))\n",
    "if(b == \"AM\" or b == \"am\"):\n",
    "    if(a>=1 and a<=12):\n",
    "        if(a+hours < 12):\n",
    "            print(str(a+hours)+\"AM\")\n",
    "        else:\n",
    "            if(a+hours == 12):\n",
    "                print(str(a+hours)+\"PM\")\n",
    "            else:\n",
    "                time = (a+hours)%12\n",
    "                print(str(time)+\"PM\")\n",
    "    else:\n",
    "        print(\"Invalid Input\")\n",
    "elif(b == \"PM\" or b == \"pm\"):\n",
    "    if(a>=1 and a<=12):\n",
    "        if(a+hours < 12):\n",
    "            print(str(a+hours)+\"PM\")\n",
    "        else:\n",
    "            if(a+hours == 12):\n",
    "                print(str(a+hours)+\"AM\")\n",
    "            else:\n",
    "                time = (a+hours)%12\n",
    "                print(str(time)+\"AM\")\n",
    "    else:\n",
    "        print(\"Invalid Input\")\n",
    "else:\n",
    "    print(\"Invalid Input\")\n"
   ]
  },
  {
   "cell_type": "code",
   "execution_count": 22,
   "metadata": {},
   "outputs": [
    {
     "name": "stdout",
     "output_type": "stream",
     "text": [
      "Enter number of units: 450\n",
      "1962.5\n"
     ]
    }
   ],
   "source": [
    "# write a python program to calculate electricity bill\n",
    "#    0 to 150 units:  ₹3\n",
    "#    151 to 300 units:  ₹100+  ₹3.75 per unit\n",
    "#    301 to 450 units:  ₹250+  ₹4 per unit\n",
    "#    451 to 600 units:  ₹300+  ₹4.25 per unit\n",
    "#    600+ units:  ₹400+  ₹5 per unit\n",
    "u = int(input(\"Enter number of units: \"))\n",
    "bill = 0\n",
    "if(u>=0 and u<=150):\n",
    "    bill = 3*u\n",
    "elif(u>=151 and u<=300):\n",
    "    bill = 100+((u-150)*3.75)+(150*3)\n",
    "elif(u>=301 and u<=450):\n",
    "    bill = 250+(4*(u-300))+(100+150*3.75)+(150*3)\n",
    "elif(u>=451 and u<=600):\n",
    "    bill = 300+(4.25*(u-450))+(250+150*4)+(100+150*3.75)+(150*3)\n",
    "elif(u>600):\n",
    "    bill = 400+((u-600)*5)+(300+150*4.25)+(250+150*4)+(100+150*3.75)+(150*3)\n",
    "else:\n",
    "    print(\"Invalid Input\")\n",
    "print(bill)"
   ]
  },
  {
   "cell_type": "code",
   "execution_count": 36,
   "metadata": {},
   "outputs": [
    {
     "name": "stdout",
     "output_type": "stream",
     "text": [
      "Enter any 4 digit number which doesn't contain any zero: 2130\n",
      "0213\n"
     ]
    }
   ],
   "source": [
    "a = int(input(\"Enter any 4 digit number which doesn't contain any zero: \"))\n",
    "s = a%10\n",
    "r = a//10\n",
    "new_num = str(s)+str(r)\n",
    "print(new_num)"
   ]
  },
  {
   "cell_type": "code",
   "execution_count": 38,
   "metadata": {
    "scrolled": true
   },
   "outputs": [
    {
     "name": "stdout",
     "output_type": "stream",
     "text": [
      "Enter dollars between 0 to 1: 0.89\n",
      "89 cents 3 quarter 1 dime 0 nickel 4 penny\n"
     ]
    }
   ],
   "source": [
    "r = float(input(\"Enter dollars between 0 to 1: \"))\n",
    "if(r>=0 and r<=1):\n",
    "    cent = int(r*100)\n",
    "    quarter = cent//25\n",
    "    dime = (cent%25)//10\n",
    "    nickel = ((cent%25)%10)//5\n",
    "    penny = (((cent%25)%10)%5)//1\n",
    "    print(cent,\"cents\",quarter,\"quarter\",dime,\"dime\",nickel,\"nickel\",penny,\"penny\")\n",
    "else:\n",
    "    print(\"Not valid\")"
   ]
  },
  {
   "cell_type": "code",
   "execution_count": 14,
   "metadata": {},
   "outputs": [
    {
     "name": "stdout",
     "output_type": "stream",
     "text": [
      "0\n",
      "1\n",
      "2\n",
      "3\n",
      "4\n",
      "1 2 3 4 \n",
      "1\n",
      "3\n",
      "5\n"
     ]
    }
   ],
   "source": [
    "for i in range(5): #starts from 0\n",
    "    print(i)\n",
    "for i in range(1,5):\n",
    "    print(i,end=\" \")\n",
    "print()\n",
    "for i in range(1,7,2): #last number is the gap between two numbers\n",
    "    print(i)"
   ]
  },
  {
   "cell_type": "code",
   "execution_count": 16,
   "metadata": {},
   "outputs": [
    {
     "name": "stdout",
     "output_type": "stream",
     "text": [
      "L J I E T "
     ]
    }
   ],
   "source": [
    "x =\"LJIET\"\n",
    "for i in x:\n",
    "    print(i,end = \" \")"
   ]
  },
  {
   "cell_type": "code",
   "execution_count": 20,
   "metadata": {},
   "outputs": [
    {
     "name": "stdout",
     "output_type": "stream",
     "text": [
      "1\n",
      "2\n",
      "3\n",
      "4\n",
      "Enter your name: ABCD\n"
     ]
    }
   ],
   "source": [
    "x = 1 #we have to define starting point\n",
    "while x <=4:\n",
    "    print(x)\n",
    "    x += 1\n",
    "name = input(\"Enter your name: \")\n",
    "while name != \"ABCD\":\n",
    "    name = input(\"Enter your name: \")\n",
    "    print(\"Thanks for the information\")"
   ]
  },
  {
   "cell_type": "code",
   "execution_count": 23,
   "metadata": {},
   "outputs": [
    {
     "name": "stdout",
     "output_type": "stream",
     "text": [
      "i =  0 , j =  0\n",
      "i =  0 , j =  1\n",
      "i =  0 , j =  2\n",
      "i =  1 , j =  0\n",
      "i =  1 , j =  1\n",
      "i =  1 , j =  2\n"
     ]
    }
   ],
   "source": [
    "for i in range(2):\n",
    "    for j in range(3):\n",
    "        print(\"i = \",i,\", j = \",j)"
   ]
  },
  {
   "cell_type": "code",
   "execution_count": 1,
   "metadata": {},
   "outputs": [
    {
     "name": "stdout",
     "output_type": "stream",
     "text": [
      "0\n",
      "1\n",
      "2\n",
      "3\n",
      "4 detected\n",
      "0\n",
      "1\n",
      "2\n",
      "3\n",
      "skip\n",
      "5\n",
      "6\n",
      "0\n",
      "8\n",
      "16\n",
      "0\n",
      "1\n",
      "2\n",
      "3\n",
      "No break\n",
      "0\n",
      "1\n",
      "2\n",
      "3\n",
      "4\n",
      "No break\n"
     ]
    }
   ],
   "source": [
    "for i in range(7):\n",
    "    if(i == 4):\n",
    "        print(\"4 detected\")\n",
    "        break\n",
    "    print(i)\n",
    "for i in range(7):\n",
    "    if(i==4):\n",
    "        print(\"skip\")\n",
    "        continue\n",
    "    print(i)\n",
    "\n",
    "for i in range(20):\n",
    "    if(i%8 == 0):\n",
    "        print(i)\n",
    "    else:\n",
    "         pass\n",
    "for i in range(4):\n",
    "    print(i)\n",
    "else:\n",
    "    print(\"No break\")\n",
    "i = 0\n",
    "while i <=4:\n",
    "    print(i)\n",
    "    i += 1\n",
    "else:\n",
    "    print(\"No break\")"
   ]
  },
  {
   "cell_type": "code",
   "execution_count": 4,
   "metadata": {},
   "outputs": [
    {
     "name": "stdout",
     "output_type": "stream",
     "text": [
      "Enter Number: 12334455\n",
      "Original Number: 12334455 , Final Number: 52334451\n"
     ]
    }
   ],
   "source": [
    "# write a python program to swap first and last digit in given positive integer using loop\n",
    "a = int(input(\"Enter Number: \"))\n",
    "count = 0\n",
    "temp = a\n",
    "while temp != 0:\n",
    "    temp //= 10\n",
    "    count += 1\n",
    "temp2=a\n",
    "last_digit = temp2%10\n",
    "first_digit = temp2//(10**(count-1))\n",
    "middle = (temp2 //10)%(10**(count-2))\n",
    "result = (last_digit*(10**(count-1)))+middle*10+first_digit\n",
    "print(\"Original Number:\",a,\", Final Number:\",result)"
   ]
  },
  {
   "cell_type": "code",
   "execution_count": 17,
   "metadata": {},
   "outputs": [
    {
     "name": "stdout",
     "output_type": "stream",
     "text": [
      "Enter number or type 'done' to stop: done\n",
      "Enter a value please\n"
     ]
    }
   ],
   "source": [
    "# wap that prompts the user to enter number and stop only when the user enters done after that print the average of the numbers\n",
    "# and print min and max number from among all the numbers entered by user.\n",
    "temp = \"\"\n",
    "total = 0\n",
    "count = 0\n",
    "while True:\n",
    "    n = input(\"Enter number or type 'done' to stop: \")\n",
    "    if n == \"done\" or n == \"DONE\" or n == \"Done\":\n",
    "        break\n",
    "    n = int(n)\n",
    "    count += 1\n",
    "    if count == 1:\n",
    "        min = max = n\n",
    "    total += n\n",
    "    if n>max:\n",
    "        max = n\n",
    "    if n< min:\n",
    "        min = n\n",
    "if(count == 0):\n",
    "    print(\"Enter a value please\")\n",
    "else:\n",
    "    print(\"Average:\",(total/count))\n",
    "    print(\"Minimum:\",min)\n",
    "    print(\"Maximum:\",max)"
   ]
  },
  {
   "cell_type": "code",
   "execution_count": 29,
   "metadata": {},
   "outputs": [
    {
     "name": "stdout",
     "output_type": "stream",
     "text": [
      "Enter Number: 6\n",
      "720 False\n"
     ]
    }
   ],
   "source": [
    "# wap to check if a number entered is a strong number\n",
    "a = int(input(\"Enter Number: \"))\n",
    "temp = a\n",
    "total = 0\n",
    "temp2 = 0\n",
    "total2 = 1\n",
    "while temp != 0:\n",
    "    temp2 = temp%10\n",
    "    while temp2 != 0:\n",
    "        total2 *= temp2\n",
    "        temp2 = temp2-1\n",
    "    total += total2\n",
    "    total2 = 1\n",
    "    temp = temp//10\n",
    "if(total == a):\n",
    "    print(\"True\")\n",
    "else:\n",
    "    print(total,\"False\")"
   ]
  },
  {
   "cell_type": "code",
   "execution_count": 13,
   "metadata": {},
   "outputs": [
    {
     "name": "stdout",
     "output_type": "stream",
     "text": [
      "Enter number: 0\n",
      "Old Num = 0 New Num = 0\n"
     ]
    }
   ],
   "source": [
    "# wap to take a number as user input and replace digit 0 with digit 1 in that number and print new number.\n",
    "# for eg: old = 2030 new = 2131\n",
    "n = int(input(\"Enter number: \"))\n",
    "temp=temp2 = n\n",
    "count = 0\n",
    "while n != 0:\n",
    "    r = n%10\n",
    "    if r==0:\n",
    "        temp = temp+(1*(10**count))\n",
    "    count += 1\n",
    "    n = n//10\n",
    "print(\"Old Num =\",temp2,\"New Num =\",temp)"
   ]
  },
  {
   "cell_type": "code",
   "execution_count": 20,
   "metadata": {},
   "outputs": [
    {
     "name": "stdout",
     "output_type": "stream",
     "text": [
      "Enter your Input: HelLO i sTUdy in LJ unI\n",
      "Vowels: 7 Consonant: 11 Words: 6\n"
     ]
    }
   ],
   "source": [
    "# calculate vowel and consonant and number of words in given string\n",
    "n = input(\"Enter your Input: \")\n",
    "vowel = consonant = words = 0\n",
    "for i in n:\n",
    "    if i in \"aeiouAEIOU\":\n",
    "        vowel +=1\n",
    "    elif i != \" \":\n",
    "        consonant += 1\n",
    "    elif i == \" \":\n",
    "        words += 1\n",
    "print(\"Vowels:\",vowel,\"Consonant:\",consonant,\"Words:\",words+1)   "
   ]
  },
  {
   "cell_type": "code",
   "execution_count": 35,
   "metadata": {},
   "outputs": [],
   "source": [
    "# Functions\n",
    "# Basic Method to build function:\n",
    "#     def function_name():\n",
    "#         ---body---\n",
    "# Different category of user defined functions:\n",
    "#     1)Function with no parameter and no return type\n",
    "#     2)Function with parameter and no return type\n",
    "#     3)Function with parameter and with return type\n",
    "#     4)Function with no parameter and with return type"
   ]
  },
  {
   "cell_type": "code",
   "execution_count": 36,
   "metadata": {},
   "outputs": [],
   "source": [
    "#1)\n",
    "# def name():\n",
    "#     a = input(\"Enter Name: \")\n",
    "#     print(a)\n",
    "# name()\n",
    "#2)\n",
    "# def name(s):\n",
    "#     print(s)\n",
    "# name(input(\"Enter Name: \"))\n",
    "#3)\n",
    "# def add(num1,num2):\n",
    "#     return num1+num2\n",
    "# print(add(1,2))\n",
    "#4)\n",
    "# def name():\n",
    "#     s = input(\"Enter Name: \")\n",
    "#     return s\n",
    "# names = name()\n",
    "# print(names)"
   ]
  },
  {
   "cell_type": "code",
   "execution_count": 8,
   "metadata": {
    "scrolled": true
   },
   "outputs": [
    {
     "name": "stdout",
     "output_type": "stream",
     "text": [
      "Enter num: 200\n",
      "1\n",
      "3\n",
      "5\n",
      "7\n",
      "9\n",
      "11\n",
      "13\n",
      "15\n",
      "17\n",
      "19\n",
      "21\n",
      "23\n",
      "25\n",
      "27\n",
      "29\n",
      "31\n",
      "33\n",
      "35\n",
      "37\n",
      "39\n",
      "41\n",
      "43\n",
      "45\n",
      "47\n",
      "49\n",
      "51\n",
      "53\n",
      "55\n",
      "57\n",
      "59\n",
      "61\n",
      "63\n",
      "65\n",
      "67\n",
      "69\n",
      "71\n",
      "73\n",
      "75\n",
      "77\n",
      "79\n",
      "81\n",
      "83\n",
      "85\n",
      "87\n",
      "89\n",
      "91\n",
      "93\n",
      "95\n",
      "97\n",
      "99\n",
      "101\n",
      "103\n",
      "105\n",
      "107\n",
      "109\n",
      "111\n",
      "113\n",
      "115\n",
      "117\n",
      "119\n",
      "121\n",
      "123\n",
      "125\n",
      "127\n",
      "129\n",
      "131\n",
      "133\n",
      "135\n",
      "137\n",
      "139\n",
      "141\n",
      "143\n",
      "145\n",
      "147\n",
      "149\n",
      "151\n",
      "153\n",
      "155\n",
      "157\n",
      "159\n",
      "161\n",
      "163\n",
      "165\n",
      "167\n",
      "169\n",
      "171\n",
      "173\n",
      "175\n",
      "177\n",
      "179\n",
      "181\n",
      "183\n",
      "185\n",
      "187\n",
      "189\n",
      "191\n",
      "193\n",
      "195\n",
      "197\n",
      "199\n"
     ]
    }
   ],
   "source": [
    "# write a python function to take n from user and print odd numbers between 1 to n by using with parameter and no return type\n",
    "def odd_num(a):\n",
    "    i = 1\n",
    "    while i <= a:\n",
    "        print(i)\n",
    "        i+=2\n",
    "b = int(input(\"Enter num: \"))\n",
    "odd_num(b)"
   ]
  },
  {
   "cell_type": "code",
   "execution_count": 3,
   "metadata": {},
   "outputs": [
    {
     "name": "stdout",
     "output_type": "stream",
     "text": [
      "6 2 2.0 8\n",
      "(9, 3, 2.0, 18)\n"
     ]
    }
   ],
   "source": [
    "def math(x,y):\n",
    "    return x+y,x-y,x/y,x*y\n",
    "sum,sub,div,mul = math(4,2)\n",
    "print(sum,sub,div,mul)\n",
    "print(math(6,3)) #This results are stored in tuples"
   ]
  },
  {
   "cell_type": "code",
   "execution_count": 5,
   "metadata": {},
   "outputs": [],
   "source": [
    "# Types of arguments:\n",
    "# 1)Positional Argument:\n",
    "#     if there is def sub(a,b) and the method is called by sub(10,5) then a = 10 and b = 5 and number of arguments must be same\n",
    "# 2)Keyword Argument:\n",
    "#     if there is def wish(name,msg) and is called by wish(msg = \"x\",name =\"y\") then positional argument is ignored.\n",
    "#     we can use both positional and keyword simultaneously but first we have to take positional argument and then\n",
    "#     keyword otherwise we will get syntax error eg. wish(\"x\",msg=\"y\")<-- Valid\n",
    "# 3)Default Argument:\n",
    "#     def wish(name =\"Guest\"):\n",
    "#         print(name)\n",
    "#     i)wish() // Prints Guest\n",
    "#     ii)wish(\"abc\") // Prints abc\n",
    "#     After default argument , non-default argument should not be given but vice versa is valid\n",
    "# 4)Variable length Argument:\n",
    "#     def sum(*n):\n",
    "#         total = 0\n",
    "#         for i in n:\n",
    "#             total = total + i\n",
    "#         print(total)\n",
    "#     Thus it takes multiple values in single variable\n",
    "#     We can mix var length argument with positional argument\n",
    "#     After var length arg if we are taking any other args then we should provide values as keyword arg.\n",
    "#     With **n we can use multiple keyword args"
   ]
  },
  {
   "cell_type": "code",
   "execution_count": 6,
   "metadata": {
    "scrolled": true
   },
   "outputs": [
    {
     "name": "stdout",
     "output_type": "stream",
     "text": [
      "m1 = 100\n",
      "m2 = 200\n",
      "m3 = 300\n",
      "rollno = 1\n",
      "name = ABC\n",
      "marks = 95\n",
      "subject = Python\n"
     ]
    }
   ],
   "source": [
    "def display(**kwargs):\n",
    "    for k,v in kwargs.items(): #key-value pairs\n",
    "        print(k,\"=\",v)\n",
    "display(m1=100,m2=200,m3=300)\n",
    "display(rollno=1,name=\"ABC\",marks=95,subject=\"Python\")"
   ]
  },
  {
   "cell_type": "code",
   "execution_count": null,
   "metadata": {},
   "outputs": [],
   "source": []
  }
 ],
 "metadata": {
  "kernelspec": {
   "display_name": "Python 3",
   "language": "python",
   "name": "python3"
  },
  "language_info": {
   "codemirror_mode": {
    "name": "ipython",
    "version": 3
   },
   "file_extension": ".py",
   "mimetype": "text/x-python",
   "name": "python",
   "nbconvert_exporter": "python",
   "pygments_lexer": "ipython3",
   "version": "3.8.5"
  }
 },
 "nbformat": 4,
 "nbformat_minor": 4
}
