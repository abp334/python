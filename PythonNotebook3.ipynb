{
 "cells": [
  {
   "cell_type": "code",
   "execution_count": null,
   "metadata": {},
   "outputs": [],
   "source": [
    "# 1)Open File\n",
    "#     f = open(\"filename.txt\",mode)\n",
    "#     mode : r,w,a,r+,w+,a+\n",
    "# 2)various property of file object:\n",
    "#     name\n",
    "#     mode\n",
    "#     closed\n",
    "#     readable\n",
    "#     writable\n",
    "# 3)writing data to text file\n",
    "#     1)write(str)\n",
    "#     2)writelines(list) \\\\multiple lines\n",
    "# 4)reading character from text file\n",
    "#     1)read()\n",
    "#     2)read(n) \\\\ n is no of characters to read\n",
    "#     3)readline()\n",
    "#     4)readlines()\n",
    "\n",
    "# 5)tell() method will return current position of cursor from beginning of file like a string index\n",
    "# 6)seek() is used to move cursor to specific index"
   ]
  },
  {
   "cell_type": "code",
   "execution_count": null,
   "metadata": {},
   "outputs": [],
   "source": [
    "# write a python program to reverse the content of first file and store it in second file and also convert content of second\n",
    "# file into upper case and store it in third file and also count no of vowels in third file and also print only second line\n",
    "# from content of third file\n",
    "f1 = open(\"First.txt\",\"r\")\n",
    "data = f1.read()\n",
    "r = data[::-1]\n",
    "f2 = open(\"Second.txt\",\"w\")\n",
    "l = list(reversed(r))\n",
    "f2.write(r)\n",
    "f1.close()\n",
    "f2.close()\n",
    "f2 = open(\"Second.txt\",\"r\")\n",
    "f3 = open(\"Third.txt\",\"w\")\n",
    "data1 = f2.read()\n",
    "u = data1.upper()\n",
    "f3.write(u)\n",
    "f2.close()\n",
    "f3.close()\n",
    "vowel = 0\n",
    "f4 = open(\"Third.txt\",\"r\")\n",
    "for i in f4.read():\n",
    "    if i in \"AEIOU\":\n",
    "        vowel += 1\n",
    "print(vowel)\n",
    "f4.close()\n",
    "f5 = open(\"Third.txt\",\"r\")\n",
    "d = f5.readlines()\n",
    "print(d[1])\n",
    "f5.close()"
   ]
  },
  {
   "cell_type": "code",
   "execution_count": null,
   "metadata": {},
   "outputs": [],
   "source": [
    "# write a python program to count words characters and spaces in first.txt file\n",
    "f = open(\"First.txt\",\"r\")\n",
    "r = f.read()\n",
    "c = len(r)\n",
    "w = len(r.split())\n",
    "s = 0\n",
    "for i in r:\n",
    "    if i == \" \":\n",
    "        s += 1\n",
    "print(len(l),s,c)\n",
    "f.close()"
   ]
  },
  {
   "cell_type": "code",
   "execution_count": null,
   "metadata": {},
   "outputs": [],
   "source": [
    "# wap to find frequency of each word from given file first.txt\n",
    "f = open(\"First.txt\",\"r\")\n",
    "l = f.read().split()\n",
    "d = {}\n",
    "for i in l:\n",
    "    if i not in d:\n",
    "        d[i] = 0\n",
    "    d[i] += 1\n",
    "print(d)"
   ]
  },
  {
   "cell_type": "code",
   "execution_count": null,
   "metadata": {},
   "outputs": [],
   "source": [
    "# wap to search words in text file\n",
    "f = open(\"First.txt\",\"r\")\n",
    "word = input(\"Enter your word: \")\n",
    "l = f.readlines()\n",
    "for i in l:\n",
    "    if i.find(word)!= -1:\n",
    "        print(l.index(i),i.index(word))\n",
    "        "
   ]
  },
  {
   "cell_type": "code",
   "execution_count": null,
   "metadata": {},
   "outputs": [],
   "source": [
    "# wap to write all lines of first.txt file except those that start with #\n",
    "f = open(\"First.txt\",\"r\")\n",
    "l = f.readlines()\n",
    "for i in l:\n",
    "    if i[0] == \"#\":\n",
    "        continue\n",
    "    if i.find(\"#\") == -1:\n",
    "        print(i)\n",
    "    else:\n",
    "        print(i[:i.index(\"#\")])\n",
    "        "
   ]
  },
  {
   "cell_type": "code",
   "execution_count": null,
   "metadata": {},
   "outputs": [],
   "source": [
    "# wap to compare 2 text files if they are different then give the line and column number in the file where the first\n",
    "# difference occurs\n",
    "f1 = open(\"First.txt\",\"r\")\n",
    "f2 = open(\"FirstOne.txt\",\"r\")\n",
    "data1 = f1.readlines()\n",
    "data2 = f2.readlines()\n",
    "for index,line in enumerate(data1):\n",
    "    if line != data2[index]:\n",
    "        for i,char in enumerate(line):\n",
    "            if char != data2[index][i]:\n",
    "                print(\"Index: \",index+1)\n",
    "                print(\"Column number: \",i+1)\n",
    "                break"
   ]
  },
  {
   "cell_type": "code",
   "execution_count": 6,
   "metadata": {},
   "outputs": [
    {
     "name": "stdout",
     "output_type": "stream",
     "text": [
      "0 : Hello World\n",
      "\n",
      "Press any key to continue or q to quit: q\n"
     ]
    }
   ],
   "source": [
    "# wap such that the solution should prompt for a file name and display five lines at a time, pausing each time to ask the\n",
    "# user to press any key to continue or small q to quit and exit\n",
    "f1 = open(\"Intro.txt\",\"r\")\n",
    "n = 5\n",
    "for index,line in enumerate(f1):\n",
    "    print(index,\":\",line)\n",
    "    if index % n == 0:\n",
    "        x = input(\"Press any key to continue or q to quit: \")\n",
    "        if x.lower() == \"q\":\n",
    "            break\n",
    "f1.close()\n",
    "            "
   ]
  },
  {
   "cell_type": "code",
   "execution_count": null,
   "metadata": {},
   "outputs": [],
   "source": [
    "# wap to find 5 longest word from given file\n"
   ]
  }
 ],
 "metadata": {
  "kernelspec": {
   "display_name": "Python 3",
   "language": "python",
   "name": "python3"
  }
 },
 "nbformat": 4,
 "nbformat_minor": 4
}
