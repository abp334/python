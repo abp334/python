{
 "cells": [
  {
   "cell_type": "code",
   "execution_count": null,
   "metadata": {},
   "outputs": [],
   "source": [
    "# 1)Open File\n",
    "#     f = open(\"filename.txt\",mode)\n",
    "#     mode : r,w,a,r+,w+,a+\n",
    "# 2)various property of file object:\n",
    "#     name\n",
    "#     mode\n",
    "#     closed\n",
    "#     readable\n",
    "#     writable\n",
    "# 3)writing data to text file\n",
    "#     1)write(str)\n",
    "#     2)writelines(list) \\\\multiple lines\n",
    "# 4)reading character from text file\n",
    "#     1)read()\n",
    "#     2)read(n) \\\\ n is no of characters to read\n",
    "#     3)readline()\n",
    "#     4)readlines()\n",
    "\n",
    "# 5)tell() method will return current position of cursor from beginning of file like a string index\n",
    "# 6)seek() is used to move cursor to specific index"
   ]
  },
  {
   "cell_type": "code",
   "execution_count": null,
   "metadata": {},
   "outputs": [],
   "source": [
    "# write a python program to reverse the content of first file and store it in second file and also convert content of second\n",
    "# file into upper case and store it in third file and also count no of vowels in third file and also print only second line\n",
    "# from content of third file\n",
    "f1 = open(\"First.txt\",\"r\")\n",
    "data = f1.read()\n",
    "r = data[::-1]\n",
    "f2 = open(\"Second.txt\",\"w\")\n",
    "l = list(reversed(r))\n",
    "f2.write(r)\n",
    "f1.close()\n",
    "f2.close()\n",
    "f2 = open(\"Second.txt\",\"r\")\n",
    "f3 = open(\"Third.txt\",\"w\")\n",
    "data1 = f2.read()\n",
    "u = data1.upper()\n",
    "f3.write(u)\n",
    "f2.close()\n",
    "f3.close()\n",
    "vowel = 0\n",
    "f4 = open(\"Third.txt\",\"r\")\n",
    "for i in f4.read():\n",
    "    if i in \"AEIOU\":\n",
    "        vowel += 1\n",
    "print(vowel)\n",
    "f4.close()\n",
    "f5 = open(\"Third.txt\",\"r\")\n",
    "d = f5.readlines()\n",
    "print(d[1])\n",
    "f5.close()"
   ]
  },
  {
   "cell_type": "code",
   "execution_count": null,
   "metadata": {},
   "outputs": [],
   "source": [
    "# write a python program to count words characters and spaces in first.txt file\n",
    "f = open(\"First.txt\",\"r\")\n",
    "r = f.read()\n",
    "c = len(r)\n",
    "w = len(r.split())\n",
    "s = 0\n",
    "for i in r:\n",
    "    if i == \" \":\n",
    "        s += 1\n",
    "print(len(l),s,c)\n",
    "f.close()"
   ]
  },
  {
   "cell_type": "code",
   "execution_count": null,
   "metadata": {},
   "outputs": [],
   "source": [
    "# wap to find frequency of each word from given file first.txt\n",
    "f = open(\"First.txt\",\"r\")\n",
    "l = f.read().split()\n",
    "d = {}\n",
    "for i in l:\n",
    "    if i not in d:\n",
    "        d[i] = 0\n",
    "    d[i] += 1\n",
    "print(d)"
   ]
  },
  {
   "cell_type": "code",
   "execution_count": null,
   "metadata": {},
   "outputs": [],
   "source": [
    "# wap to search words in text file\n",
    "f = open(\"First.txt\",\"r\")\n",
    "word = input(\"Enter your word: \")\n",
    "l = f.readlines()\n",
    "for i in l:\n",
    "    if i.find(word)!= -1:\n",
    "        print(l.index(i),i.index(word))\n",
    "        "
   ]
  },
  {
   "cell_type": "code",
   "execution_count": null,
   "metadata": {},
   "outputs": [],
   "source": [
    "# wap to write all lines of first.txt file except those that start with #\n",
    "f = open(\"First.txt\",\"r\")\n",
    "l = f.readlines()\n",
    "for i in l:\n",
    "    if i[0] == \"#\":\n",
    "        continue\n",
    "    if i.find(\"#\") == -1:\n",
    "        print(i)\n",
    "    else:\n",
    "        print(i[:i.index(\"#\")])\n",
    "        "
   ]
  },
  {
   "cell_type": "code",
   "execution_count": null,
   "metadata": {},
   "outputs": [],
   "source": [
    "# wap to compare 2 text files if they are different then give the line and column number in the file where the first\n",
    "# difference occurs\n",
    "f1 = open(\"First.txt\",\"r\")\n",
    "f2 = open(\"FirstOne.txt\",\"r\")\n",
    "data1 = f1.readlines()\n",
    "data2 = f2.readlines()\n",
    "for index,line in enumerate(data1):\n",
    "    if line != data2[index]:\n",
    "        for i,char in enumerate(line):\n",
    "            if char != data2[index][i]:\n",
    "                print(\"Index: \",index+1)\n",
    "                print(\"Column number: \",i+1)\n",
    "                break"
   ]
  },
  {
   "cell_type": "code",
   "execution_count": null,
   "metadata": {},
   "outputs": [],
   "source": [
    "# wap such that the solution should prompt for a file name and display five lines at a time, pausing each time to ask the\n",
    "# user to press any key to continue or small q to quit and exit\n",
    "f1 = open(\"Intro.txt\",\"r\")\n",
    "n = 5\n",
    "for index,line in enumerate(f1):\n",
    "    print(index,\":\",line)\n",
    "    if index % n == 0:\n",
    "        x = input(\"Press any key to continue or q to quit: \")\n",
    "        if x.lower() == \"q\":\n",
    "            break\n",
    "f1.close()\n",
    "            "
   ]
  },
  {
   "cell_type": "code",
   "execution_count": null,
   "metadata": {},
   "outputs": [],
   "source": [
    "# wap that scans the file class_scores.txt. Add 5 points to each test score of each student\n",
    "f = open(\"class_scores.txt\",\"r\")\n",
    "f2 = open(\"class_scores_2.txt\",\"w\")\n",
    "r = f.readlines()\n",
    "for i in r:\n",
    "    s = i.split()\n",
    "    f2.write(s[0]+\"\"+str(int(s[1])+5)+\"\\n\")\n",
    "f.close()\n",
    "f2.close()"
   ]
  },
  {
   "cell_type": "code",
   "execution_count": null,
   "metadata": {},
   "outputs": [],
   "source": [
    "f = open(\"mbox-short - Copy.txt\",\"r\")\n",
    "r = f.readlines()\n",
    "total=count=0\n",
    "for i in r:\n",
    "    if \"X-DSPAM-Confidence\" in i:\n",
    "        l = i.split()\n",
    "        count += 1\n",
    "        total += float(l[1])\n",
    "print(count)\n",
    "print(total/count)\n",
    "f.close()"
   ]
  },
  {
   "cell_type": "code",
   "execution_count": null,
   "metadata": {
    "scrolled": false
   },
   "outputs": [],
   "source": [
    "f = open(\"mbox-short - Copy.txt\",\"r\")\n",
    "r = f.readlines()\n",
    "count = 0\n",
    "for i in r:\n",
    "    if \"From \" in i:\n",
    "        l = i.split()\n",
    "        count+=1\n",
    "        print(l[1])\n",
    "print(count)\n",
    "f.close()"
   ]
  },
  {
   "cell_type": "code",
   "execution_count": null,
   "metadata": {},
   "outputs": [],
   "source": [
    "# wap to read the mbox-short - Copy.txt file and figure out the distribution by hours of the day for each of the message\n",
    "f = open(\"mbox-short - Copy.txt\",\"r\")\n",
    "r = f.readlines()\n",
    "d ={}\n",
    "count = 0\n",
    "for i in r:\n",
    "    if \"From \" in i:\n",
    "        l = i.split()\n",
    "        s = l[-2].split(\":\")\n",
    "        d[s[0]] = d.get(s[0],0)+1\n",
    "l = list(d.items())\n",
    "l.sort()\n",
    "for i in l:\n",
    "    print(\"At\",i[0],\"hours\",i[1],\"mails were sent\")\n",
    "for i in d.values():\n",
    "    count += int(i)\n",
    "print(\"Total mails sent:\",count)\n",
    "f.close()"
   ]
  },
  {
   "cell_type": "code",
   "execution_count": null,
   "metadata": {},
   "outputs": [],
   "source": [
    "f = open(\"mbox-short - Copy.txt\",\"r\")\n",
    "r = f.readlines()\n",
    "count = 0\n",
    "d = {}\n",
    "for i in r:\n",
    "    if \"From \" in i:\n",
    "        l = i.split()\n",
    "        d[l[1]] = d.get(l[1],0)+1\n",
    "l1 = []\n",
    "for i,j in d.items():\n",
    "    l1.append([j,i])\n",
    "l1.sort(reverse = True)\n",
    "print(\"Maximum mails were by:\",l1[0][1],\"sent\",l1[0][0],\"mails\")\n",
    "f.close()"
   ]
  },
  {
   "cell_type": "code",
   "execution_count": null,
   "metadata": {},
   "outputs": [],
   "source": [
    "# wap that scans the file grades.txt and determine how many students pass in all 3 tests \n",
    "passed = []\n",
    "fail = []\n",
    "f = open(\"grades.txt\",\"r\")\n",
    "r = f.readlines()\n",
    "for i in r:\n",
    "    l = i.split()\n",
    "    if int(l[1])>50 and int(l[2])>50 and int(l[3])>50:\n",
    "        passed.append(l[0])\n",
    "    else:\n",
    "        fail.append(l[0])\n",
    "print(passed,len(passed))\n",
    "print(fail,len(fail))\n",
    "f.close()"
   ]
  },
  {
   "cell_type": "code",
   "execution_count": null,
   "metadata": {},
   "outputs": [],
   "source": [
    "# wap that scans through the file logfile.txt and printout all users who were online for atleast an hour\n",
    "f = open(\"logfile.txt\",\"r\")\n",
    "r = f.readlines()\n",
    "online = []\n",
    "for i in r:\n",
    "    l = i.split()\n",
    "    s1 = l[1].split(\":\")\n",
    "    s2 = l[2].split(\":\")\n",
    "    if int(s1[0]) != int(s2[0]):\n",
    "        if int(s2[0])-int(s1[0]) > 1 or int(s1[1])-int(s2[1])<=0:\n",
    "            online.append(l[0])\n",
    "print(online)"
   ]
  },
  {
   "cell_type": "code",
   "execution_count": 12,
   "metadata": {},
   "outputs": [
    {
     "name": "stdout",
     "output_type": "stream",
     "text": [
      "68.8329283110571\n",
      "Enter Your fav team: ag\n",
      "Team not found\n",
      "[8, 'AlcornSt.']\n",
      "['NCAsheville', 'SalemInternational', 'MainePresqueIsle', 'Berea']\n"
     ]
    }
   ],
   "source": [
    "# 1)find average of point scores over all the game in file\n",
    "# 2)pick your fav team and scan throughout the file to determine how many games they won and they loose\n",
    "# 3)find the team that lost by 30 or more games points the most time\n",
    "# 4)make list of team which loss by 70 or more points\n",
    "f = open(\"scores.txt\",\"r\")\n",
    "r = f.readlines()\n",
    "count = total = 0\n",
    "for i in r:\n",
    "    l = i.split()\n",
    "    count+= 2\n",
    "    total += int(l[2])+int(l[4])\n",
    "print(total/count)\n",
    "team = input(\"Enter Your fav team: \")\n",
    "won = lose = difference = flag = 0\n",
    "for i in r:\n",
    "    if i.find(team)!= -1:\n",
    "        l = i.split()\n",
    "        if team == l[0]:\n",
    "            flag = 1\n",
    "            difference = int(l[2])-int(l[4])\n",
    "        elif team == l[3]:\n",
    "            flag = 1\n",
    "            difference = int(l[4])-int(l[2])\n",
    "        if difference > 0:\n",
    "            won += 1\n",
    "        elif difference < 0:\n",
    "            lose += 1\n",
    "if flag == 1:\n",
    "    print(team,\"won:\",won,\"matches and lost:\",lose,\"matches\")\n",
    "else:\n",
    "    print(\"Team not found\")\n",
    "diff = 0\n",
    "d = {}\n",
    "for i in r:\n",
    "    l = i.split()\n",
    "    diff = int(l[2])-int(l[4])\n",
    "    if diff < -30:\n",
    "        d[l[1]] = d.get(l[1],0)+1\n",
    "    elif diff > 30:\n",
    "        d[l[3]] = d.get(l[3],0)+1\n",
    "lost = []\n",
    "for i,j in d.items():\n",
    "    lost.append([j,i])\n",
    "lost.sort(reverse = True)\n",
    "print(lost[0])\n",
    "d2 = {}\n",
    "diff2 = 0\n",
    "for i in r:\n",
    "    l = i.split()\n",
    "    diff2 = int(l[2])-int(l[4])\n",
    "    if diff2 < -70:\n",
    "        d2[l[1]] = d2.get(l[1],0)+1\n",
    "    elif diff2 > 70:\n",
    "        d2[l[3]] = d2.get(l[3],0)+1\n",
    "lost2 = list(d2.keys())\n",
    "print(lost2)\n",
    "f.close()"
   ]
  },
  {
   "cell_type": "code",
   "execution_count": 21,
   "metadata": {},
   "outputs": [
    {
     "name": "stdout",
     "output_type": "stream",
     "text": [
      "Enter the initial of name: M\n",
      "Enter the initial of surname: S\n",
      "['Mavis', 'Paola', 'Shindler']\n",
      "['Myrtie', 'Seibold']\n",
      "['Max', 'T.', 'Swayze']\n",
      "['Maryann', 'Schultze']\n",
      "['Meg', 'Sherman']\n"
     ]
    }
   ],
   "source": [
    "f = open(\"namelist.txt\",\"r\")\n",
    "r = f.readlines()\n",
    "name = input(\"Enter the initial of name: \")\n",
    "surname = input(\"Enter the initial of surname: \")\n",
    "if (len(name)==1 and len(surname)==1):\n",
    "    for i in r:\n",
    "        l = i.split()\n",
    "        if l[0].startswith(name) and l[-1].startswith(surname):\n",
    "            print(l)\n",
    "else:\n",
    "    print(\"Enter Valid input\")\n",
    "f.close()"
   ]
  },
  {
   "cell_type": "code",
   "execution_count": 34,
   "metadata": {},
   "outputs": [
    {
     "name": "stdout",
     "output_type": "stream",
     "text": [
      "Enter characters which are included in words you want: acxd\n",
      "detoxification\n",
      "\n",
      "exactitude\n",
      "\n",
      "hexadecimal\n",
      "\n",
      "intoxicated\n",
      "\n",
      "paradoxical\n",
      "\n",
      "paradoxically\n",
      "\n",
      "tax-deductible\n",
      "\n"
     ]
    }
   ],
   "source": [
    "f = open(\"wordlist.txt\",\"r\")\n",
    "user = input(\"Enter characters which are included in words you want: \")\n",
    "d = {}\n",
    "for i in user:\n",
    "    d[i] = d.get(i,0)+1\n",
    "for line in f:\n",
    "    for i in line.split(\" \"):\n",
    "        e = {}\n",
    "        for x in i:\n",
    "            e[x] = e.get(x,0)+1\n",
    "            flag = True\n",
    "        for j in d:\n",
    "            if j not in e or d[j]>e[j]:\n",
    "                flag = False\n",
    "        if flag:\n",
    "            print(line)\n",
    "f.close()"
   ]
  },
  {
   "cell_type": "code",
   "execution_count": 42,
   "metadata": {},
   "outputs": [],
   "source": [
    "# you are given a file students.txt wap that reads through the file line by line and capitalize the first letter of the \n",
    "# first and last name and add the area code 301 to the phone number\n",
    "f = open(\"students.txt\",\"r\")\n",
    "f2 = open(\"students_2.txt\",\"w\")\n",
    "r = f.readlines()\n",
    "entry = []\n",
    "for i in r:\n",
    "    l = i.split()\n",
    "    name = l[0].capitalize()+\" \"+l[1].capitalize()+\" \"+l[2]+\" \"+\"301-\"+l[3]+\"\\n\"\n",
    "    entry.append(name)\n",
    "f2.writelines(entry)\n",
    "f.close()\n",
    "f2.close()"
   ]
  },
  {
   "cell_type": "code",
   "execution_count": null,
   "metadata": {},
   "outputs": [],
   "source": []
  }
 ],
 "metadata": {
  "kernelspec": {
   "display_name": "Python 3",
   "language": "python",
   "name": "python3"
  },
  "language_info": {
   "codemirror_mode": {
    "name": "ipython",
    "version": 3
   },
   "file_extension": ".py",
   "mimetype": "text/x-python",
   "name": "python",
   "nbconvert_exporter": "python",
   "pygments_lexer": "ipython3",
   "version": "3.8.5"
  }
 },
 "nbformat": 4,
 "nbformat_minor": 4
}
