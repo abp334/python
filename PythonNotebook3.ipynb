{
 "cells": [
  {
   "cell_type": "code",
   "execution_count": null,
   "metadata": {},
   "outputs": [],
   "source": [
    "# 1)Open File\n",
    "#     f = open(\"filename.txt\",mode)\n",
    "#     mode : r,w,a,r+,w+,a+\n",
    "# 2)various property of file object:\n",
    "#     name\n",
    "#     mode\n",
    "#     closed\n",
    "#     readable\n",
    "#     writable\n",
    "# 3)writing data to text file\n",
    "#     1)write(str)\n",
    "#     2)writelines(list) \\\\multiple lines\n",
    "# 4)reading character from text file\n",
    "#     1)read()\n",
    "#     2)read(n) \\\\ n is no of characters to read\n",
    "#     3)readline()\n",
    "#     4)readlines()\n",
    "\n",
    "# 5)tell() method will return current position of cursor from beginning of file like a string index\n",
    "# 6)seek() is used to move cursor to specific index"
   ]
  },
  {
   "cell_type": "code",
   "execution_count": null,
   "metadata": {},
   "outputs": [],
   "source": [
    "# write a python program to reverse the content of first file and store it in second file and also convert content of second\n",
    "# file into upper case and store it in third file and also count no of vowels in third file and also print only second line\n",
    "# from content of third file\n",
    "f1 = open(\"First.txt\",\"r\")\n",
    "data = f1.read()\n",
    "r = data[::-1]\n",
    "f2 = open(\"Second.txt\",\"w\")\n",
    "l = list(reversed(r))\n",
    "f2.write(r)\n",
    "f1.close()\n",
    "f2.close()\n",
    "f2 = open(\"Second.txt\",\"r\")\n",
    "f3 = open(\"Third.txt\",\"w\")\n",
    "data1 = f2.read()\n",
    "u = data1.upper()\n",
    "f3.write(u)\n",
    "f2.close()\n",
    "f3.close()\n",
    "vowel = 0\n",
    "f4 = open(\"Third.txt\",\"r\")\n",
    "for i in f4.read():\n",
    "    if i in \"AEIOU\":\n",
    "        vowel += 1\n",
    "print(vowel)\n",
    "f4.close()\n",
    "f5 = open(\"Third.txt\",\"r\")\n",
    "d = f5.readlines()\n",
    "print(d[1])\n",
    "f5.close()"
   ]
  },
  {
   "cell_type": "code",
   "execution_count": null,
   "metadata": {},
   "outputs": [],
   "source": [
    "# write a python program to count words characters and spaces in first.txt file\n",
    "f = open(\"First.txt\",\"r\")\n",
    "r = f.read()\n",
    "c = len(r)\n",
    "w = len(r.split())\n",
    "s = 0\n",
    "for i in r:\n",
    "    if i == \" \":\n",
    "        s += 1\n",
    "print(len(l),s,c)\n",
    "f.close()"
   ]
  },
  {
   "cell_type": "code",
   "execution_count": null,
   "metadata": {},
   "outputs": [],
   "source": [
    "# wap to find frequency of each word from given file first.txt\n",
    "f = open(\"First.txt\",\"r\")\n",
    "l = f.read().split()\n",
    "d = {}\n",
    "for i in l:\n",
    "    if i not in d:\n",
    "        d[i] = 0\n",
    "    d[i] += 1\n",
    "print(d)"
   ]
  },
  {
   "cell_type": "code",
   "execution_count": null,
   "metadata": {},
   "outputs": [],
   "source": [
    "# wap to search words in text file\n",
    "f = open(\"First.txt\",\"r\")\n",
    "word = input(\"Enter your word: \")\n",
    "l = f.readlines()\n",
    "for i in l:\n",
    "    if i.find(word)!= -1:\n",
    "        print(l.index(i),i.index(word))\n",
    "        "
   ]
  },
  {
   "cell_type": "code",
   "execution_count": null,
   "metadata": {},
   "outputs": [],
   "source": [
    "# wap to write all lines of first.txt file except those that start with #\n",
    "f = open(\"First.txt\",\"r\")\n",
    "l = f.readlines()\n",
    "for i in l:\n",
    "    if i[0] == \"#\":\n",
    "        continue\n",
    "    if i.find(\"#\") == -1:\n",
    "        print(i)\n",
    "    else:\n",
    "        print(i[:i.index(\"#\")])\n",
    "        "
   ]
  },
  {
   "cell_type": "code",
   "execution_count": null,
   "metadata": {},
   "outputs": [],
   "source": [
    "# wap to compare 2 text files if they are different then give the line and column number in the file where the first\n",
    "# difference occurs\n",
    "f1 = open(\"First.txt\",\"r\")\n",
    "f2 = open(\"FirstOne.txt\",\"r\")\n",
    "data1 = f1.readlines()\n",
    "data2 = f2.readlines()\n",
    "for index,line in enumerate(data1):\n",
    "    if line != data2[index]:\n",
    "        for i,char in enumerate(line):\n",
    "            if char != data2[index][i]:\n",
    "                print(\"Index: \",index+1)\n",
    "                print(\"Column number: \",i+1)\n",
    "                break"
   ]
  },
  {
   "cell_type": "code",
   "execution_count": 6,
   "metadata": {},
   "outputs": [
    {
     "name": "stdout",
     "output_type": "stream",
     "text": [
      "0 : Hello World\n",
      "\n",
      "Press any key to continue or q to quit: q\n"
     ]
    }
   ],
   "source": [
    "# wap such that the solution should prompt for a file name and display five lines at a time, pausing each time to ask the\n",
    "# user to press any key to continue or small q to quit and exit\n",
    "f1 = open(\"Intro.txt\",\"r\")\n",
    "n = 5\n",
    "for index,line in enumerate(f1):\n",
    "    print(index,\":\",line)\n",
    "    if index % n == 0:\n",
    "        x = input(\"Press any key to continue or q to quit: \")\n",
    "        if x.lower() == \"q\":\n",
    "            break\n",
    "f1.close()\n",
    "            "
   ]
  },
  {
   "cell_type": "code",
   "execution_count": 7,
   "metadata": {},
   "outputs": [],
   "source": [
    "# wap that scans the file class_scores.txt. Add 5 points to each test score of each student\n",
    "f = open(\"class_scores.txt\",\"r\")\n",
    "f2 = open(\"class_scores_2.txt\",\"w\")\n",
    "r = f.readlines()\n",
    "for i in r:\n",
    "    s = i.split()\n",
    "    f2.write(s[0]+\"\"+str(int(s[1])+5)+\"\\n\")\n",
    "f.close()\n",
    "f2.close()"
   ]
  },
  {
   "cell_type": "code",
   "execution_count": 11,
   "metadata": {},
   "outputs": [
    {
     "name": "stdout",
     "output_type": "stream",
     "text": [
      "27\n",
      "0.7507185185185187\n"
     ]
    }
   ],
   "source": [
    "f = open(\"mbox-short - Copy.txt\",\"r\")\n",
    "r = f.readlines()\n",
    "total=count=0\n",
    "for i in r:\n",
    "    if \"X-DSPAM-Confidence\" in i:\n",
    "        l = i.split()\n",
    "        count += 1\n",
    "        total += float(l[1])\n",
    "print(count)\n",
    "print(total/count)\n",
    "f.close()"
   ]
  },
  {
   "cell_type": "code",
   "execution_count": 13,
   "metadata": {
    "scrolled": false
   },
   "outputs": [
    {
     "name": "stdout",
     "output_type": "stream",
     "text": [
      "stephen.marquard@uct.ac.za\n",
      "louis@media.berkeley.edu\n",
      "zqian@umich.edu\n",
      "rjlowe@iupui.edu\n",
      "zqian@umich.edu\n",
      "rjlowe@iupui.edu\n",
      "cwen@iupui.edu\n",
      "cwen@iupui.edu\n",
      "gsilver@umich.edu\n",
      "gsilver@umich.edu\n",
      "zqian@umich.edu\n",
      "gsilver@umich.edu\n",
      "wagnermr@iupui.edu\n",
      "zqian@umich.edu\n",
      "antranig@caret.cam.ac.uk\n",
      "gopal.ramasammycook@gmail.com\n",
      "david.horwitz@uct.ac.za\n",
      "david.horwitz@uct.ac.za\n",
      "david.horwitz@uct.ac.za\n",
      "david.horwitz@uct.ac.za\n",
      "stephen.marquard@uct.ac.za\n",
      "louis@media.berkeley.edu\n",
      "louis@media.berkeley.edu\n",
      "ray@media.berkeley.edu\n",
      "cwen@iupui.edu\n",
      "cwen@iupui.edu\n",
      "cwen@iupui.edu\n",
      "27\n"
     ]
    }
   ],
   "source": [
    "f = open(\"mbox-short - Copy.txt\",\"r\")\n",
    "r = f.readlines()\n",
    "count = 0\n",
    "for i in r:\n",
    "    if \"From \" in i:\n",
    "        l = i.split()\n",
    "        count+=1\n",
    "        print(l[1])\n",
    "print(count)\n",
    "f.close()"
   ]
  },
  {
   "cell_type": "code",
   "execution_count": 24,
   "metadata": {},
   "outputs": [
    {
     "name": "stdout",
     "output_type": "stream",
     "text": [
      "At 04 hours 3 mails were sent\n",
      "At 06 hours 1 mails were sent\n",
      "At 07 hours 1 mails were sent\n",
      "At 09 hours 2 mails were sent\n",
      "At 10 hours 3 mails were sent\n",
      "At 11 hours 6 mails were sent\n",
      "At 14 hours 1 mails were sent\n",
      "At 15 hours 2 mails were sent\n",
      "At 16 hours 4 mails were sent\n",
      "At 17 hours 2 mails were sent\n",
      "At 18 hours 1 mails were sent\n",
      "At 19 hours 1 mails were sent\n",
      "Total mails sent: 27\n"
     ]
    }
   ],
   "source": [
    "# wap to read the mbox-short - Copy.txt file and figure out the distribution by hours of the day for each of the message\n",
    "f = open(\"mbox-short - Copy.txt\",\"r\")\n",
    "r = f.readlines()\n",
    "d ={}\n",
    "count = 0\n",
    "for i in r:\n",
    "    if \"From \" in i:\n",
    "        l = i.split()\n",
    "        s = l[-2].split(\":\")\n",
    "        d[s[0]] = d.get(s[0],0)+1\n",
    "l = list(d.items())\n",
    "l.sort()\n",
    "for i in l:\n",
    "    print(\"At\",i[0],\"hours\",i[1],\"mails were sent\")\n",
    "for i in d.values():\n",
    "    count += int(i)\n",
    "print(\"Total mails sent:\",count)\n",
    "f.close()"
   ]
  },
  {
   "cell_type": "code",
   "execution_count": 35,
   "metadata": {},
   "outputs": [
    {
     "name": "stdout",
     "output_type": "stream",
     "text": [
      "Maximum mails were by: cwen@iupui.edu sent 5 mails\n"
     ]
    }
   ],
   "source": [
    "f = open(\"mbox-short - Copy.txt\",\"r\")\n",
    "r = f.readlines()\n",
    "count = 0\n",
    "d = {}\n",
    "for i in r:\n",
    "    if \"From \" in i:\n",
    "        l = i.split()\n",
    "        d[l[1]] = d.get(l[1],0)+1\n",
    "l1 = []\n",
    "for i,j in d.items():\n",
    "    l1.append([j,i])\n",
    "l1.sort(reverse = True)\n",
    "print(\"Maximum mails were by:\",l1[0][1],\"sent\",l1[0][0],\"mails\")\n",
    "f.close()"
   ]
  },
  {
   "cell_type": "code",
   "execution_count": 41,
   "metadata": {},
   "outputs": [
    {
     "name": "stdout",
     "output_type": "stream",
     "text": [
      "['GWashington', 'JAdams', 'TJefferson', 'JMadison', 'AJackson', 'MVanBuren'] 6\n",
      "['JMonroe', 'JQAdams', 'JKPolk'] 3\n"
     ]
    }
   ],
   "source": [
    "# wap that scans the file grades.txt and determine how many students pass in all 3 tests \n",
    "passed = []\n",
    "fail = []\n",
    "f = open(\"grades.txt\",\"r\")\n",
    "r = f.readlines()\n",
    "for i in r:\n",
    "    l = i.split()\n",
    "    if int(l[1])>50 and int(l[2])>50 and int(l[3])>50:\n",
    "        passed.append(l[0])\n",
    "    else:\n",
    "        fail.append(l[0])\n",
    "print(passed,len(passed))\n",
    "print(fail,len(fail))\n",
    "f.close()"
   ]
  },
  {
   "cell_type": "code",
   "execution_count": 52,
   "metadata": {},
   "outputs": [
    {
     "name": "stdout",
     "output_type": "stream",
     "text": [
      "['Richie', 'Armstrong', 'Wirth', 'Matz', 'Gosling']\n"
     ]
    }
   ],
   "source": [
    "# wap that scans through the file logfile.txt and printout all users who were online for atleast an hour\n",
    "f = open(\"logfile.txt\",\"r\")\n",
    "r = f.readlines()\n",
    "online = []\n",
    "for i in r:\n",
    "    l = i.split()\n",
    "    s1 = l[1].split(\":\")\n",
    "    s2 = l[2].split(\":\")\n",
    "    if int(s1[0]) != int(s2[0]):\n",
    "        if int(s2[0])-int(s1[0]) > 1 or int(s1[1])-int(s2[1])<=0:\n",
    "            online.append(l[0])\n",
    "print(online)"
   ]
  },
  {
   "cell_type": "code",
   "execution_count": null,
   "metadata": {},
   "outputs": [],
   "source": []
  }
 ],
 "metadata": {
  "kernelspec": {
   "display_name": "Python 3",
   "language": "python",
   "name": "python3"
  },
  "language_info": {
   "codemirror_mode": {
    "name": "ipython",
    "version": 3
   },
   "file_extension": ".py",
   "mimetype": "text/x-python",
   "name": "python",
   "nbconvert_exporter": "python",
   "pygments_lexer": "ipython3",
   "version": "3.8.5"
  }
 },
 "nbformat": 4,
 "nbformat_minor": 4
}
