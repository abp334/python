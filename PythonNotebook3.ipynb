{
 "cells": [
  {
   "cell_type": "code",
   "execution_count": null,
   "metadata": {},
   "outputs": [],
   "source": [
    "# Ch-6 Files\n",
    "# 1)Open File\n",
    "#     f = open(\"filename.txt\",mode)\n",
    "#     mode : r,w,a,r+,w+,a+\n",
    "# 2)various property of file object:\n",
    "#     name\n",
    "#     mode\n",
    "#     closed\n",
    "#     readable\n",
    "#     writable\n",
    "# 3)writing data to text file\n",
    "#     1)write(str)\n",
    "#     2)writelines(list) \\\\multiple lines\n",
    "# 4)reading character from text file\n",
    "#     1)read()\n",
    "#     2)read(n) \\\\ n is no of characters to read\n",
    "#     3)readline()\n",
    "#     4)readlines()\n",
    "\n",
    "# 5)tell() method will return current position of cursor from beginning of file like a string index\n",
    "# 6)seek() is used to move cursor to specific index"
   ]
  },
  {
   "cell_type": "code",
   "execution_count": null,
   "metadata": {},
   "outputs": [],
   "source": [
    "# write a python program to reverse the content of first file and store it in second file and also convert content of second\n",
    "# file into upper case and store it in third file and also count no of vowels in third file and also print only second line\n",
    "# from content of third file\n",
    "f1 = open(\"First.txt\",\"r\")\n",
    "data = f1.read()\n",
    "r = data[::-1]\n",
    "f2 = open(\"Second.txt\",\"w\")\n",
    "l = list(reversed(r))\n",
    "f2.write(r)\n",
    "f1.close()\n",
    "f2.close()\n",
    "f2 = open(\"Second.txt\",\"r\")\n",
    "f3 = open(\"Third.txt\",\"w\")\n",
    "data1 = f2.read()\n",
    "u = data1.upper()\n",
    "f3.write(u)\n",
    "f2.close()\n",
    "f3.close()\n",
    "vowel = 0\n",
    "f4 = open(\"Third.txt\",\"r\")\n",
    "for i in f4.read():\n",
    "    if i in \"AEIOU\":\n",
    "        vowel += 1\n",
    "print(vowel)\n",
    "f4.close()\n",
    "f5 = open(\"Third.txt\",\"r\")\n",
    "d = f5.readlines()\n",
    "print(d[1])\n",
    "f5.close()"
   ]
  },
  {
   "cell_type": "code",
   "execution_count": null,
   "metadata": {},
   "outputs": [],
   "source": [
    "# write a python program to count words characters and spaces in first.txt file\n",
    "f = open(\"First.txt\",\"r\")\n",
    "r = f.read()\n",
    "c = len(r)\n",
    "w = len(r.split())\n",
    "s = 0\n",
    "for i in r:\n",
    "    if i == \" \":\n",
    "        s += 1\n",
    "print(len(l),s,c)\n",
    "f.close()"
   ]
  },
  {
   "cell_type": "code",
   "execution_count": null,
   "metadata": {},
   "outputs": [],
   "source": [
    "# wap to find frequency of each word from given file first.txt\n",
    "f = open(\"First.txt\",\"r\")\n",
    "l = f.read().split()\n",
    "d = {}\n",
    "for i in l:\n",
    "    if i not in d:\n",
    "        d[i] = 0\n",
    "    d[i] += 1\n",
    "print(d)"
   ]
  },
  {
   "cell_type": "code",
   "execution_count": null,
   "metadata": {},
   "outputs": [],
   "source": [
    "# wap to search words in text file\n",
    "f = open(\"First.txt\",\"r\")\n",
    "word = input(\"Enter your word: \")\n",
    "l = f.readlines()\n",
    "for i in l:\n",
    "    if i.find(word)!= -1:\n",
    "        print(l.index(i),i.index(word))\n",
    "        "
   ]
  },
  {
   "cell_type": "code",
   "execution_count": null,
   "metadata": {},
   "outputs": [],
   "source": [
    "# wap to write all lines of first.txt file except those that start with #\n",
    "f = open(\"First.txt\",\"r\")\n",
    "l = f.readlines()\n",
    "for i in l:\n",
    "    if i[0] == \"#\":\n",
    "        continue\n",
    "    if i.find(\"#\") == -1:\n",
    "        print(i)\n",
    "    else:\n",
    "        print(i[:i.index(\"#\")])\n",
    "        "
   ]
  },
  {
   "cell_type": "code",
   "execution_count": null,
   "metadata": {},
   "outputs": [],
   "source": [
    "# wap to compare 2 text files if they are different then give the line and column number in the file where the first\n",
    "# difference occurs\n",
    "f1 = open(\"First.txt\",\"r\")\n",
    "f2 = open(\"FirstOne.txt\",\"r\")\n",
    "data1 = f1.readlines()\n",
    "data2 = f2.readlines()\n",
    "for index,line in enumerate(data1):\n",
    "    if line != data2[index]:\n",
    "        for i,char in enumerate(line):\n",
    "            if char != data2[index][i]:\n",
    "                print(\"Index: \",index+1)\n",
    "                print(\"Column number: \",i+1)\n",
    "                break"
   ]
  },
  {
   "cell_type": "code",
   "execution_count": null,
   "metadata": {},
   "outputs": [],
   "source": [
    "# wap such that the solution should prompt for a file name and display five lines at a time, pausing each time to ask the\n",
    "# user to press any key to continue or small q to quit and exit\n",
    "f1 = open(\"Intro.txt\",\"r\")\n",
    "n = 5\n",
    "for index,line in enumerate(f1):\n",
    "    print(index,\":\",line)\n",
    "    if index % n == 0:\n",
    "        x = input(\"Press any key to continue or q to quit: \")\n",
    "        if x.lower() == \"q\":\n",
    "            break\n",
    "f1.close()\n",
    "            "
   ]
  },
  {
   "cell_type": "code",
   "execution_count": null,
   "metadata": {},
   "outputs": [],
   "source": [
    "# wap that scans the file class_scores.txt. Add 5 points to each test score of each student\n",
    "f = open(\"class_scores.txt\",\"r\")\n",
    "f2 = open(\"class_scores_2.txt\",\"w\")\n",
    "r = f.readlines()\n",
    "for i in r:\n",
    "    s = i.split()\n",
    "    f2.write(s[0]+\"\"+str(int(s[1])+5)+\"\\n\")\n",
    "f.close()\n",
    "f2.close()"
   ]
  },
  {
   "cell_type": "code",
   "execution_count": null,
   "metadata": {},
   "outputs": [],
   "source": [
    "f = open(\"mbox-short - Copy.txt\",\"r\")\n",
    "r = f.readlines()\n",
    "total=count=0\n",
    "for i in r:\n",
    "    if \"X-DSPAM-Confidence\" in i:\n",
    "        l = i.split()\n",
    "        count += 1\n",
    "        total += float(l[1])\n",
    "print(count)\n",
    "print(total/count)\n",
    "f.close()"
   ]
  },
  {
   "cell_type": "code",
   "execution_count": null,
   "metadata": {
    "scrolled": false
   },
   "outputs": [],
   "source": [
    "f = open(\"mbox-short - Copy.txt\",\"r\")\n",
    "r = f.readlines()\n",
    "count = 0\n",
    "for i in r:\n",
    "    if \"From \" in i:\n",
    "        l = i.split()\n",
    "        count+=1\n",
    "        print(l[1])\n",
    "print(count)\n",
    "f.close()"
   ]
  },
  {
   "cell_type": "code",
   "execution_count": null,
   "metadata": {},
   "outputs": [],
   "source": [
    "# wap to read the mbox-short - Copy.txt file and figure out the distribution by hours of the day for each of the message\n",
    "f = open(\"mbox-short - Copy.txt\",\"r\")\n",
    "r = f.readlines()\n",
    "d ={}\n",
    "count = 0\n",
    "for i in r:\n",
    "    if \"From \" in i:\n",
    "        l = i.split()\n",
    "        s = l[-2].split(\":\")\n",
    "        d[s[0]] = d.get(s[0],0)+1\n",
    "l = list(d.items())\n",
    "l.sort()\n",
    "for i in l:\n",
    "    print(\"At\",i[0],\"hours\",i[1],\"mails were sent\")\n",
    "for i in d.values():\n",
    "    count += int(i)\n",
    "print(\"Total mails sent:\",count)\n",
    "f.close()"
   ]
  },
  {
   "cell_type": "code",
   "execution_count": null,
   "metadata": {},
   "outputs": [],
   "source": [
    "f = open(\"mbox-short - Copy.txt\",\"r\")\n",
    "r = f.readlines()\n",
    "count = 0\n",
    "d = {}\n",
    "for i in r:\n",
    "    if \"From \" in i:\n",
    "        l = i.split()\n",
    "        d[l[1]] = d.get(l[1],0)+1\n",
    "l1 = []\n",
    "for i,j in d.items():\n",
    "    l1.append([j,i])\n",
    "l1.sort(reverse = True)\n",
    "print(\"Maximum mails were by:\",l1[0][1],\"sent\",l1[0][0],\"mails\")\n",
    "f.close()"
   ]
  },
  {
   "cell_type": "code",
   "execution_count": null,
   "metadata": {},
   "outputs": [],
   "source": [
    "# wap that scans the file grades.txt and determine how many students pass in all 3 tests \n",
    "passed = []\n",
    "fail = []\n",
    "f = open(\"grades.txt\",\"r\")\n",
    "r = f.readlines()\n",
    "for i in r:\n",
    "    l = i.split()\n",
    "    if int(l[1])>50 and int(l[2])>50 and int(l[3])>50:\n",
    "        passed.append(l[0])\n",
    "    else:\n",
    "        fail.append(l[0])\n",
    "print(passed,len(passed))\n",
    "print(fail,len(fail))\n",
    "f.close()"
   ]
  },
  {
   "cell_type": "code",
   "execution_count": null,
   "metadata": {},
   "outputs": [],
   "source": [
    "# wap that scans through the file logfile.txt and printout all users who were online for atleast an hour\n",
    "f = open(\"logfile.txt\",\"r\")\n",
    "r = f.readlines()\n",
    "online = []\n",
    "for i in r:\n",
    "    l = i.split()\n",
    "    s1 = l[1].split(\":\")\n",
    "    s2 = l[2].split(\":\")\n",
    "    if int(s1[0]) != int(s2[0]):\n",
    "        if int(s2[0])-int(s1[0]) > 1 or int(s1[1])-int(s2[1])<=0:\n",
    "            online.append(l[0])\n",
    "print(online)"
   ]
  },
  {
   "cell_type": "code",
   "execution_count": 12,
   "metadata": {},
   "outputs": [
    {
     "name": "stdout",
     "output_type": "stream",
     "text": [
      "68.8329283110571\n",
      "Enter Your fav team: ag\n",
      "Team not found\n",
      "[8, 'AlcornSt.']\n",
      "['NCAsheville', 'SalemInternational', 'MainePresqueIsle', 'Berea']\n"
     ]
    }
   ],
   "source": [
    "# 1)find average of point scores over all the game in file\n",
    "# 2)pick your fav team and scan throughout the file to determine how many games they won and they loose\n",
    "# 3)find the team that lost by 30 or more games points the most time\n",
    "# 4)make list of team which loss by 70 or more points\n",
    "f = open(\"scores.txt\",\"r\")\n",
    "r = f.readlines()\n",
    "count = total = 0\n",
    "for i in r:\n",
    "    l = i.split()\n",
    "    count+= 2\n",
    "    total += int(l[2])+int(l[4])\n",
    "print(total/count)\n",
    "team = input(\"Enter Your fav team: \")\n",
    "won = lose = difference = flag = 0\n",
    "for i in r:\n",
    "    if i.find(team)!= -1:\n",
    "        l = i.split()\n",
    "        if team == l[0]:\n",
    "            flag = 1\n",
    "            difference = int(l[2])-int(l[4])\n",
    "        elif team == l[3]:\n",
    "            flag = 1\n",
    "            difference = int(l[4])-int(l[2])\n",
    "        if difference > 0:\n",
    "            won += 1\n",
    "        elif difference < 0:\n",
    "            lose += 1\n",
    "if flag == 1:\n",
    "    print(team,\"won:\",won,\"matches and lost:\",lose,\"matches\")\n",
    "else:\n",
    "    print(\"Team not found\")\n",
    "diff = 0\n",
    "d = {}\n",
    "for i in r:\n",
    "    l = i.split()\n",
    "    diff = int(l[2])-int(l[4])\n",
    "    if diff < -30:\n",
    "        d[l[1]] = d.get(l[1],0)+1\n",
    "    elif diff > 30:\n",
    "        d[l[3]] = d.get(l[3],0)+1\n",
    "lost = []\n",
    "for i,j in d.items():\n",
    "    lost.append([j,i])\n",
    "lost.sort(reverse = True)\n",
    "print(lost[0])\n",
    "d2 = {}\n",
    "diff2 = 0\n",
    "for i in r:\n",
    "    l = i.split()\n",
    "    diff2 = int(l[2])-int(l[4])\n",
    "    if diff2 < -70:\n",
    "        d2[l[1]] = d2.get(l[1],0)+1\n",
    "    elif diff2 > 70:\n",
    "        d2[l[3]] = d2.get(l[3],0)+1\n",
    "lost2 = list(d2.keys())\n",
    "print(lost2)\n",
    "f.close()"
   ]
  },
  {
   "cell_type": "code",
   "execution_count": 21,
   "metadata": {},
   "outputs": [
    {
     "name": "stdout",
     "output_type": "stream",
     "text": [
      "Enter the initial of name: M\n",
      "Enter the initial of surname: S\n",
      "['Mavis', 'Paola', 'Shindler']\n",
      "['Myrtie', 'Seibold']\n",
      "['Max', 'T.', 'Swayze']\n",
      "['Maryann', 'Schultze']\n",
      "['Meg', 'Sherman']\n"
     ]
    }
   ],
   "source": [
    "f = open(\"namelist.txt\",\"r\")\n",
    "r = f.readlines()\n",
    "name = input(\"Enter the initial of name: \")\n",
    "surname = input(\"Enter the initial of surname: \")\n",
    "if (len(name)==1 and len(surname)==1):\n",
    "    for i in r:\n",
    "        l = i.split()\n",
    "        if l[0].startswith(name) and l[-1].startswith(surname):\n",
    "            print(l)\n",
    "else:\n",
    "    print(\"Enter Valid input\")\n",
    "f.close()"
   ]
  },
  {
   "cell_type": "code",
   "execution_count": 34,
   "metadata": {},
   "outputs": [
    {
     "name": "stdout",
     "output_type": "stream",
     "text": [
      "Enter characters which are included in words you want: acxd\n",
      "detoxification\n",
      "\n",
      "exactitude\n",
      "\n",
      "hexadecimal\n",
      "\n",
      "intoxicated\n",
      "\n",
      "paradoxical\n",
      "\n",
      "paradoxically\n",
      "\n",
      "tax-deductible\n",
      "\n"
     ]
    }
   ],
   "source": [
    "f = open(\"wordlist.txt\",\"r\")\n",
    "user = input(\"Enter characters which are included in words you want: \")\n",
    "d = {}\n",
    "for i in user:\n",
    "    d[i] = d.get(i,0)+1\n",
    "for line in f:\n",
    "    for i in line.split(\" \"):\n",
    "        e = {}\n",
    "        for x in i:\n",
    "            e[x] = e.get(x,0)+1\n",
    "            flag = True\n",
    "        for j in d:\n",
    "            if j not in e or d[j]>e[j]:\n",
    "                flag = False\n",
    "        if flag:\n",
    "            print(line)\n",
    "f.close()"
   ]
  },
  {
   "cell_type": "code",
   "execution_count": 42,
   "metadata": {},
   "outputs": [],
   "source": [
    "# you are given a file students.txt wap that reads through the file line by line and capitalize the first letter of the \n",
    "# first and last name and add the area code 301 to the phone number\n",
    "f = open(\"students.txt\",\"r\")\n",
    "f2 = open(\"students_2.txt\",\"w\")\n",
    "r = f.readlines()\n",
    "entry = []\n",
    "for i in r:\n",
    "    l = i.split()\n",
    "    name = l[0].capitalize()+\" \"+l[1].capitalize()+\" \"+l[2]+\" \"+\"301-\"+l[3]+\"\\n\"\n",
    "    entry.append(name)\n",
    "f2.writelines(entry)\n",
    "f.close()\n",
    "f2.close()"
   ]
  },
  {
   "cell_type": "code",
   "execution_count": 4,
   "metadata": {},
   "outputs": [
    {
     "name": "stdout",
     "output_type": "stream",
     "text": [
      "100\n",
      "60\n",
      "35\n"
     ]
    }
   ],
   "source": [
    "# Ch-7 Module and Directories\n",
    "import Aayush as abp\n",
    "print(abp.a)\n",
    "print(abp.add(25,35))\n",
    "print(abp.product(5,7))\n",
    "#different method for import:\n",
    "# import xyz\n",
    "# import xyz as x\n",
    "# from xyz import product,b (can use directly the function eg. product(2,3))\n",
    "# from xyz import *\n",
    "# from xyz import a as d "
   ]
  },
  {
   "cell_type": "code",
   "execution_count": 6,
   "metadata": {},
   "outputs": [
    {
     "name": "stdout",
     "output_type": "stream",
     "text": [
      "D:\\D1-11-Python\n"
     ]
    }
   ],
   "source": [
    "#working with directories \n",
    "# 1) To know current working directory\n",
    "import os\n",
    "print(os.getcwd())\n",
    "# 2)To creat subdiractory in current working directory\n",
    "os.mkdir(\"Pandya\")"
   ]
  },
  {
   "cell_type": "code",
   "execution_count": 7,
   "metadata": {},
   "outputs": [],
   "source": [
    "# 3)To remove directory\n",
    "os.rmdir(\"Pandya\")\n",
    "# 4)To remove file\n",
    "os.remove(\"filename\")\n",
    "# 5)To rename directory or fie name \n",
    "os.rename(\"oldfilename\",\"newfilename\")\n",
    "# 6) To get list of files\n",
    "os.listdir()\n",
    "# 7)To change the current working directory to specified path\n",
    "os.chdir()"
   ]
  },
  {
   "cell_type": "code",
   "execution_count": 13,
   "metadata": {},
   "outputs": [
    {
     "name": "stdout",
     "output_type": "stream",
     "text": [
      "Enter your string: heLLo WorlD\n",
      "HELLO WORLD\n",
      "hello world\n",
      "HEllO wORLd\n",
      "Hello world\n",
      "Hello World\n"
     ]
    }
   ],
   "source": [
    "from strmodule import *\n",
    "s = input(\"Enter your string: \")\n",
    "upper(s)\n",
    "lower(s)\n",
    "swapcase(s)\n",
    "capitalize(s)\n",
    "title(s)"
   ]
  },
  {
   "cell_type": "code",
   "execution_count": 24,
   "metadata": {},
   "outputs": [
    {
     "name": "stdout",
     "output_type": "stream",
     "text": [
      "D:\\D1-11-Python\n",
      "['.ipynb_checkpoints', 'files', 'PB_Python-I_SEM III_2024.pdf', 'PythonNotebook3.ipynb', '__pycache__']\n"
     ]
    }
   ],
   "source": [
    "import os\n",
    "# os.mkdir(\"First\")\n",
    "# os.mkdir(\"First/Second\")\n",
    "print(os.getcwd())\n",
    "print(os.listdir())"
   ]
  },
  {
   "cell_type": "code",
   "execution_count": 32,
   "metadata": {},
   "outputs": [
    {
     "name": "stdout",
     "output_type": "stream",
     "text": [
      "S1W9T2\n",
      "D8P8B6\n",
      "E6A2W9\n",
      "C2Z7Y5\n",
      "C9P6A1\n",
      "O4T3Q6\n",
      "P8Z9C7\n",
      "M8U4N5\n",
      "F4C5A5\n",
      "K3A2A1\n"
     ]
    }
   ],
   "source": [
    "# wap to generate a random password of 6 length \n",
    "# 1,3,5 position are alphabet\n",
    "# 2,4,6 position are digit\n",
    "from random import *\n",
    "def random():\n",
    "    str2 = \"\"\n",
    "    for i in range(6):\n",
    "        if i%2 != 0:\n",
    "            r = randint(1,9)\n",
    "            str2 += str(r)\n",
    "        elif i%2 == 0:\n",
    "            r = randint(65,90)\n",
    "            char = chr(r)\n",
    "            str2 += str(char)\n",
    "    print(str2)\n",
    "\n",
    "for i in range(10):\n",
    "    random()"
   ]
  },
  {
   "cell_type": "code",
   "execution_count": 43,
   "metadata": {},
   "outputs": [
    {
     "name": "stdout",
     "output_type": "stream",
     "text": [
      "Some error\n",
      "division by zero\n",
      "<class 'ZeroDivisionError'>\n"
     ]
    }
   ],
   "source": [
    "# Ch-8 Object Oriented Programming and Exception Handling\n",
    "# **Exception Handling\n",
    "#1) try and except\n",
    "try:\n",
    "    print(1/0)\n",
    "except:\n",
    "    print(\"Some error\")\n",
    "# 2)try and except Exception as e\n",
    "try:\n",
    "    a = 10\n",
    "    b = 0\n",
    "    print(a/b)\n",
    "except Exception as e:\n",
    "    print(e)\n",
    "    print(e.__class__)"
   ]
  },
  {
   "cell_type": "code",
   "execution_count": 42,
   "metadata": {},
   "outputs": [
    {
     "name": "stdout",
     "output_type": "stream",
     "text": [
      "Hello\n",
      "World\n"
     ]
    }
   ],
   "source": [
    "# 3)try except and else\n",
    "# if try block executes without any error then only else part is executed\n",
    "try:\n",
    "    print(\"Hello\")\n",
    "except:\n",
    "    print(\"Hi\")\n",
    "else:\n",
    "    print(\"World\")"
   ]
  },
  {
   "cell_type": "code",
   "execution_count": 48,
   "metadata": {},
   "outputs": [
    {
     "name": "stdout",
     "output_type": "stream",
     "text": [
      "Hello\n",
      "World\n"
     ]
    }
   ],
   "source": [
    "#4) try except else and finally\n",
    "# finally block will always execute irrespective of any error occurs or not\n",
    "try:\n",
    "    print(1/0)\n",
    "except:\n",
    "    print(\"Hello\")\n",
    "else:\n",
    "    print(\"Earth\")\n",
    "finally:\n",
    "    print(\"World\")"
   ]
  },
  {
   "cell_type": "code",
   "execution_count": 61,
   "metadata": {},
   "outputs": [
    {
     "name": "stdout",
     "output_type": "stream",
     "text": [
      "4\n",
      "0\n",
      "division by zero\n"
     ]
    }
   ],
   "source": [
    "# **Catching specific exception\n",
    "def division(a,b):\n",
    "    return a/b\n",
    "try:\n",
    "    a = int(input())\n",
    "    b = int(input())\n",
    "    print(division(a,b))\n",
    "    a = [1,2,3]\n",
    "    print(a[3])\n",
    "except(IndexError,ZeroDivisionError) as e:\n",
    "    print(e)"
   ]
  },
  {
   "cell_type": "code",
   "execution_count": 67,
   "metadata": {},
   "outputs": [
    {
     "name": "stdout",
     "output_type": "stream",
     "text": [
      "a has to be string\n"
     ]
    }
   ],
   "source": [
    "#Raising Custom exception\n",
    "def isstringempty(a):\n",
    "    if type(a) != str:\n",
    "        raise TypeError('a has to be string')\n",
    "    if not a:\n",
    "        raise ValueError('a cannot be null')\n",
    "    if a == \" \":\n",
    "        return False\n",
    "    return True\n",
    "try:\n",
    "    a = 123\n",
    "    print(isstringempty(a))\n",
    "except ValueError as e:\n",
    "    print(e)\n",
    "except TypeError as e:\n",
    "    print(e)"
   ]
  },
  {
   "cell_type": "code",
   "execution_count": 68,
   "metadata": {},
   "outputs": [],
   "source": [
    "# Common Exception\n",
    "# Exception\n",
    "# ZeroDivisionException\n",
    "# AttributeError \\\\if var is not present\n",
    "# ImportError \\\\if module is not imported\n",
    "# NameError \n",
    "# SyntaxError \n",
    "# KeyError \\\\key in dictionary not available\n",
    "# IndentationError\n",
    "# TypeError \\\\data type is different\n",
    "# ValueError \\\\value is wrong or different"
   ]
  },
  {
   "cell_type": "code",
   "execution_count": 27,
   "metadata": {},
   "outputs": [
    {
     "name": "stdout",
     "output_type": "stream",
     "text": [
      "Jesse Pinkman\n",
      "25\n",
      "Male\n",
      "Breaking Bad\n",
      "******************************\n",
      "Skyler White\n",
      "35\n",
      "Female\n",
      "Breaking Bad\n",
      "******************************\n",
      "You know me I am the greatest bread cook. I am the one who eliminated Gus Fring I am Jesse Pinkman\n",
      "You know me I am the greatest pancake cook. I am the one who eliminated Gus Fring I am Skyler White\n"
     ]
    }
   ],
   "source": [
    "# Object oriented programming\n",
    "# init method is a constructor which initializes the variables or properties of a class\n",
    "class Human:\n",
    "    series = \"Breaking Bad\"\n",
    "    def __init__(self,name,age,gender):\n",
    "        self.name = name\n",
    "        self.age = age\n",
    "        self.gender = gender\n",
    "    def printing(self):\n",
    "        print(self.name)\n",
    "        print(self.age)\n",
    "        print(self.gender)\n",
    "        print(self.series)\n",
    "        print(\"******************************\")\n",
    "    def intro(self,dish):\n",
    "        return f\"You know me I am the greatest {dish} cook. I am the one who eliminated Gus Fring I am {self.name}\"\n",
    "h = Human(\"Walter White\",50,\"Male\")\n",
    "x = Human(\"Skyler White\",35,\"Female\")\n",
    "h.name,h.age = \"Jesse Pinkman\",25\n",
    "h.printing()\n",
    "x.printing()\n",
    "print(h.intro(\"bread\"))\n",
    "print(x.intro(\"pancake\"))"
   ]
  },
  {
   "cell_type": "code",
   "execution_count": 25,
   "metadata": {},
   "outputs": [
    {
     "name": "stdout",
     "output_type": "stream",
     "text": [
      "Name: John\n",
      "Age: 50\n",
      "Salary: 10000\n",
      "*****************\n",
      "Name: Sam\n",
      "Age: 35\n",
      "Salary: 15000\n",
      "*****************\n",
      "Name: Tom\n",
      "Age: 45\n",
      "Salary: 20000\n",
      "*****************\n",
      "No of employees: 3\n"
     ]
    }
   ],
   "source": [
    "# wap to create employee class that keeps record of number of employees in the organization and also store their data\n",
    "# define two method, first indicates how many employee in organization and second displays data of particular employee\n",
    "# like name age and salary\n",
    "class Employee:\n",
    "    emp = 0\n",
    "    def __init__(self,name,age,salary):\n",
    "        self.name = name\n",
    "        self.age = age\n",
    "        self.salary = salary\n",
    "        Employee.emp += 1\n",
    "    def noOfEmp():\n",
    "        return f\"No of employees: {Employee.emp}\"\n",
    "    def display(self):\n",
    "        print(\"Name:\",self.name)\n",
    "        print(\"Age:\",self.age)\n",
    "        print(\"Salary:\",self.salary)\n",
    "        print(\"*****************\")\n",
    "a = Employee(\"John\",50,10000)\n",
    "b = Employee(\"Sam\",35,15000)\n",
    "c = Employee(\"Tom\",45,20000)\n",
    "a.display()\n",
    "b.display()\n",
    "c.display()\n",
    "print(Employee.noOfEmp())"
   ]
  },
  {
   "cell_type": "code",
   "execution_count": 32,
   "metadata": {},
   "outputs": [
    {
     "name": "stdout",
     "output_type": "stream",
     "text": [
      "Account Name: John\n",
      "Account Number: 1234\n",
      "Balance: 38000.0\n"
     ]
    }
   ],
   "source": [
    "# wap to create bank account class\n",
    "# create a constructor with parameter account no,a holder name,balance\n",
    "# create a deposit method which manage deposit action\n",
    "# create withdrawal method which manage withdrawal action and amount < balance\n",
    "# create bank fees method to apply the bank fees 5% of the balance\n",
    "# create display method to display account details\n",
    "class Bank:\n",
    "    def __init__(self,accNo,holderName,balance):\n",
    "        self.accNo = accNo\n",
    "        self.holderName = holderName\n",
    "        self.balance = balance\n",
    "    def deposit(self,amount):\n",
    "        self.balance += amount\n",
    "    def withdrawal(self,amount):\n",
    "        if amount < self.balance:\n",
    "            self.balance -= amount\n",
    "        else:\n",
    "            print(\"Not enough balance!\")\n",
    "    def bankfees(self):\n",
    "        self.balance -= (self.balance*0.05)\n",
    "    def display(self):\n",
    "        print(\"Account Name:\",self.holderName)\n",
    "        print(\"Account Number:\",self.accNo)\n",
    "        print(\"Balance:\",self.balance)\n"
   ]
  },
  {
   "cell_type": "code",
   "execution_count": 41,
   "metadata": {},
   "outputs": [
    {
     "name": "stdout",
     "output_type": "stream",
     "text": [
      "Enter marks of subject 1: 30\n",
      "Enter marks of subject 2: 40\n",
      "Enter marks of subject 3: 40\n",
      "Enter marks of subject 1: 30\n",
      "Enter marks of subject 2: 50\n",
      "Enter marks of subject 3: 50\n",
      "Name:  John\n",
      "Roll No: 1\n",
      "Marks of Subject 1: 30\n",
      "Marks of Subject 2: 40\n",
      "Marks of Subject 3: 40\n",
      "Total: 110\n",
      "********************************\n",
      "Name:  Sam\n",
      "Roll No: 2\n",
      "Marks of Subject 1: 30\n",
      "Marks of Subject 2: 50\n",
      "Marks of Subject 3: 50\n",
      "Total: 130\n",
      "********************************\n"
     ]
    }
   ],
   "source": [
    "# wap to create class student and store three subject marks of student in list and take marks as a user input\n",
    "# also give total of marks \n",
    "class Student:\n",
    "    def __init__(self,name,roll):\n",
    "        self.name = name\n",
    "        self.roll = roll\n",
    "        self.student = []\n",
    "        self.marks()\n",
    "    def marks(self):\n",
    "        self.sub1 = int(input(\"Enter marks of subject 1: \"))\n",
    "        self.sub2 = int(input(\"Enter marks of subject 2: \"))\n",
    "        self.sub3 = int(input(\"Enter marks of subject 3: \"))\n",
    "        self.student.append(self.sub1)\n",
    "        self.student.append(self.sub2)\n",
    "        self.student.append(self.sub2)\n",
    "    def total(self):\n",
    "        return sum(self.student)\n",
    "    def display(self):\n",
    "        print(\"Name: \",self.name)\n",
    "        print(\"Roll No:\",self.roll)\n",
    "        print(\"Marks of Subject 1:\",self.sub1)\n",
    "        print(\"Marks of Subject 2:\",self.sub2)\n",
    "        print(\"Marks of Subject 3:\",self.sub3)\n",
    "        print(\"Total:\",self.total())\n",
    "        print(\"********************************\")\n",
    "a = Student(\"John\",1)\n",
    "b = Student(\"Sam\",2)\n",
    "a.display()\n",
    "b.display()"
   ]
  },
  {
   "cell_type": "code",
   "execution_count": 49,
   "metadata": {},
   "outputs": [
    {
     "name": "stdout",
     "output_type": "stream",
     "text": [
      "Enter 1 to Add Book, 2 to Display: 1\n",
      "\n",
      "Enter Book Title: Harry Potter\n",
      "Enter Book Author: JK Rowling\n",
      "Enter Book Publisher: Penguin\n",
      "\n",
      "Do you want to continue ? Y for yes and N for no: y\n",
      "\n",
      "Enter 1 to Add Book, 2 to Display: 1\n",
      "\n",
      "Enter Book Title: Theory Of Everything\n",
      "Enter Book Author: Stephen Hawking\n",
      "Enter Book Publisher: Oxford\n",
      "\n",
      "Do you want to continue ? Y for yes and N for no: y\n",
      "\n",
      "Enter 1 to Add Book, 2 to Display: 2\n",
      "\n",
      "Book Title: Harry Potter\n",
      "Book Author: JK Rowling\n",
      "Book Publisher: Penguin\n",
      "********************************************\n",
      "Book Title: Theory Of Everything\n",
      "Book Author: Stephen Hawking\n",
      "Book Publisher: Oxford\n",
      "********************************************\n",
      "Do you want to continue ? Y for yes and N for no: n\n",
      "\n"
     ]
    }
   ],
   "source": [
    "class Library:\n",
    "    def __init__(self,title,author,publisher):\n",
    "        self.title = title\n",
    "        self.author = author\n",
    "        self.publisher = publisher\n",
    "    def  display(self):\n",
    "        print(\"Book Title:\",self.title)\n",
    "        print(\"Book Author:\",self.author)\n",
    "        print(\"Book Publisher:\",self.publisher)\n",
    "        print(\"********************************************\")\n",
    "books = []\n",
    "while(True):\n",
    "    n = int(input(\"Enter 1 to Add Book, 2 to Display: \"))\n",
    "    print()\n",
    "    if(n == 1):\n",
    "        title = input(\"Enter Book Title: \")\n",
    "        author = input(\"Enter Book Author: \")\n",
    "        publisher = input(\"Enter Book Publisher: \")\n",
    "        print()\n",
    "        books.append(Library(title,author,publisher))\n",
    "    elif(n==2):\n",
    "        for i in books:\n",
    "            i.display()\n",
    "    user = input(\"Do you want to continue ? Y for yes and N for no: \")\n",
    "    if user == \"Y\" or user == \"y\":\n",
    "        print()\n",
    "        continue\n",
    "    elif user == \"N\" or user == \"n\":\n",
    "        print()\n",
    "        break"
   ]
  },
  {
   "cell_type": "code",
   "execution_count": 3,
   "metadata": {},
   "outputs": [
    {
     "name": "stdout",
     "output_type": "stream",
     "text": [
      "Area: 12.566370614359172\n",
      "Perimeter: 12.566370614359172\n",
      "True\n"
     ]
    }
   ],
   "source": [
    "# wap to define a class circle allowing to create circle with radius r and center point a,b\n",
    "# define area method of the class which calculates area of the circle\n",
    "# define perimeter method of the class which allows to calculate perimeter of the circle\n",
    "# define test method which allows to test whether a point x,y belongs to the circle or not\n",
    "import math\n",
    "class Circle:\n",
    "    def __init__(self,r,a,b):\n",
    "        self.r = r\n",
    "        self.a = a\n",
    "        self.b = b\n",
    "    def area(self):\n",
    "        print(\"Area:\",math.pi*(self.r**2))\n",
    "    def perimeter(self):\n",
    "        print(\"Perimeter:\",math.pi*(2*self.r))\n",
    "    def test(self,x,y):\n",
    "        return ((x-self.a)**2+(y-self.b)**2)==self.r**2\n",
    "c = Circle(2,3,3)\n",
    "c.area()\n",
    "c.perimeter()\n",
    "print(c.test(5,3))"
   ]
  },
  {
   "cell_type": "code",
   "execution_count": 6,
   "metadata": {},
   "outputs": [
    {
     "name": "stdout",
     "output_type": "stream",
     "text": [
      "1)Press 1 to create pin 2)Press 2 to change pin 3)Press 3 to check balance 4)Press 4 to withdraw 5)Anything to exit1\n",
      "Enter your pin: 1234\n",
      "Enter Balance: 4000\n",
      "Pin created successfully\n",
      "1)Press 1 to create pin 2)Press 2 to change pin 3)Press 3 to check balance 4)Press 4 to withdraw 5)Anything to exit2\n",
      "Enter old pin: 1234\n",
      "Enter new pin: 3456\n",
      "Pin changed successfully\n",
      "1)Press 1 to create pin 2)Press 2 to change pin 3)Press 3 to check balance 4)Press 4 to withdraw 5)Anything to exit3\n",
      "Enter pin: 1234\n",
      "Enter correct pin\n",
      "1)Press 1 to create pin 2)Press 2 to change pin 3)Press 3 to check balance 4)Press 4 to withdraw 5)Anything to exit3\n",
      "Enter pin: 3456\n",
      "4000\n",
      "1)Press 1 to create pin 2)Press 2 to change pin 3)Press 3 to check balance 4)Press 4 to withdraw 5)Anything to exit4\n",
      "Enter pin: 3456\n",
      "Enter amount: 3000\n",
      "3000 Withdrawn successfully\n",
      "1)Press 1 to create pin 2)Press 2 to change pin 3)Press 3 to check balance 4)Press 4 to withdraw 5)Anything to exit3\n",
      "Enter pin: 3456\n",
      "1000\n",
      "1)Press 1 to create pin 2)Press 2 to change pin 3)Press 3 to check balance 4)Press 4 to withdraw 5)Anything to exit8\n"
     ]
    }
   ],
   "source": [
    "# wap to create class ATM and make methods to create pin,change pin, check balance, withdraw\n",
    "class ATM:\n",
    "    def __init__(self):\n",
    "        self.pin = \"\"\n",
    "        self.balance = 0\n",
    "        self.menu()\n",
    "    def menu(self):\n",
    "        u = input(\"1)Press 1 to create pin 2)Press 2 to change pin 3)Press 3 to check balance 4)Press 4 to withdraw 5)Anything to exit\")\n",
    "        if u == \"1\":\n",
    "            self.createPin()\n",
    "        elif u == \"2\":\n",
    "            self.changePin()\n",
    "        elif u == \"3\":\n",
    "            self.check()\n",
    "        elif u == \"4\":\n",
    "            self.withdraw()\n",
    "        else:\n",
    "            exit()\n",
    "    def createPin(self):\n",
    "        userpin = input(\"Enter your pin: \")\n",
    "        self.pin = userpin\n",
    "        userbalance = int(input(\"Enter Balance: \"))\n",
    "        self.balance = userbalance\n",
    "        print(\"Pin created successfully\")\n",
    "        self.menu()\n",
    "    def changePin(self):\n",
    "        oldPin = input(\"Enter old pin: \")\n",
    "        if oldPin == self.pin:\n",
    "            newPin = input(\"Enter new pin: \")\n",
    "            self.pin = newPin\n",
    "            print(\"Pin changed successfully\")\n",
    "            self.menu()\n",
    "        else:\n",
    "            print(\"Enter correct pin\")\n",
    "            self.menu()\n",
    "    def check(self):\n",
    "        userPin = input(\"Enter pin: \")\n",
    "        if userPin == self.pin:\n",
    "            print(self.balance)\n",
    "        else:\n",
    "            print(\"Enter correct pin\")\n",
    "        self.menu()\n",
    "    def withdraw(self):\n",
    "        userPin = input(\"Enter pin: \")\n",
    "        if userPin == self.pin:\n",
    "            amt = int(input(\"Enter amount: \"))\n",
    "            if amt < self.balance:\n",
    "                self.balance -= amt\n",
    "                print(amt,\"Withdrawn successfully\")\n",
    "            else:\n",
    "                print(\"Not enough balance\")\n",
    "        else:\n",
    "            print(\"Enter correct pin\")\n",
    "        self.menu()\n",
    "a = ATM()"
   ]
  },
  {
   "cell_type": "code",
   "execution_count": 1,
   "metadata": {},
   "outputs": [
    {
     "name": "stdout",
     "output_type": "stream",
     "text": [
      "1)Press 1 to enter student details 2)Press 2 to display student details 3)Press 3 to search student 4)Press 4 to delete a student 5)Press 5 to update student rollno 6)Press anything to exit: 1\n",
      "Enter student name: abp\n",
      "Enter student rollno: 1\n",
      "Enter marks of sub1: 12\n",
      "Enter marks of sub2: 13\n",
      "1)Press 1 to enter student details 2)Press 2 to display student details 3)Press 3 to search student 4)Press 4 to delete a student 5)Press 5 to update student rollno 6)Press anything to exit: 1\n",
      "Enter student name: hj\n",
      "Enter student rollno: 2\n",
      "Enter marks of sub1: 14\n",
      "Enter marks of sub2: 15\n",
      "1)Press 1 to enter student details 2)Press 2 to display student details 3)Press 3 to search student 4)Press 4 to delete a student 5)Press 5 to update student rollno 6)Press anything to exit: 2\n",
      "Name: abp\n",
      "Rollno: 1\n",
      "Marks of sub1: 12\n",
      "Marks of sub2: 13\n",
      "Name: hj\n",
      "Rollno: 2\n",
      "Marks of sub1: 14\n",
      "Marks of sub2: 15\n",
      "1)Press 1 to enter student details 2)Press 2 to display student details 3)Press 3 to search student 4)Press 4 to delete a student 5)Press 5 to update student rollno 6)Press anything to exit: 3\n",
      "Enter rollno to search: 2\n",
      "Name: hj\n",
      "Rollno: 2\n",
      "Marks of sub1: 14\n",
      "Marks of sub2: 15\n",
      "1)Press 1 to enter student details 2)Press 2 to display student details 3)Press 3 to search student 4)Press 4 to delete a student 5)Press 5 to update student rollno 6)Press anything to exit: 4\n",
      "Enter rollno to search: 2\n",
      "1)Press 1 to enter student details 2)Press 2 to display student details 3)Press 3 to search student 4)Press 4 to delete a student 5)Press 5 to update student rollno 6)Press anything to exit: 2\n",
      "Name: abp\n",
      "Rollno: 1\n",
      "Marks of sub1: 12\n",
      "Marks of sub2: 13\n",
      "1)Press 1 to enter student details 2)Press 2 to display student details 3)Press 3 to search student 4)Press 4 to delete a student 5)Press 5 to update student rollno 6)Press anything to exit: 5\n",
      "Enter rollno to search: 1\n",
      "Enter new rollno: 4\n",
      "1)Press 1 to enter student details 2)Press 2 to display student details 3)Press 3 to search student 4)Press 4 to delete a student 5)Press 5 to update student rollno 6)Press anything to exit: 2\n",
      "Name: abp\n",
      "Rollno: 4\n",
      "Marks of sub1: 12\n",
      "Marks of sub2: 13\n",
      "1)Press 1 to enter student details 2)Press 2 to display student details 3)Press 3 to search student 4)Press 4 to delete a student 5)Press 5 to update student rollno 6)Press anything to exit: 6\n"
     ]
    }
   ],
   "source": [
    "# wap to build simple student management system which can perform following operations:\n",
    "#     accept: Take details from user like name,rollno and marks of two subject\n",
    "#     display: Display details of every student\n",
    "#     search: Search for particular student from the list of student by using rollno\n",
    "#     delete: Delete the record of particular student with matching rollno\n",
    "#     update: Update the rollno of student\n",
    "class Student:\n",
    "    def __init__(self):\n",
    "        self.name = \"\"\n",
    "        self.rollno = 0\n",
    "        self.sub1 = 0\n",
    "        self.sub2 = 0\n",
    "        self.student = []\n",
    "        self.menu()\n",
    "    def menu(self):\n",
    "        u = input(\"1)Press 1 to enter student details 2)Press 2 to display student details 3)Press 3 to search student 4)Press 4 to delete a student 5)Press 5 to update student rollno 6)Press anything to exit: \")\n",
    "        if u == \"1\":\n",
    "            self.accept()\n",
    "        elif u == \"2\":\n",
    "            self.display()\n",
    "        elif u == \"3\":\n",
    "            self.search()\n",
    "        elif u == \"4\":\n",
    "            self.delete()\n",
    "        elif u == \"5\":\n",
    "            self.update()\n",
    "        else:\n",
    "            exit()\n",
    "    def accept(self):\n",
    "        name = input(\"Enter student name: \")\n",
    "        rollno = int(input(\"Enter student rollno: \"))\n",
    "        sub1 = int(input(\"Enter marks of sub1: \"))\n",
    "        sub2 = int(input(\"Enter marks of sub2: \"))\n",
    "        self.name = name\n",
    "        self.rollno = rollno\n",
    "        self.sub1 = sub1\n",
    "        self.sub2 = sub2\n",
    "        self.student.append([self.name,self.rollno,self.sub1,self.sub2])\n",
    "        self.menu()\n",
    "    def display(self):\n",
    "        for i in self.student:\n",
    "            print(\"Name:\",i[0])\n",
    "            print(\"Rollno:\",i[1])\n",
    "            print(\"Marks of sub1:\",i[2])\n",
    "            print(\"Marks of sub2:\",i[3])\n",
    "        self.menu()\n",
    "    def search(self):\n",
    "        rn = int(input(\"Enter rollno to search: \"))\n",
    "        flag = 0\n",
    "        for i in self.student:\n",
    "            if rn == i[1]:\n",
    "                flag = 1\n",
    "                print(\"Name:\",i[0])\n",
    "                print(\"Rollno:\",i[1])\n",
    "                print(\"Marks of sub1:\",i[2])\n",
    "                print(\"Marks of sub2:\",i[3])\n",
    "        if flag == 0:\n",
    "            print(\"Student with rollno not found\")\n",
    "        self.menu()\n",
    "    def delete(self):\n",
    "        rn = int(input(\"Enter rollno to search: \"))\n",
    "        flag = 0\n",
    "        for i in self.student:\n",
    "            if rn == i[1]:\n",
    "                flag = 1\n",
    "                self.student.remove(i)\n",
    "        if flag == 0:\n",
    "            print(\"Student with rollno not found\")\n",
    "        self.menu()\n",
    "    def update(self):\n",
    "        rn = int(input(\"Enter rollno to search: \"))\n",
    "        flag = 0\n",
    "        for i in self.student:\n",
    "            if rn == i[1]:\n",
    "                flag = 1\n",
    "                i[1] = int(input(\"Enter new rollno: \"))\n",
    "        if flag == 0:\n",
    "            print(\"Student with rollno not found\")\n",
    "        self.menu()\n",
    "s = Student()"
   ]
  },
  {
   "cell_type": "code",
   "execution_count": null,
   "metadata": {},
   "outputs": [],
   "source": [
    "#  You own a pizzeria named Olly’s Pizzas and want to create a Python program to handle the customers and revenue. Create \n",
    "# the following classes with the following methods:\n",
    "# Class Pizza containing\n",
    "# 1.\tinit method: to initialize the size (small, medium, large), toppings (corn, tomato, onion, capsicum, mushroom, olives, \n",
    "# broccoli), cheese (mozzarella, feta, cheddar). Note: One pizza can have only one size but many toppings and cheese. (1.5 \n",
    "# marks)\n",
    "# Throw custom exceptions if the selects toppings or cheese not available in lists given above. (1 mark)\n",
    "# 2.\tprice method: to calculate the prize of the pizza in the following way:\n",
    "# small = 50, medium = 100, large = 200\n",
    "# Each topping costs 20 rupees extra, except broccoli, olives and mushroom, which are exotic and so cost 50 rupees each.\n",
    "# Each type of cheese costs an extra 50 rupees. (1.5 marks)\n",
    "#  Class Order containing\n",
    "# 1.\tinit method: to initialize the name, customerid of the customer who placed the order (0.5 marks)\n",
    "# 2.\torder method: to allow the customer to select pizzas with choice of toppings and cheese (1 mark)\n",
    "# 3.\tbill method: to generate details about each pizza ordered by the customer and the total cost of the order. (2 marks)\n",
    "# *Note: A customer can get multiple pizzas in one order.\n",
    "# 1.5 marks for creating appropriate objects of these classes and writing correct output\n",
    "class Pizza:\n",
    "    size = (\"small\", \"medium\", \"large\")\n",
    "    toppings = (\"corn\",\"tomato\",\"onion\",\"capsicum\",\"mushroom\",\"olives\",\"broccoli\")\n",
    "    cheese = (\"mozzarella\", \"feta\", \"cheddar\")\n",
    "    l = (50,100,200)\n",
    "    def __init__(self,usersize,usertoppings,usercheese):\n",
    "        self.size = usersize\n",
    "        self.toppings = usertopping\n",
    "        self.cheese = usercheese\n",
    "        self.price = 0\n",
    "    def price(self):\n",
    "        self.price += Pizza.l(Pizza.size.index(self.size))\n",
    "        for i in self.toppings:\n",
    "            if i in [\"brocolli\",\"olives\",\"mushroom\"]:\n",
    "                self.price += 50\n",
    "            else:\n",
    "                self.price += 20\n",
    "        for i in self.cheese:\n",
    "            self.price += 50\n",
    "    "
   ]
  }
 ],
 "metadata": {
  "kernelspec": {
   "display_name": "Python 3",
   "language": "python",
   "name": "python3"
  },
  "language_info": {
   "codemirror_mode": {
    "name": "ipython",
    "version": 3
   },
   "file_extension": ".py",
   "mimetype": "text/x-python",
   "name": "python",
   "nbconvert_exporter": "python",
   "pygments_lexer": "ipython3",
   "version": "3.8.5"
  }
 },
 "nbformat": 4,
 "nbformat_minor": 4
}
