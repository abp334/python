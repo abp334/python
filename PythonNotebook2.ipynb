{
 "cells": [
  {
   "cell_type": "code",
   "execution_count": null,
   "metadata": {},
   "outputs": [],
   "source": [
    "# 1) Immutable Data Structures (10 marks)\n",
    "# 2) Mutable Data Structures (15 marks)\n",
    "# Immutable consists of string and tuple\n",
    "# Mutable consists of list[] dictionary{} and set{}\n",
    "# **String**\n",
    "# 1)Accessing characters of string\n",
    "# a) By index\n",
    "s = \"Wel Come\"\n",
    "print(s[2])\n",
    "print(s[-2]) #Considers character with respect to last postion(-1).\n",
    "# print(s[14]) string index out of range\n"
   ]
  },
  {
   "cell_type": "code",
   "execution_count": null,
   "metadata": {},
   "outputs": [],
   "source": [
    "# b) By slice operator\n",
    "s = \"Learning Python is very easy!\"\n",
    "print(s[1:7:1]) #s[x:y:z] where x is begin index y is end index and z is step\n",
    "print(s[0::1]) # Any of the attribute is not compulsory and output varies accordingly\n",
    "print(s[-5:-2])\n",
    "a = s[::] # To copy a string or can use s[:]\n",
    "print(a)\n",
    "print(s[::-1]) # Prints in reverse\n",
    "# print(s[14:10:-1])\n",
    "# print(s[5:8])\n",
    "# print(s[-24:-21])"
   ]
  },
  {
   "cell_type": "code",
   "execution_count": null,
   "metadata": {},
   "outputs": [],
   "source": [
    "# wap to check if string is palindrome or not\n",
    "def palindrome(s):\n",
    "    if s == s[::-1]:\n",
    "        print(\"Is Palindrome\")\n",
    "    else:\n",
    "        print(\"Not Palindrome\")\n",
    "s = input(\"Enter String: \")\n",
    "palindrome(s)"
   ]
  },
  {
   "cell_type": "code",
   "execution_count": null,
   "metadata": {},
   "outputs": [],
   "source": [
    "# 2)Joining of String\n",
    "s = (\"Hi\",\"My\",\"Name\",\"is\",\"raj\")\n",
    "a = \"_\".join(s)\n",
    "print(a)"
   ]
  },
  {
   "cell_type": "code",
   "execution_count": null,
   "metadata": {},
   "outputs": [],
   "source": [
    "# 3)Formatting of string\n",
    "name = \"ABC\"\n",
    "salary = 100000\n",
    "age  = 24\n",
    "print(\"{}'s salary is {} and his age is {}\".format(name,salary,age))\n",
    "print(f\"{name}'s salary is {salary} and his age is {age}\")"
   ]
  },
  {
   "cell_type": "code",
   "execution_count": null,
   "metadata": {},
   "outputs": [],
   "source": [
    "# 4) len()\n",
    "s = \"LJIET\"\n",
    "print(len(s))"
   ]
  },
  {
   "cell_type": "code",
   "execution_count": null,
   "metadata": {},
   "outputs": [],
   "source": [
    "# 5) remove spaces\n",
    "# 1)rstrip\n",
    "# 2)lstrip\n",
    "# 3)strip\n",
    "s = \" banana \"\n",
    "x = s.rstrip()\n",
    "print(x)\n",
    "y = s.lstrip()\n",
    "print(y)\n",
    "z = s.strip()\n",
    "print(z)"
   ]
  },
  {
   "cell_type": "code",
   "execution_count": null,
   "metadata": {},
   "outputs": [],
   "source": [
    "t = \"Apple\"\n",
    "a = t.rstrip(\"e\")\n",
    "print(a)"
   ]
  },
  {
   "cell_type": "code",
   "execution_count": null,
   "metadata": {},
   "outputs": [],
   "source": [
    "# 6) Changing case of string\n",
    "# upper (upper case)\n",
    "# lower (lower case)\n",
    "# swapcase  (changes the original case to opposite case)\n",
    "# title (capitalizes the first letter of whole string)\n",
    "# capitalize(capitalizes the first letter of each word)"
   ]
  },
  {
   "cell_type": "code",
   "execution_count": null,
   "metadata": {},
   "outputs": [],
   "source": [
    "# 7) To check type of character present in string\n",
    "# isalnum\n",
    "# isalpha\n",
    "# isdigit\n",
    "# islower\n",
    "# isupper\n",
    "# istitle\n",
    "# isidentifier\n",
    "# isspace\n",
    "# isnumeric"
   ]
  },
  {
   "cell_type": "code",
   "execution_count": null,
   "metadata": {},
   "outputs": [],
   "source": [
    "txt = \"ABCDefg\"\n",
    "print(txt.isalpha())\n",
    "b = \"1234\"\n",
    "print(b.isdigit())\n",
    "c = \"hello\"\n",
    "print(c.islower())\n",
    "d = \"THIS\"\n",
    "print(d.isupper())\n",
    "e = \"Hi\"\n",
    "print(e.istitle())\n",
    "f = \"PQR123\"\n",
    "print(f.isidentifier())\n",
    "g = \" \"\n",
    "print(g.isspace())\n",
    "h = \"1234\"\n",
    "print(h.isnumeric())"
   ]
  },
  {
   "cell_type": "code",
   "execution_count": null,
   "metadata": {},
   "outputs": [],
   "source": [
    "# wap to remove i-th character from string\n",
    "s = input(\"Enter String: \")\n",
    "i = int(input(\"Enter Index of character to remove: \"))\n",
    "if i < len(s):\n",
    "    s1 = s[0:i]+s[i+1:]\n",
    "    print(s1)\n",
    "else:\n",
    "    print(\"Do not enter index greater than or equal to length\")"
   ]
  },
  {
   "cell_type": "code",
   "execution_count": null,
   "metadata": {},
   "outputs": [],
   "source": [
    "# wap to create a string made of the first middle and last character\n",
    "s = input(\"Enter string: \")\n",
    "s1 = s[0]+s[len(s)//2]+s[-1]\n",
    "print(s1)"
   ]
  },
  {
   "cell_type": "code",
   "execution_count": null,
   "metadata": {},
   "outputs": [],
   "source": [
    "# wap to calculate the sum and average of the digits present in a string\n",
    "s = input(\"Enter String: \")\n",
    "sum = 0\n",
    "count = 0\n",
    "for i in s:\n",
    "    if i.isdigit():\n",
    "        sum = sum + int(i)\n",
    "        count = count+1\n",
    "if count>0:\n",
    "    print(\"Sum =\",sum)\n",
    "    print(\"Average =\",(sum/count))\n",
    "else:\n",
    "    print(\"Enter Valid input\")"
   ]
  },
  {
   "cell_type": "code",
   "execution_count": null,
   "metadata": {},
   "outputs": [],
   "source": [
    "# wap to create caesar cipher encryption\n",
    "s = input(\"Enter string: \")\n",
    "n = int(input(\"Enter number: \"))\n",
    "enc = \"\"\n",
    "for i in s:\n",
    "    if i >= 'A' and i <= 'Z':\n",
    "        if ord(i)+n > ord('Z'):\n",
    "            i = chr(ord(i)+n-26)\n",
    "        else:\n",
    "            i = chr(ord(i)+n)\n",
    "        enc += i\n",
    "    elif i >= 'a' and i<= 'z':\n",
    "        if ord(i)+n > ord('z'):\n",
    "            i = chr(ord(i)+n-26)\n",
    "        else:\n",
    "            i = chr(ord(i)+n)\n",
    "        enc += i\n",
    "print(enc)"
   ]
  },
  {
   "cell_type": "code",
   "execution_count": null,
   "metadata": {},
   "outputs": [],
   "source": [
    "# wap to print uncommon character from given two string\n",
    "s1 = input(\"Enter 1st String: \")\n",
    "s2 = input(\"Enter 2nd String: \")\n",
    "ch=\"\"\n",
    "for i in s1:\n",
    "   if i not in s2:\n",
    "        if i not in ch:\n",
    "           ch += i \n",
    "for j in s2:\n",
    "    if j not in s1:\n",
    "        if j not in ch:\n",
    "            ch += j\n",
    "print(ch)"
   ]
  },
  {
   "cell_type": "code",
   "execution_count": null,
   "metadata": {},
   "outputs": [],
   "source": [
    "# Tuples\n",
    "# they are immutable (read only versions)\n",
    "# you can use heterogenous elements\n",
    "#creation of tuple:\n",
    "t = ()\n",
    "print(type(t))\n",
    "t = (1)\n",
    "print(type(t))"
   ]
  },
  {
   "cell_type": "code",
   "execution_count": null,
   "metadata": {},
   "outputs": [],
   "source": [
    "t = 10,20,30,40 #multivalue tuple\n",
    "print(type(t))"
   ]
  },
  {
   "cell_type": "code",
   "execution_count": null,
   "metadata": {},
   "outputs": [],
   "source": [
    "#accessing elements of tuple\n",
    "#1) By using index\n",
    "t = 10,20,30\n",
    "print(t[1])"
   ]
  },
  {
   "cell_type": "code",
   "execution_count": null,
   "metadata": {},
   "outputs": [],
   "source": [
    "#2)By slice operation\n",
    "t = 10,20,30,40,50,60,70\n",
    "print(t[-1:1:-1])"
   ]
  },
  {
   "cell_type": "code",
   "execution_count": null,
   "metadata": {},
   "outputs": [],
   "source": [
    "#Math operator for tuple \n",
    "#1) Concatenation operator\n",
    "t1 = (1,2,3)\n",
    "t2 = (4,5,6)\n",
    "t = t1+t2\n",
    "print(t)"
   ]
  },
  {
   "cell_type": "code",
   "execution_count": null,
   "metadata": {},
   "outputs": [],
   "source": [
    "#2)Repeatation operator\n",
    "t1 = (1,2,3)\n",
    "t2 = 3*t1\n",
    "print(t2)"
   ]
  },
  {
   "cell_type": "code",
   "execution_count": null,
   "metadata": {},
   "outputs": [],
   "source": [
    "#Imp functions for Tuple\n",
    "#1)len()\n",
    "#2)count() returns 0 if not present \n",
    "#3)index() \n",
    "#4)sorted() returns ascending order list format\n",
    "#5)sorted(t,reverse = True) returns in descending order\n",
    "#6)min()\n",
    "#7)max()\n",
    "#8)sum()"
   ]
  },
  {
   "cell_type": "code",
   "execution_count": null,
   "metadata": {},
   "outputs": [],
   "source": [
    "#Tuple packing and unpacking\n",
    "a = 10\n",
    "b = 20\n",
    "c = 30\n",
    "d = 40\n",
    "t = a,b,c,d\n",
    "print(t)\n",
    "t1 = (10,20,30,40)\n",
    "p,q,r,s = t\n",
    "print(p,q,r,s)"
   ]
  },
  {
   "cell_type": "code",
   "execution_count": null,
   "metadata": {},
   "outputs": [],
   "source": [
    "#reversed\n",
    "a = \"Python\"\n",
    "print(list(reversed(a)))"
   ]
  },
  {
   "cell_type": "code",
   "execution_count": null,
   "metadata": {},
   "outputs": [],
   "source": [
    "#enumarate\n",
    "l = [\"eat\",\"sleep\",\"repeat\"]\n",
    "obj = enumerate(l)\n",
    "print(list(obj))\n",
    "print(\"*****************************\")\n",
    "obj2 = enumerate(l,2)\n",
    "print(list(obj2))\n",
    "print(\"*****************************\")\n",
    "for i in enumerate(l):\n",
    "    print(i)\n",
    "print(\"******************************\")\n",
    "for i,j in enumerate(l,100):\n",
    "    print(i,j)"
   ]
  },
  {
   "cell_type": "code",
   "execution_count": null,
   "metadata": {},
   "outputs": [],
   "source": [
    "# wap to print maximum even number, maximum odd number,minimum even number,minimum odd number and\n",
    "# max and min number\n",
    "import sys\n",
    "t = (1,2,3,4,5,6,7,8,9,10)\n",
    "max1 = 0\n",
    "min1 = sys.maxsize\n",
    "even_max = 0\n",
    "even_min = sys.maxsize\n",
    "odd_max = 0\n",
    "odd_min = sys.maxsize\n",
    "for i in t:\n",
    "    if i%2 == 0:\n",
    "        if i > even_max:\n",
    "            even_max = i\n",
    "        if i < even_min:\n",
    "            even_min = i\n",
    "    elif i%2 > 0:\n",
    "        if i > odd_max:\n",
    "            odd_max = i\n",
    "        if i < odd_min:\n",
    "            odd_min = i\n",
    "for i in t:\n",
    "    if i > max1:\n",
    "        max1 = i\n",
    "    if i < min1:\n",
    "        min1 = i\n",
    "print(even_max,even_min,odd_max,odd_min,max1,min1)"
   ]
  },
  {
   "cell_type": "code",
   "execution_count": null,
   "metadata": {},
   "outputs": [],
   "source": [
    "a = -120\n",
    "temp2 = a\n",
    "new_num = 0\n",
    "if a < 0:\n",
    "    temp2 = -1*a\n",
    "while temp2 > 0:\n",
    "    r = temp2 % 10\n",
    "    new_num = new_num*10 + r\n",
    "    temp2 = temp2 // 10\n",
    "if a< 0:\n",
    "    print(-1*new_num)\n",
    "else:\n",
    "    print(new_num)"
   ]
  },
  {
   "cell_type": "code",
   "execution_count": 2,
   "metadata": {},
   "outputs": [
    {
     "name": "stdout",
     "output_type": "stream",
     "text": [
      "Enterhellooooeooo\n",
      "heloe\n"
     ]
    }
   ],
   "source": [
    "# wap to remove repeated consecutive char and replace with single letter and print new updated string\n",
    "s = input(\"Enter\")\n",
    "new_input = \"\"\n",
    "for i in range(len(s)-1):\n",
    "    if s[i] != s[i+1]:\n",
    "        new_input += s[i]\n",
    "print(new_input)"
   ]
  },
  {
   "cell_type": "code",
   "execution_count": null,
   "metadata": {},
   "outputs": [],
   "source": []
  }
 ],
 "metadata": {
  "kernelspec": {
   "display_name": "Python 3",
   "language": "python",
   "name": "python3"
  },
  "language_info": {
   "codemirror_mode": {
    "name": "ipython",
    "version": 3
   },
   "file_extension": ".py",
   "mimetype": "text/x-python",
   "name": "python",
   "nbconvert_exporter": "python",
   "pygments_lexer": "ipython3",
   "version": "3.8.5"
  }
 },
 "nbformat": 4,
 "nbformat_minor": 4
}
