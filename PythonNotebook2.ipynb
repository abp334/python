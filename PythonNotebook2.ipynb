{
 "cells": [
  {
   "cell_type": "code",
   "execution_count": 5,
   "metadata": {},
   "outputs": [
    {
     "name": "stdout",
     "output_type": "stream",
     "text": [
      "l\n",
      "m\n"
     ]
    }
   ],
   "source": [
    "# 1) Immutable Data Structures (10 marks)\n",
    "# 2) Mutable Data Structures (15 marks)\n",
    "# Immutable consists of string and tuple\n",
    "# Mutable consists of list[] dictionary{} and set{}\n",
    "# **String**\n",
    "# 1)Accessing characters of string\n",
    "# a) By index\n",
    "s = \"Wel Come\"\n",
    "print(s[2])\n",
    "print(s[-2]) #Considers character with respect to last postion(-1).\n",
    "# print(s[14]) string index out of range\n"
   ]
  },
  {
   "cell_type": "code",
   "execution_count": 5,
   "metadata": {},
   "outputs": [
    {
     "name": "stdout",
     "output_type": "stream",
     "text": [
      "earnin\n",
      "Learning Python is very easy!\n",
      "eas\n",
      "Learning Python is very easy!\n",
      "!ysae yrev si nohtyP gninraeL\n"
     ]
    }
   ],
   "source": [
    "# b) By slice operator\n",
    "s = \"Learning Python is very easy!\"\n",
    "print(s[1:7:1]) #s[x:y:z] where x is begin index y is end index and z is step\n",
    "print(s[0::1]) # Any of the attribute is not compulsory and output varies accordingly\n",
    "print(s[-5:-2])\n",
    "a = s[::] # To copy a string or can use s[:]\n",
    "print(a)\n",
    "print(s[::-1]) # Prints in reverse\n",
    "# print(s[14:10:-1])\n",
    "# print(s[5:8])\n",
    "# print(s[-24:-21])"
   ]
  },
  {
   "cell_type": "code",
   "execution_count": 8,
   "metadata": {},
   "outputs": [
    {
     "name": "stdout",
     "output_type": "stream",
     "text": [
      "Enter String: racecar\n",
      "Is Palindrome\n"
     ]
    }
   ],
   "source": [
    "# wap to check if string is palindrome or not\n",
    "def palindrome(s):\n",
    "    if s == s[::-1]:\n",
    "        print(\"Is Palindrome\")\n",
    "    else:\n",
    "        print(\"Not Palindrome\")\n",
    "s = input(\"Enter String: \")\n",
    "palindrome(s)"
   ]
  },
  {
   "cell_type": "code",
   "execution_count": 13,
   "metadata": {},
   "outputs": [
    {
     "name": "stdout",
     "output_type": "stream",
     "text": [
      "Hi_My_Name_is_raj\n"
     ]
    }
   ],
   "source": [
    "# 2)Joining of String\n",
    "s = (\"Hi\",\"My\",\"Name\",\"is\",\"raj\")\n",
    "a = \"_\".join(s)\n",
    "print(a)"
   ]
  },
  {
   "cell_type": "code",
   "execution_count": 22,
   "metadata": {},
   "outputs": [
    {
     "name": "stdout",
     "output_type": "stream",
     "text": [
      "ABC's salary is 100000 and his age is 24\n",
      "ABC's salary is 100000 and his age is 24\n"
     ]
    }
   ],
   "source": [
    "# 3)Formatting of string\n",
    "name = \"ABC\"\n",
    "salary = 100000\n",
    "age  = 24\n",
    "print(\"{}'s salary is {} and his age is {}\".format(name,salary,age))\n",
    "print(f\"{name}'s salary is {salary} and his age is {age}\")"
   ]
  },
  {
   "cell_type": "code",
   "execution_count": 23,
   "metadata": {},
   "outputs": [
    {
     "name": "stdout",
     "output_type": "stream",
     "text": [
      "5\n"
     ]
    }
   ],
   "source": [
    "# 4) len()\n",
    "s = \"LJIET\"\n",
    "print(len(s))"
   ]
  },
  {
   "cell_type": "code",
   "execution_count": 24,
   "metadata": {},
   "outputs": [
    {
     "name": "stdout",
     "output_type": "stream",
     "text": [
      " banana\n",
      "banana \n",
      "banana\n"
     ]
    }
   ],
   "source": [
    "# 5) remove spaces\n",
    "# 1)rstrip\n",
    "# 2)lstrip\n",
    "# 3)strip\n",
    "s = \" banana \"\n",
    "x = s.rstrip()\n",
    "print(x)\n",
    "y = s.lstrip()\n",
    "print(y)\n",
    "z = s.strip()\n",
    "print(z)"
   ]
  },
  {
   "cell_type": "code",
   "execution_count": 26,
   "metadata": {},
   "outputs": [
    {
     "name": "stdout",
     "output_type": "stream",
     "text": [
      "Appl\n"
     ]
    }
   ],
   "source": [
    "t = \"Apple\"\n",
    "a = t.rstrip(\"e\")\n",
    "print(a)"
   ]
  },
  {
   "cell_type": "code",
   "execution_count": 29,
   "metadata": {},
   "outputs": [],
   "source": [
    "# 6) Changing case of string\n",
    "# upper (upper case)\n",
    "# lower (lower case)\n",
    "# swapcase  (changes the original case to opposite case)\n",
    "# title (capitalizes the first letter of whole string)\n",
    "# capitalize(capitalizes the first letter of each word)"
   ]
  },
  {
   "cell_type": "code",
   "execution_count": 30,
   "metadata": {},
   "outputs": [],
   "source": [
    "# 7) To check type of character present in string\n",
    "# isalnum\n",
    "# isalpha\n",
    "# isdigit\n",
    "# islower\n",
    "# isupper\n",
    "# istitle\n",
    "# isidentifier\n",
    "# isspace\n",
    "# isnumeric"
   ]
  },
  {
   "cell_type": "code",
   "execution_count": 37,
   "metadata": {},
   "outputs": [
    {
     "name": "stdout",
     "output_type": "stream",
     "text": [
      "True\n",
      "True\n",
      "True\n",
      "True\n",
      "True\n",
      "True\n",
      "True\n",
      "True\n"
     ]
    }
   ],
   "source": [
    "txt = \"ABCDefg\"\n",
    "print(txt.isalpha())\n",
    "b = \"1234\"\n",
    "print(b.isdigit())\n",
    "c = \"hello\"\n",
    "print(c.islower())\n",
    "d = \"THIS\"\n",
    "print(d.isupper())\n",
    "e = \"Hi\"\n",
    "print(e.istitle())\n",
    "f = \"PQR123\"\n",
    "print(f.isidentifier())\n",
    "g = \" \"\n",
    "print(g.isspace())\n",
    "h = \"1234\"\n",
    "print(h.isnumeric())"
   ]
  },
  {
   "cell_type": "code",
   "execution_count": 44,
   "metadata": {},
   "outputs": [
    {
     "name": "stdout",
     "output_type": "stream",
     "text": [
      "Enter String: Raj\n",
      "Enter Index of character to remove: 2\n",
      "Ra\n"
     ]
    }
   ],
   "source": [
    "# wap to remove i-th character from string\n",
    "s = input(\"Enter String: \")\n",
    "i = int(input(\"Enter Index of character to remove: \"))\n",
    "if i < len(s):\n",
    "    s1 = s[0:i]+s[i+1:]\n",
    "    print(s1)\n",
    "else:\n",
    "    print(\"Do not enter index greater than or equal to length\")"
   ]
  },
  {
   "cell_type": "code",
   "execution_count": 50,
   "metadata": {},
   "outputs": [
    {
     "name": "stdout",
     "output_type": "stream",
     "text": [
      "Enter string: Rajesh\n",
      "Reh\n"
     ]
    }
   ],
   "source": [
    "# wap to create a string made of the first middle and last character\n",
    "s = input(\"Enter string: \")\n",
    "s1 = s[0]+s[len(s)//2]+s[-1]\n",
    "print(s1)"
   ]
  },
  {
   "cell_type": "code",
   "execution_count": 60,
   "metadata": {},
   "outputs": [
    {
     "name": "stdout",
     "output_type": "stream",
     "text": [
      "Enter String: raj\n",
      "Enter Valid input\n"
     ]
    }
   ],
   "source": [
    "# wap to calculate the sum and average of the digits present in a string\n",
    "s = input(\"Enter String: \")\n",
    "sum = 0\n",
    "count = 0\n",
    "for i in s:\n",
    "    if i.isdigit():\n",
    "        sum = sum + int(i)\n",
    "        count = count+1\n",
    "if count>0:\n",
    "    print(\"Sum =\",sum)\n",
    "    print(\"Average =\",(sum/count))\n",
    "else:\n",
    "    print(\"Enter Valid input\")"
   ]
  },
  {
   "cell_type": "code",
   "execution_count": 5,
   "metadata": {},
   "outputs": [
    {
     "name": "stdout",
     "output_type": "stream",
     "text": [
      "Enter string: ThisispythonZ\n",
      "Enter number: 2\n",
      "VjkukuravjqpB\n"
     ]
    }
   ],
   "source": [
    "# wap to create caesar cipher encryption\n",
    "s = input(\"Enter string: \")\n",
    "n = int(input(\"Enter number: \"))\n",
    "enc = \"\"\n",
    "for i in s:\n",
    "    if i >= 'A' and i <= 'Z':\n",
    "        if ord(i)+n > ord('Z'):\n",
    "            i = chr(ord(i)+n-26)\n",
    "        else:\n",
    "            i = chr(ord(i)+n)\n",
    "        enc += i\n",
    "    elif i >= 'a' and i<= 'z':\n",
    "        if ord(i)+n > ord('z'):\n",
    "            i = chr(ord(i)+n-26)\n",
    "        else:\n",
    "            i = chr(ord(i)+n)\n",
    "        enc += i\n",
    "print(enc)"
   ]
  },
  {
   "cell_type": "code",
   "execution_count": 15,
   "metadata": {},
   "outputs": [
    {
     "name": "stdout",
     "output_type": "stream",
     "text": [
      "Enter 1st String: abcdpqr\n",
      "Enter 2nd String: xyzabcd\n",
      "pqrxyz\n"
     ]
    }
   ],
   "source": [
    "# wap to print uncommon character from given two string\n",
    "s1 = input(\"Enter 1st String: \")\n",
    "s2 = input(\"Enter 2nd String: \")\n",
    "ch=\"\"\n",
    "for i in s1:\n",
    "   if i not in s2:\n",
    "        if i not in ch:\n",
    "           ch += i \n",
    "for j in s2:\n",
    "    if j not in s1:\n",
    "        if j not in ch:\n",
    "            ch += j\n",
    "print(ch)"
   ]
  },
  {
   "cell_type": "code",
   "execution_count": 19,
   "metadata": {},
   "outputs": [
    {
     "name": "stdout",
     "output_type": "stream",
     "text": [
      "<class 'tuple'>\n",
      "<class 'int'>\n"
     ]
    }
   ],
   "source": [
    "# Tuples\n",
    "# they are immutable (read only versions)\n",
    "# you can use heterogenous elements\n",
    "#creation of tuple:\n",
    "t = ()\n",
    "print(type(t))\n",
    "t = (1)\n",
    "print(type(t))"
   ]
  },
  {
   "cell_type": "code",
   "execution_count": 20,
   "metadata": {},
   "outputs": [
    {
     "name": "stdout",
     "output_type": "stream",
     "text": [
      "<class 'tuple'>\n"
     ]
    }
   ],
   "source": [
    "t = 10,20,30,40 #multivalue tuple\n",
    "print(type(t))"
   ]
  },
  {
   "cell_type": "code",
   "execution_count": 21,
   "metadata": {},
   "outputs": [
    {
     "name": "stdout",
     "output_type": "stream",
     "text": [
      "20\n"
     ]
    }
   ],
   "source": [
    "#accessing elements of tuple\n",
    "#1) By using index\n",
    "t = 10,20,30\n",
    "print(t[1])"
   ]
  },
  {
   "cell_type": "code",
   "execution_count": 24,
   "metadata": {},
   "outputs": [
    {
     "name": "stdout",
     "output_type": "stream",
     "text": [
      "(70, 60, 50, 40, 30)\n"
     ]
    }
   ],
   "source": [
    "#2)By slice operation\n",
    "t = 10,20,30,40,50,60,70\n",
    "print(t[-1:1:-1])"
   ]
  },
  {
   "cell_type": "code",
   "execution_count": 25,
   "metadata": {},
   "outputs": [
    {
     "name": "stdout",
     "output_type": "stream",
     "text": [
      "(1, 2, 3, 4, 5, 6)\n"
     ]
    }
   ],
   "source": [
    "#Math operator for tuple \n",
    "#1) Concatenation operator\n",
    "t1 = (1,2,3)\n",
    "t2 = (4,5,6)\n",
    "t = t1+t2\n",
    "print(t)"
   ]
  },
  {
   "cell_type": "code",
   "execution_count": 26,
   "metadata": {},
   "outputs": [
    {
     "name": "stdout",
     "output_type": "stream",
     "text": [
      "(1, 2, 3, 1, 2, 3, 1, 2, 3)\n"
     ]
    }
   ],
   "source": [
    "#2)Repeatation operator\n",
    "t1 = (1,2,3)\n",
    "t2 = 3*t1\n",
    "print(t2)"
   ]
  },
  {
   "cell_type": "code",
   "execution_count": null,
   "metadata": {},
   "outputs": [],
   "source": []
  }
 ],
 "metadata": {
  "kernelspec": {
   "display_name": "Python 3",
   "language": "python",
   "name": "python3"
  },
  "language_info": {
   "codemirror_mode": {
    "name": "ipython",
    "version": 3
   },
   "file_extension": ".py",
   "mimetype": "text/x-python",
   "name": "python",
   "nbconvert_exporter": "python",
   "pygments_lexer": "ipython3",
   "version": "3.8.5"
  }
 },
 "nbformat": 4,
 "nbformat_minor": 4
}
