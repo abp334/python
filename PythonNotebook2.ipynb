{
 "cells": [
  {
   "cell_type": "code",
   "execution_count": null,
   "metadata": {},
   "outputs": [],
   "source": [
    "# 1) Immutable Data Structures (10 marks)\n",
    "# 2) Mutable Data Structures (15 marks)\n",
    "# Immutable consists of string and tuple\n",
    "# Mutable consists of list[] dictionary{} and set{}\n",
    "# **String**\n",
    "# 1)Accessing characters of string\n",
    "# a) By index\n",
    "s = \"Wel Come\"\n",
    "print(s[2])\n",
    "print(s[-2]) #Considers character with respect to last postion(-1).\n",
    "# print(s[14]) string index out of range\n"
   ]
  },
  {
   "cell_type": "code",
   "execution_count": null,
   "metadata": {},
   "outputs": [],
   "source": [
    "# b) By slice operator\n",
    "s = \"Learning Python is very easy!\"\n",
    "print(s[1:7:1]) #s[x:y:z] where x is begin index y is end index and z is step\n",
    "print(s[0::1]) # Any of the attribute is not compulsory and output varies accordingly\n",
    "print(s[-5:-2])\n",
    "a = s[::] # To copy a string or can use s[:]\n",
    "print(a)\n",
    "print(s[::-1]) # Prints in reverse\n",
    "# print(s[14:10:-1])\n",
    "# print(s[5:8])\n",
    "# print(s[-24:-21])"
   ]
  },
  {
   "cell_type": "code",
   "execution_count": null,
   "metadata": {},
   "outputs": [],
   "source": [
    "# wap to check if string is palindrome or not\n",
    "def palindrome(s):\n",
    "    if s == s[::-1]:\n",
    "        print(\"Is Palindrome\")\n",
    "    else:\n",
    "        print(\"Not Palindrome\")\n",
    "s = input(\"Enter String: \")\n",
    "palindrome(s)"
   ]
  },
  {
   "cell_type": "code",
   "execution_count": null,
   "metadata": {},
   "outputs": [],
   "source": [
    "# 2)Joining of String\n",
    "s = (\"Hi\",\"My\",\"Name\",\"is\",\"raj\")\n",
    "a = \"_\".join(s)\n",
    "print(a)"
   ]
  },
  {
   "cell_type": "code",
   "execution_count": null,
   "metadata": {},
   "outputs": [],
   "source": [
    "# 3)Formatting of string\n",
    "name = \"ABC\"\n",
    "salary = 100000\n",
    "age  = 24\n",
    "print(\"{}'s salary is {} and his age is {}\".format(name,salary,age))\n",
    "print(f\"{name}'s salary is {salary} and his age is {age}\")"
   ]
  },
  {
   "cell_type": "code",
   "execution_count": null,
   "metadata": {},
   "outputs": [],
   "source": [
    "# 4) len()\n",
    "s = \"LJIET\"\n",
    "print(len(s))"
   ]
  },
  {
   "cell_type": "code",
   "execution_count": null,
   "metadata": {},
   "outputs": [],
   "source": [
    "# 5) remove spaces\n",
    "# 1)rstrip\n",
    "# 2)lstrip\n",
    "# 3)strip\n",
    "s = \" banana \"\n",
    "x = s.rstrip()\n",
    "print(x)\n",
    "y = s.lstrip()\n",
    "print(y)\n",
    "z = s.strip()\n",
    "print(z)"
   ]
  },
  {
   "cell_type": "code",
   "execution_count": null,
   "metadata": {},
   "outputs": [],
   "source": [
    "t = \"Apple\"\n",
    "a = t.rstrip(\"e\")\n",
    "print(a)"
   ]
  },
  {
   "cell_type": "code",
   "execution_count": null,
   "metadata": {},
   "outputs": [],
   "source": [
    "# 6) Changing case of string\n",
    "# upper (upper case)\n",
    "# lower (lower case)\n",
    "# swapcase  (changes the original case to opposite case)\n",
    "# title (capitalizes the first letter of whole string)\n",
    "# capitalize(capitalizes the first letter of each word)"
   ]
  },
  {
   "cell_type": "code",
   "execution_count": null,
   "metadata": {},
   "outputs": [],
   "source": [
    "# 7) To check type of character present in string\n",
    "# isalnum\n",
    "# isalpha\n",
    "# isdigit\n",
    "# islower\n",
    "# isupper\n",
    "# istitle\n",
    "# isidentifier\n",
    "# isspace\n",
    "# isnumeric"
   ]
  },
  {
   "cell_type": "code",
   "execution_count": null,
   "metadata": {},
   "outputs": [],
   "source": [
    "txt = \"ABCDefg\"\n",
    "print(txt.isalpha())\n",
    "b = \"1234\"\n",
    "print(b.isdigit())\n",
    "c = \"hello\"\n",
    "print(c.islower())\n",
    "d = \"THIS\"\n",
    "print(d.isupper())\n",
    "e = \"Hi\"\n",
    "print(e.istitle())\n",
    "f = \"PQR123\"\n",
    "print(f.isidentifier())\n",
    "g = \" \"\n",
    "print(g.isspace())\n",
    "h = \"1234\"\n",
    "print(h.isnumeric())"
   ]
  },
  {
   "cell_type": "code",
   "execution_count": null,
   "metadata": {},
   "outputs": [],
   "source": [
    "# wap to remove i-th character from string\n",
    "s = input(\"Enter String: \")\n",
    "i = int(input(\"Enter Index of character to remove: \"))\n",
    "if i < len(s):\n",
    "    s1 = s[0:i]+s[i+1:]\n",
    "    print(s1)\n",
    "else:\n",
    "    print(\"Do not enter index greater than or equal to length\")"
   ]
  },
  {
   "cell_type": "code",
   "execution_count": null,
   "metadata": {},
   "outputs": [],
   "source": [
    "# wap to create a string made of the first middle and last character\n",
    "s = input(\"Enter string: \")\n",
    "s1 = s[0]+s[len(s)//2]+s[-1]\n",
    "print(s1)"
   ]
  },
  {
   "cell_type": "code",
   "execution_count": null,
   "metadata": {},
   "outputs": [],
   "source": [
    "# wap to calculate the sum and average of the digits present in a string\n",
    "s = input(\"Enter String: \")\n",
    "sum = 0\n",
    "count = 0\n",
    "for i in s:\n",
    "    if i.isdigit():\n",
    "        sum = sum + int(i)\n",
    "        count = count+1\n",
    "if count>0:\n",
    "    print(\"Sum =\",sum)\n",
    "    print(\"Average =\",(sum/count))\n",
    "else:\n",
    "    print(\"Enter Valid input\")"
   ]
  },
  {
   "cell_type": "code",
   "execution_count": null,
   "metadata": {},
   "outputs": [],
   "source": [
    "# wap to create caesar cipher encryption\n",
    "s = input(\"Enter string: \")\n",
    "n = int(input(\"Enter number: \"))\n",
    "enc = \"\"\n",
    "for i in s:\n",
    "    if i >= 'A' and i <= 'Z':\n",
    "        if ord(i)+n > ord('Z'):\n",
    "            i = chr(ord(i)+n-26)\n",
    "        else:\n",
    "            i = chr(ord(i)+n)\n",
    "        enc += i\n",
    "    elif i >= 'a' and i<= 'z':\n",
    "        if ord(i)+n > ord('z'):\n",
    "            i = chr(ord(i)+n-26)\n",
    "        else:\n",
    "            i = chr(ord(i)+n)\n",
    "        enc += i\n",
    "print(enc)"
   ]
  },
  {
   "cell_type": "code",
   "execution_count": null,
   "metadata": {},
   "outputs": [],
   "source": [
    "# wap to print uncommon character from given two string\n",
    "s1 = input(\"Enter 1st String: \")\n",
    "s2 = input(\"Enter 2nd String: \")\n",
    "ch=\"\"\n",
    "for i in s1:\n",
    "   if i not in s2:\n",
    "        if i not in ch:\n",
    "           ch += i \n",
    "for j in s2:\n",
    "    if j not in s1:\n",
    "        if j not in ch:\n",
    "            ch += j\n",
    "print(ch)"
   ]
  },
  {
   "cell_type": "code",
   "execution_count": null,
   "metadata": {},
   "outputs": [],
   "source": [
    "# Tuples\n",
    "# they are immutable (read only versions)\n",
    "# you can use heterogenous elements\n",
    "#creation of tuple:\n",
    "t = ()\n",
    "print(type(t))\n",
    "t = (1)\n",
    "print(type(t))"
   ]
  },
  {
   "cell_type": "code",
   "execution_count": null,
   "metadata": {},
   "outputs": [],
   "source": [
    "t = 10,20,30,40 #multivalue tuple\n",
    "print(type(t))"
   ]
  },
  {
   "cell_type": "code",
   "execution_count": null,
   "metadata": {},
   "outputs": [],
   "source": [
    "#accessing elements of tuple\n",
    "#1) By using index\n",
    "t = 10,20,30\n",
    "print(t[1])"
   ]
  },
  {
   "cell_type": "code",
   "execution_count": null,
   "metadata": {},
   "outputs": [],
   "source": [
    "#2)By slice operation\n",
    "t = 10,20,30,40,50,60,70\n",
    "print(t[-1:1:-1])"
   ]
  },
  {
   "cell_type": "code",
   "execution_count": null,
   "metadata": {},
   "outputs": [],
   "source": [
    "#Math operator for tuple \n",
    "#1) Concatenation operator\n",
    "t1 = (1,2,3)\n",
    "t2 = (4,5,6)\n",
    "t = t1+t2\n",
    "print(t)"
   ]
  },
  {
   "cell_type": "code",
   "execution_count": null,
   "metadata": {},
   "outputs": [],
   "source": [
    "#2)Repeatation operator\n",
    "t1 = (1,2,3)\n",
    "t2 = 3*t1\n",
    "print(t2)"
   ]
  },
  {
   "cell_type": "code",
   "execution_count": null,
   "metadata": {},
   "outputs": [],
   "source": [
    "#Imp functions for Tuple\n",
    "#1)len()\n",
    "#2)count() returns 0 if not present \n",
    "#3)index() \n",
    "#4)sorted() returns ascending order list format\n",
    "#5)sorted(t,reverse = True) returns in descending order\n",
    "#6)min()\n",
    "#7)max()\n",
    "#8)sum()"
   ]
  },
  {
   "cell_type": "code",
   "execution_count": null,
   "metadata": {},
   "outputs": [],
   "source": [
    "#Tuple packing and unpacking\n",
    "a = 10\n",
    "b = 20\n",
    "c = 30\n",
    "d = 40\n",
    "t = a,b,c,d\n",
    "print(t)\n",
    "t1 = (10,20,30,40)\n",
    "p,q,r,s = t\n",
    "print(p,q,r,s)"
   ]
  },
  {
   "cell_type": "code",
   "execution_count": null,
   "metadata": {},
   "outputs": [],
   "source": [
    "#reversed\n",
    "a = \"Python\"\n",
    "print(list(reversed(a)))"
   ]
  },
  {
   "cell_type": "code",
   "execution_count": null,
   "metadata": {},
   "outputs": [],
   "source": [
    "#enumarate\n",
    "l = [\"eat\",\"sleep\",\"repeat\"]\n",
    "obj = enumerate(l)\n",
    "print(list(obj))\n",
    "print(\"*****************************\")\n",
    "obj2 = enumerate(l,2)\n",
    "print(list(obj2))\n",
    "print(\"*****************************\")\n",
    "for i in enumerate(l):\n",
    "    print(i)\n",
    "print(\"******************************\")\n",
    "for i,j in enumerate(l,100):\n",
    "    print(i,j)"
   ]
  },
  {
   "cell_type": "code",
   "execution_count": null,
   "metadata": {},
   "outputs": [],
   "source": [
    "# wap to print maximum even number, maximum odd number,minimum even number,minimum odd number and\n",
    "# max and min number\n",
    "import sys\n",
    "t = (1,2,3,4,5,6,7,8,9,10)\n",
    "max1 = 0\n",
    "min1 = sys.maxsize\n",
    "even_max = 0\n",
    "even_min = sys.maxsize\n",
    "odd_max = 0\n",
    "odd_min = sys.maxsize\n",
    "for i in t:\n",
    "    if i%2 == 0:\n",
    "        if i > even_max:\n",
    "            even_max = i\n",
    "        if i < even_min:\n",
    "            even_min = i\n",
    "    elif i%2 > 0:\n",
    "        if i > odd_max:\n",
    "            odd_max = i\n",
    "        if i < odd_min:\n",
    "            odd_min = i\n",
    "for i in t:\n",
    "    if i > max1:\n",
    "        max1 = i\n",
    "    if i < min1:\n",
    "        min1 = i\n",
    "print(even_max,even_min,odd_max,odd_min,max1,min1)"
   ]
  },
  {
   "cell_type": "code",
   "execution_count": null,
   "metadata": {},
   "outputs": [],
   "source": [
    "a = -120\n",
    "temp2 = a\n",
    "new_num = 0\n",
    "if a < 0:\n",
    "    temp2 = -1*a\n",
    "while temp2 > 0:\n",
    "    r = temp2 % 10\n",
    "    new_num = new_num*10 + r\n",
    "    temp2 = temp2 // 10\n",
    "if a< 0:\n",
    "    print(-1*new_num)\n",
    "else:\n",
    "    print(new_num)"
   ]
  },
  {
   "cell_type": "code",
   "execution_count": null,
   "metadata": {},
   "outputs": [],
   "source": [
    "# wap to remove repeated consecutive char and replace with single letter and print new updated string\n",
    "s = input(\"Enter: \")\n",
    "new_input = \"\"\n",
    "for i in range(len(s)-1):\n",
    "    if s[i] != s[i+1]:\n",
    "        new_input += s[i]\n",
    "new_input += s[-1]\n",
    "print(new_input)"
   ]
  },
  {
   "cell_type": "code",
   "execution_count": null,
   "metadata": {},
   "outputs": [],
   "source": [
    "# **Mutable Data Structures**\n",
    "# 1)list[]\n",
    "# *Creation of list:\n",
    "#     i)create empty list: l=[]\n",
    "#     ii)create multi value list\n",
    "#     iii)creation of list with dynamic input(use eval function with input)\n",
    "#     iv)creation of list using list function\n",
    "#     v)creation of list using split function\n",
    "l = []\n",
    "print(type(l))\n",
    "l1 = [1,2,3,4]\n",
    "print(l1)\n",
    "print(type(l1))\n",
    "l2 = eval(input(\"Enter List: \"))\n",
    "print(l2)\n",
    "print(type(l2))\n",
    "l3 = list(range(0,10,2))\n",
    "print(l3)\n",
    "print(type(l3))\n",
    "s = \"Python\"\n",
    "l4 = list(s)\n",
    "print(l4)\n",
    "s = \"Hello Good Morning\"\n",
    "l5 = s.split()\n",
    "print(l5)"
   ]
  },
  {
   "cell_type": "code",
   "execution_count": null,
   "metadata": {},
   "outputs": [],
   "source": [
    "# *List vs Mutability:\n",
    "n = [10,20,30,40]\n",
    "n[1] = 45\n",
    "print(n)\n",
    "# *Accessing elements of list\n",
    "print(n[-2])\n",
    "l = [1,2,3,4,5,6,7,8,9]\n",
    "print(l[-4:-9:-2])\n",
    "print(l[5:0:-2])"
   ]
  },
  {
   "cell_type": "code",
   "execution_count": null,
   "metadata": {},
   "outputs": [],
   "source": [
    "# *loop through the list items by using while loop\n",
    "l = [1,2,3,4,5,6,7,8,9]\n",
    "i = 0\n",
    "while i<len(l):\n",
    "    print(l[i])\n",
    "    i += 1"
   ]
  },
  {
   "cell_type": "code",
   "execution_count": null,
   "metadata": {},
   "outputs": [],
   "source": [
    "#  **Important functions of list\n",
    "#     1)len()\n",
    "#     2)count()\n",
    "#     3)index() (in string its find())\n",
    "#     4)append() (to add item at the end of the list)\n",
    "#     5)insert() (to insert item at specified index item)(if positive index doesn't exist than value is inserted at last and for negative index doesn't exist than value is inserted at first)\n",
    "#     6)extend() (to add all items of one list to another list)\n",
    "#     7)remove() (to remove items from the list (if multiple items than first occurence is removed))*DONT USE INDEX\n",
    "#     8)pop()(to remove and return the last element from the list)*YOU CAN USE INDEX\n",
    "#     9)clear()\n",
    "#     10)reverse()\n",
    "#     11)sort() *ONLY FOR HOMOGENOUS DATA TYPE AND FOR DESCENDING reverse = True\n",
    "l = [\"A\",\"B\"]\n",
    "l.append(\"C\")\n",
    "l.insert(1,99)\n",
    "print(l)\n",
    "l1 = [1,2,3,4]\n",
    "l.extend(l1)\n",
    "print(l)\n",
    "l.remove(2)\n",
    "print(l)\n",
    "a = l.pop()\n",
    "print(a,\"removed from\",l)\n",
    "l1.sort(reverse=True)\n",
    "print(l1)"
   ]
  },
  {
   "cell_type": "code",
   "execution_count": null,
   "metadata": {},
   "outputs": [],
   "source": [
    "# *Mathematical operator:\n",
    "# 1)concatenation operator(if you want to add new element give it in list format ie.l+[9] where l is list)\n",
    "# 2)repeatation operator\n",
    "# 3)Comparison operator for list:\n",
    "# for >,< check the first element \n",
    "x = [\"Dog\",\"Cat\",\"Rat\"]\n",
    "y = [\"Dog\",\"Cat\",\"Rat\"]\n",
    "z = [\"DOG\",\"CAT\",\"RAT\"]\n",
    "print(x == y)\n",
    "print(x == z)\n",
    "print(x != z)"
   ]
  },
  {
   "cell_type": "code",
   "execution_count": null,
   "metadata": {},
   "outputs": [],
   "source": [
    "# wap to print longest common prefix from given list of string if there is no common prefix between all \n",
    "# string than return -1\n",
    "l = eval(input(\"Enter list of string: \"))\n",
    "l.sort()\n",
    "prefix = \"\"\n",
    "for i in range(len(l[0])):\n",
    "    if l[0][i] == l[-1][i]:\n",
    "        prefix += l[0][i]\n",
    "        continue\n",
    "    else:\n",
    "        break\n",
    "if prefix:\n",
    "    print(prefix)\n",
    "else:\n",
    "    print(-1)"
   ]
  },
  {
   "cell_type": "code",
   "execution_count": null,
   "metadata": {},
   "outputs": [],
   "source": [
    "# wap to print all possible combination from the 3 digits of list also find number of unique value\n",
    "#after removing duplicates find sum and product of list\n",
    "n1 = int(input(\"Enter 1st value: \"))\n",
    "n2 = int(input(\"Enter 2nd value: \"))\n",
    "n3 = int(input(\"Enter 3rd value: \"))\n",
    "l = [n1,n2,n3]\n",
    "for i in range(len(l)):\n",
    "    for j in range(len(l)):\n",
    "        for k in range(len(l)):\n",
    "            if (i != j) and (i != k) and (j != k):\n",
    "                print(l[i],l[j],l[k])\n",
    "for i in l:\n",
    "    if l.count(i) == 1:\n",
    "        print(i)\n",
    "    else:\n",
    "        l.remove(i)\n",
    "print(sum(l))\n",
    "prod = 1\n",
    "for i in l:\n",
    "    prod *= i\n",
    "print(prod)\n"
   ]
  },
  {
   "cell_type": "code",
   "execution_count": null,
   "metadata": {},
   "outputs": [],
   "source": [
    "# Aliasing and cloning of list\n",
    "x = [10,20,30,40]\n",
    "y = x\n",
    "y[1] = 99\n",
    "print(x) #change in y is also reflected in x this is aliasing and thus to counter it, cloning is used"
   ]
  },
  {
   "cell_type": "code",
   "execution_count": null,
   "metadata": {},
   "outputs": [],
   "source": [
    "x = [10,20,30,40]\n",
    "y = x[:] #By using slicing,the x is cloned and changes on y won't be reflected on x\n",
    "y[1] = 99 #can also use y = x.copy()\n",
    "print(x)"
   ]
  },
  {
   "cell_type": "code",
   "execution_count": null,
   "metadata": {},
   "outputs": [],
   "source": [
    "#nested list\n",
    "#              0   1\n",
    "x = [10,20,30,[40,50]]\n",
    "#    0  1   2  3     \n",
    "print(x[3][1])"
   ]
  },
  {
   "cell_type": "code",
   "execution_count": null,
   "metadata": {},
   "outputs": [],
   "source": [
    "# wap to count the number of special element in the given list\n",
    "# an element is special if removal of that element makes the list balanced\n",
    "# balanced list is when total of all even index and total of all odd index is equal\n",
    "x = eval(input(\"Enter the list: \"))\n",
    "y = x[:]\n",
    "odd = even = 0\n",
    "count = 0\n",
    "for i in range(len(x)):\n",
    "    z = y.pop(i)\n",
    "    for j in range(len(y)):\n",
    "        if j%2 == 0:\n",
    "            even += y[j]\n",
    "        else:\n",
    "            odd += y[j]\n",
    "    if odd == even:\n",
    "        count += 1\n",
    "    else:\n",
    "        odd = even = 0\n",
    "    y.insert(0,z)    \n",
    "print(count)"
   ]
  },
  {
   "cell_type": "code",
   "execution_count": null,
   "metadata": {},
   "outputs": [],
   "source": [
    "# There are n children standing in a line each child is assigned a rating value given in integer\n",
    "# you are giving candies to these children subject to the following requirement:\n",
    "# 1) Each child must have atleast one candy.\n",
    "# 2) Children with higher rating get more candies than their neighbour.\n",
    "# return the minimum no of candies you need to distribute them to children\n",
    "li = [5,2,4,7,1,3,5,8,3,6]\n",
    "c = [1,1,1,1,1,1,1,1,1,1]\n",
    "for i in range(1,len(li)):\n",
    "    if li[i] > li[i-1]:\n",
    "        c[i] = c[i-1]+1\n",
    "for i in range(len(li)-2,-1,-1):\n",
    "    if li[i]>li[i+1]:\n",
    "        c[i] = max(c[i],c[i+1]+1)\n",
    "print(sum(c))\n",
    "print(c)"
   ]
  },
  {
   "cell_type": "code",
   "execution_count": 1,
   "metadata": {},
   "outputs": [
    {
     "name": "stdout",
     "output_type": "stream",
     "text": [
      "Enter List: [6,5,11,1,2,7,4,12,9]\n",
      "[1, 12, 11, 9, 7, 6, 5, 4, 2]\n"
     ]
    }
   ],
   "source": [
    "# wap to print smallest element from given list then print largest element from the given list then again\n",
    "# print smallest element from remaining list then again print largest element from remaining list and \n",
    "# follow this process till end of the list\n",
    "l = eval(input(\"Enter List: \"))\n",
    "l1 = []\n",
    "for i in range(len(l)):\n",
    "    if i/2 == 0:\n",
    "        l1.append(min(l))\n",
    "        l.remove(min(l))\n",
    "    else:\n",
    "        l1.append(max(l))\n",
    "        l.remove(max(l))\n",
    "print(l1)\n"
   ]
  },
  {
   "cell_type": "code",
   "execution_count": 7,
   "metadata": {},
   "outputs": [
    {
     "name": "stdout",
     "output_type": "stream",
     "text": [
      "Enter List: [1,5,11,12,32,31,99,115,110,10]\n",
      "[11, 31, 99, 115]\n"
     ]
    }
   ],
   "source": [
    "# wap to find number from the given list whose value greater than 10 and first and last digit is odd number\n",
    "l = eval(input(\"Enter List: \"))\n",
    "li = []\n",
    "for i in l:\n",
    "    if i > 10:\n",
    "        if int(str(i)[0])%2 == 1 and int(str(i)[len(str(i))-1])%2 == 1:\n",
    "            li.append(i)\n",
    "print(li)"
   ]
  },
  {
   "cell_type": "code",
   "execution_count": 13,
   "metadata": {},
   "outputs": [
    {
     "name": "stdout",
     "output_type": "stream",
     "text": [
      "{10: 'ABC', 20: 'PQR'}\n",
      "ABC\n",
      "{10: 'XYZ', 20: 'PQR', 30: 'DEF'}\n",
      "{20: 'PQR', 30: 'DEF'}\n",
      "{}\n"
     ]
    }
   ],
   "source": [
    "# Dictionary\n",
    "# when you have to use key value pair\n",
    "#Used in OOPS concept\n",
    "#slicing and indexing are not used in dictionary and set\n",
    "#duplicate keys are not allowed in dictionary\n",
    "#creation of dictionary:\n",
    "d = {} # or use d = dict() for empty dictionary\n",
    "d[10] = \"ABC\"\n",
    "d[20] = \"PQR\"\n",
    "print(d)\n",
    "#accessing elements of dictionary\n",
    "print(d[10])\n",
    "#updating element of dictionary\n",
    "d[10] = \"XYZ\"\n",
    "d[30] = \"DEF\" #if key not present then new key value pair is generated\n",
    "print(d)\n",
    "#deleting element of dictionary\n",
    "del d[10] #del function\n",
    "print(d)\n",
    "#to remove all memory of dictionary\n",
    "d.clear() # also can use del d\n",
    "print(d)"
   ]
  },
  {
   "cell_type": "code",
   "execution_count": 14,
   "metadata": {},
   "outputs": [],
   "source": [
    "#Important function of dictionary\n",
    "# 1)dict() to create empty dictionary\n",
    "# 2)len() return no of keys\n",
    "# 3)clear() \n",
    "# 4)copy() to create exact duplicate dictionary\n",
    "# 5)update() all items present in dictionary x will be added to dictionary d\n",
    "# 6)get() to get value associated with x and returns none if not present\n",
    "# 7)get(40,\"def\") returns def if 40th argument is not found\n",
    "# 8)popitem() it remove key value from dictionary and return it\n",
    "# 9)keys()\n",
    "# 10)values()\n",
    "# 11)items()\n",
    "# 12)setdefault()\n"
   ]
  },
  {
   "cell_type": "code",
   "execution_count": 49,
   "metadata": {},
   "outputs": [
    {
     "name": "stdout",
     "output_type": "stream",
     "text": [
      "Enter Number: 900\n",
      "Nine Hundred\n"
     ]
    }
   ],
   "source": [
    "# wap to print value of number in string format \n",
    "num = int(input(\"Enter Number: \"))\n",
    "d = {1:\"One\",\n",
    "     2:\"Two\",\n",
    "     3:\"Three\",\n",
    "     4:\"Four\",\n",
    "     5:\"Five\",\n",
    "     6:\"Six\",\n",
    "     7:\"Seven\",\n",
    "     8:\"Eight\",\n",
    "     9:\"Nine\",\n",
    "     10:\"Ten\",\n",
    "     11:\"Eleven\",\n",
    "     12:\"Twelve\",\n",
    "     13:\"Thirteen\",\n",
    "     14:\"Fourteen\",\n",
    "     15:\"Fifeteen\",\n",
    "     16:\"Sixteen\",\n",
    "     17:\"Seventeen\",\n",
    "     18:\"Eighteen\",\n",
    "     19:\"Nineteen\",\n",
    "     20:\"Twenty\",\n",
    "     30:\"Thirty\",\n",
    "     40:\"Fourty\",\n",
    "     50:\"Fifty\",\n",
    "     60:\"Sixty\",\n",
    "     70:\"Seventy\",\n",
    "     80:\"Eighty\",\n",
    "     90:\"Ninety\",\n",
    "     100:\"Hundred\"}\n",
    "temp = num\n",
    "if num <= 20:\n",
    "    print(d[num])\n",
    "if num < 100 and num %10 == 0:\n",
    "    print(d[num])\n",
    "if num > 20 and num < 100:\n",
    "    print(d[num//10*10],d[num%10])\n",
    "if num >= 100 and num <= 999:\n",
    "    if (num%100)//10 == 0 and num%10 == 0:\n",
    "        print(d[(num/100)],d[100])\n",
    "    elif (num%100)//10 == 0:\n",
    "        print(d[(num//100)],d[100],d[num%10])\n",
    "    elif num%10 == 0:\n",
    "        print(d[(num//100)],d[100],d[(num%100)//10*10])\n",
    "    else:\n",
    "        print(d[(num//100)],d[100],d[(num%100)//10*10],d[num%10])\n",
    "else:\n",
    "    print(\"Enter between 0 and 999\")"
   ]
  },
  {
   "cell_type": "code",
   "execution_count": 50,
   "metadata": {},
   "outputs": [
    {
     "name": "stdout",
     "output_type": "stream",
     "text": [
      "Enter Sentence: the quick brown fox jumps over the lazy dog\n",
      "{'the': 2, 'quick': 1, 'brown': 1, 'fox': 1, 'jumps': 1, 'over': 1, 'lazy': 1, 'dog': 1}\n"
     ]
    }
   ],
   "source": [
    "# wap to count the occurances of each words in a given sentence\n",
    "s = input(\"Enter Sentence: \")\n",
    "l = s.split(\" \")\n",
    "d = {}\n",
    "for i in l:\n",
    "    d[i] = s.count(i)\n",
    "print(d)"
   ]
  },
  {
   "cell_type": "code",
   "execution_count": 2,
   "metadata": {},
   "outputs": [
    {
     "name": "stdout",
     "output_type": "stream",
     "text": [
      "200\n"
     ]
    }
   ],
   "source": [
    "# Lambda Function:\n",
    "s = lambda a,b : a*b\n",
    "print(s(10,20))"
   ]
  },
  {
   "cell_type": "code",
   "execution_count": 9,
   "metadata": {},
   "outputs": [
    {
     "name": "stdout",
     "output_type": "stream",
     "text": [
      "[2, 4, 6, 8, 10]\n",
      "[2, 6, 12, 20]\n"
     ]
    }
   ],
   "source": [
    "# Lamda imp functions\n",
    "# 1)map()\n",
    "l1 = [1,2,3,4,5]\n",
    "l2 = list(map(lambda x : x*2,l1))\n",
    "print(l2)\n",
    "l3 = [1,2,3,4]\n",
    "l4 = [2,3,4,5]\n",
    "l5 = list(map(lambda x,y : x*y,l3,l4))\n",
    "print(l5)"
   ]
  },
  {
   "cell_type": "code",
   "execution_count": 11,
   "metadata": {},
   "outputs": [
    {
     "name": "stdout",
     "output_type": "stream",
     "text": [
      "150\n",
      "12000000\n"
     ]
    }
   ],
   "source": [
    "#2)reduce()\n",
    "from functools import * #imp line write this before using reduce()\n",
    "l1 = [10,20,30,40,50]\n",
    "sum = reduce(lambda x,y: x+y,l1)\n",
    "multi = reduce(lambda x,y : x*y,l1)\n",
    "print(sum)\n",
    "print(multi)"
   ]
  },
  {
   "cell_type": "code",
   "execution_count": 13,
   "metadata": {},
   "outputs": [
    {
     "name": "stdout",
     "output_type": "stream",
     "text": [
      "[0, 10, 20, 30]\n"
     ]
    }
   ],
   "source": [
    "#3)filter()\n",
    "l1 = [0,5,10,15,20,25,30]\n",
    "l2 = list(filter(lambda x: x%2 == 0,l1))\n",
    "print(l2)"
   ]
  },
  {
   "cell_type": "code",
   "execution_count": 14,
   "metadata": {},
   "outputs": [
    {
     "name": "stdout",
     "output_type": "stream",
     "text": [
      "Enter List: [2,4,-6,-9,11,-12,14,-5,17]\n",
      "48\n",
      "-32\n"
     ]
    }
   ],
   "source": [
    "# wap to calculate the sum of positive and negative numbers of given list by using lambda function\n",
    "l1 = eval(input(\"Enter List: \"))\n",
    "positive = list(filter(lambda x: x>0,l1))\n",
    "negative = list(filter(lambda x: x<0,l1))\n",
    "print(reduce(lambda x,y:x+y,positive))\n",
    "print(reduce(lambda x,y:x+y,negative))"
   ]
  },
  {
   "cell_type": "code",
   "execution_count": 19,
   "metadata": {},
   "outputs": [
    {
     "name": "stdout",
     "output_type": "stream",
     "text": [
      "Enter List:  [2,4,-6,-9,11,-12,14,-5,17]\n",
      "[2, 4, 11, 14, 17, -12, -9, -6, -5]\n"
     ]
    }
   ],
   "source": [
    "# wap to rearrange positive and negative number in given list using lambda function\n",
    "l1 = eval(input(\"Enter List: \"))\n",
    "positive = list(filter(lambda x: x>0,l1))\n",
    "negative = list(filter(lambda x: x<0,l1))\n",
    "positive.sort()\n",
    "negative.sort()\n",
    "l2 = positive+negative\n",
    "print(l2)"
   ]
  },
  {
   "cell_type": "code",
   "execution_count": 22,
   "metadata": {},
   "outputs": [
    {
     "name": "stdout",
     "output_type": "stream",
     "text": [
      "Enter List: [19,65,57,39,152,639,121,190]\n",
      "[19, 39, 57, 65, 152, 190]\n"
     ]
    }
   ],
   "source": [
    "# wap to find numbers divisible by 19 or 13  from list using lambda function \n",
    "l1 = eval(input(\"Enter List: \"))\n",
    "l2 = list(filter(lambda x: x%19 == 0 or x%13 == 0,l1))\n",
    "l2.sort()\n",
    "print(l2)"
   ]
  },
  {
   "cell_type": "code",
   "execution_count": 30,
   "metadata": {},
   "outputs": [
    {
     "name": "stdout",
     "output_type": "stream",
     "text": [
      "Enter 1st String: Red Green\n",
      "Enter 2nd String: Red Green\n",
      "7\n"
     ]
    }
   ],
   "source": [
    "# wap to take 2 string and count the number of times each string contains same 3 letters at same index\n",
    "s1 = input(\"Enter 1st String: \")\n",
    "s2 = input(\"Enter 2nd String: \")\n",
    "count = 0\n",
    "for i in range(len(s1)-2):\n",
    "    if s1[i:i+3] == s2[i:i+3] :\n",
    "        count += 1\n",
    "print(count)"
   ]
  },
  {
   "cell_type": "code",
   "execution_count": 41,
   "metadata": {},
   "outputs": [
    {
     "name": "stdout",
     "output_type": "stream",
     "text": [
      "Enter String: kkkkk\n",
      "True\n"
     ]
    }
   ],
   "source": [
    "# wap to check entered string is symmetric or not\n",
    "s = input(\"Enter String: \")\n",
    "mid = len(s)//2\n",
    "if s[0:mid] == s[mid+1:len(s)]:\n",
    "    print(True)\n",
    "else:\n",
    "    print(False)"
   ]
  },
  {
   "cell_type": "code",
   "execution_count": 59,
   "metadata": {},
   "outputs": [
    {
     "name": "stdout",
     "output_type": "stream",
     "text": [
      "Enter String: this is python programming\n",
      "ti spto rgamnhsi yhnpormig\n",
      "this is python programming\n"
     ]
    }
   ],
   "source": [
    "# wap to encrypt a message and also decrypt a message\n",
    "s = input(\"Enter String: \")\n",
    "s1 = s[::2]\n",
    "s2 = s[1::2]\n",
    "enc = s1 + s2\n",
    "final = \"\"\n",
    "print(\"Encrypted:\",enc)\n",
    "for i in range(len(enc)//2):\n",
    "    final += enc[i] + enc[len(enc)//2 + i]\n",
    "print(\"Decrypted:\",final)\n"
   ]
  },
  {
   "cell_type": "code",
   "execution_count": null,
   "metadata": {},
   "outputs": [],
   "source": []
  }
 ],
 "metadata": {
  "kernelspec": {
   "display_name": "Python 3",
   "language": "python",
   "name": "python3"
  },
  "language_info": {
   "codemirror_mode": {
    "name": "ipython",
    "version": 3
   },
   "file_extension": ".py",
   "mimetype": "text/x-python",
   "name": "python",
   "nbconvert_exporter": "python",
   "pygments_lexer": "ipython3",
   "version": "3.8.5"
  }
 },
 "nbformat": 4,
 "nbformat_minor": 4
}
